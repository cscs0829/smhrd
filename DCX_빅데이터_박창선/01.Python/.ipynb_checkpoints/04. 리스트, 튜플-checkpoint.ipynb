{
 "cells": [
  {
   "cell_type": "markdown",
   "id": "96a4335f-52c9-4f54-ad7d-77405dbc2342",
   "metadata": {},
   "source": [
    "### 리스트(list) \n",
    "- 순서가 있는 <b>수정 가능</b>한 객체의 집합\n",
    "- <b>대괄호 `[]`</b>로 작성되어지며, **내부** 요소는 콤마 `,`로 구분지어짐"
   ]
  },
  {
   "cell_type": "code",
   "execution_count": null,
   "id": "4dbf6fae-1d5f-4fdc-b8b5-00890d49f074",
   "metadata": {},
   "outputs": [],
   "source": [
    "# 리스트 생성\n",
    "list1 = []\n",
    "list2 = [1,2,3]\n",
    "list3 = ['my', 'name']\n",
    "list4 = [1, 2, 'a', 'b', [1,2,'a','b']]"
   ]
  },
  {
   "cell_type": "markdown",
   "id": "71181caf-4a0b-423f-9ad2-4bd0b2182ae9",
   "metadata": {},
   "source": [
    "### 리스트 인덱싱 슬라이싱"
   ]
  },
  {
   "cell_type": "code",
   "execution_count": 3,
   "id": "04948a0e-0fed-45d1-9d6d-d964e381f883",
   "metadata": {},
   "outputs": [
    {
     "data": {
      "text/plain": [
       "[2, 5, 7, 9, 11]"
      ]
     },
     "execution_count": 3,
     "metadata": {},
     "output_type": "execute_result"
    }
   ],
   "source": [
    "list1 = [2, 5, 7, 9, 11]\n",
    "list1"
   ]
  },
  {
   "cell_type": "code",
   "execution_count": 6,
   "id": "5faed10e-8f19-4918-82da-3e011759d448",
   "metadata": {},
   "outputs": [
    {
     "data": {
      "text/plain": [
       "5"
      ]
     },
     "execution_count": 6,
     "metadata": {},
     "output_type": "execute_result"
    }
   ],
   "source": [
    "list1[1] #인덱싱"
   ]
  },
  {
   "cell_type": "code",
   "execution_count": 5,
   "id": "10f83fa5-4e9c-4d24-90b9-61fdf637b8e9",
   "metadata": {},
   "outputs": [
    {
     "data": {
      "text/plain": [
       "14"
      ]
     },
     "execution_count": 5,
     "metadata": {},
     "output_type": "execute_result"
    }
   ],
   "source": [
    "list1[1] + list1[3]"
   ]
  },
  {
   "cell_type": "code",
   "execution_count": 7,
   "id": "6cdcdbf7-a7c1-476f-9663-63ed49929f69",
   "metadata": {},
   "outputs": [
    {
     "data": {
      "text/plain": [
       "[1, 2, 3, ['a', 'b', 'c']]"
      ]
     },
     "execution_count": 7,
     "metadata": {},
     "output_type": "execute_result"
    }
   ],
   "source": [
    "# 2차원 데이터 인덱싱\n",
    "list2 = [1, 2, 3, ['a', 'b', 'c']]\n",
    "list2"
   ]
  },
  {
   "cell_type": "code",
   "execution_count": 9,
   "id": "20e8b82a-bf8b-46c8-b99f-2d6fc93f68b0",
   "metadata": {},
   "outputs": [
    {
     "data": {
      "text/plain": [
       "'b'"
      ]
     },
     "execution_count": 9,
     "metadata": {},
     "output_type": "execute_result"
    }
   ],
   "source": [
    "# 'b' 접근!\n",
    "list2[3][1]"
   ]
  },
  {
   "cell_type": "code",
   "execution_count": 10,
   "id": "c6dc6cc2-e24a-495c-8696-d938c37d47f4",
   "metadata": {},
   "outputs": [
    {
     "data": {
      "text/plain": [
       "[2, 3]"
      ]
     },
     "execution_count": 10,
     "metadata": {},
     "output_type": "execute_result"
    }
   ],
   "source": [
    "# 슬라이싱\n",
    "list2[1:3]"
   ]
  },
  {
   "cell_type": "code",
   "execution_count": 11,
   "id": "8e2c925b-fdbd-43f7-8023-c7ebe1a3300b",
   "metadata": {},
   "outputs": [
    {
     "data": {
      "text/plain": [
       "[1, 2, 3, 4, 5, 6]"
      ]
     },
     "execution_count": 11,
     "metadata": {},
     "output_type": "execute_result"
    }
   ],
   "source": [
    "# 연산\n",
    "list3 = [1,2,3]\n",
    "list4 = [4,5,6]\n",
    "\n",
    "list3 + list4 # 리스트의 합은 이어붙이기!"
   ]
  },
  {
   "cell_type": "code",
   "execution_count": 12,
   "id": "415dd390-3756-46ab-bd73-cf78cd6440bd",
   "metadata": {},
   "outputs": [
    {
     "data": {
      "text/plain": [
       "[1, 2, 3, 1, 2, 3, 1, 2, 3, 1, 2, 3, 1, 2, 3]"
      ]
     },
     "execution_count": 12,
     "metadata": {},
     "output_type": "execute_result"
    }
   ],
   "source": [
    "list3 * 5"
   ]
  },
  {
   "cell_type": "code",
   "execution_count": 13,
   "id": "862d2862-c82a-4f48-bbf4-d29937e00978",
   "metadata": {},
   "outputs": [
    {
     "data": {
      "text/plain": [
       "'****************************************'"
      ]
     },
     "execution_count": 13,
     "metadata": {},
     "output_type": "execute_result"
    }
   ],
   "source": [
    "\"*\" * 40"
   ]
  },
  {
   "cell_type": "code",
   "execution_count": 16,
   "id": "090f3edf-87ac-42b8-93f3-c42adbabd723",
   "metadata": {},
   "outputs": [
    {
     "name": "stdin",
     "output_type": "stream",
     "text": [
      "몇 줄을 찍을래요? >>  8\n"
     ]
    },
    {
     "name": "stdout",
     "output_type": "stream",
     "text": [
      "*\n",
      "**\n",
      "***\n",
      "****\n",
      "*****\n",
      "******\n",
      "*******\n",
      "********\n"
     ]
    }
   ],
   "source": [
    "# 별찍기\n",
    "n = int(input(\"몇 줄을 찍을래요? >> \"))\n",
    "\n",
    "for i in range(1, n+1) :\n",
    "    print(\"*\" * i)"
   ]
  },
  {
   "cell_type": "code",
   "execution_count": 17,
   "id": "7e07727e-c6d0-404f-b6bf-6fc1fd9c2693",
   "metadata": {},
   "outputs": [
    {
     "data": {
      "text/plain": [
       "[0, 1, 2, 3, 4, 5, 6]"
      ]
     },
     "execution_count": 17,
     "metadata": {},
     "output_type": "execute_result"
    }
   ],
   "source": [
    "list5 = [0,1,2,3,4,5,6]\n",
    "list5"
   ]
  },
  {
   "cell_type": "code",
   "execution_count": 18,
   "id": "cef6dc51-ad43-45c8-977f-4d32bf3edd35",
   "metadata": {},
   "outputs": [],
   "source": [
    "# 리스트 요소 추가 - 맨 뒤에 쌓기 \n",
    "list5.append(7)"
   ]
  },
  {
   "cell_type": "code",
   "execution_count": 19,
   "id": "7cb401e2-b452-49d5-8311-071ac88815c6",
   "metadata": {},
   "outputs": [
    {
     "data": {
      "text/plain": [
       "[0, 1, 2, 3, 4, 5, 6, 7]"
      ]
     },
     "execution_count": 19,
     "metadata": {},
     "output_type": "execute_result"
    }
   ],
   "source": [
    "list5"
   ]
  },
  {
   "cell_type": "code",
   "execution_count": 22,
   "id": "76c5da47-c580-446f-8a21-10d2302526f5",
   "metadata": {},
   "outputs": [],
   "source": [
    "# insert(인덱스, 값)\n",
    "list5.insert(3, 10)"
   ]
  },
  {
   "cell_type": "code",
   "execution_count": 23,
   "id": "1942a881-b0b0-46cf-ad5e-dfafd5fcf86e",
   "metadata": {},
   "outputs": [
    {
     "data": {
      "text/plain": [
       "[0, 1, 2, 10, 3, 4, 5, 6, 7]"
      ]
     },
     "execution_count": 23,
     "metadata": {},
     "output_type": "execute_result"
    }
   ],
   "source": [
    "list5"
   ]
  },
  {
   "cell_type": "code",
   "execution_count": 26,
   "id": "d30925cf-dadc-404f-877b-03ba2016eb31",
   "metadata": {},
   "outputs": [],
   "source": [
    "# 리스트 요소 수정\n",
    "# 지정(인덱싱, 슬라이싱)하고 대입\n",
    "list5[3] = 3"
   ]
  },
  {
   "cell_type": "code",
   "execution_count": 27,
   "id": "e768f049-8f4b-4906-9f80-e7a451c5717f",
   "metadata": {},
   "outputs": [
    {
     "data": {
      "text/plain": [
       "[0, 1, 2, 3, 3, 4, 5, 6, 7]"
      ]
     },
     "execution_count": 27,
     "metadata": {},
     "output_type": "execute_result"
    }
   ],
   "source": [
    "list5"
   ]
  },
  {
   "cell_type": "code",
   "execution_count": 33,
   "id": "9de825ce-4c51-467a-8c03-bb80048ec93a",
   "metadata": {},
   "outputs": [],
   "source": [
    "# 리스트 요소 삭제\n",
    "# remove(값) - 중복값이 있는 경우, 처음 요소만 삭제\n",
    "list5.remove(3)"
   ]
  },
  {
   "cell_type": "code",
   "execution_count": 34,
   "id": "8d172354-3b04-4fe9-a4e3-477af13391d2",
   "metadata": {},
   "outputs": [
    {
     "data": {
      "text/plain": [
       "[0, 1, 2, 6, 7]"
      ]
     },
     "execution_count": 34,
     "metadata": {},
     "output_type": "execute_result"
    }
   ],
   "source": [
    "list5"
   ]
  },
  {
   "cell_type": "code",
   "execution_count": 35,
   "id": "5abf07c6-5074-4844-a548-21e670d93713",
   "metadata": {},
   "outputs": [],
   "source": [
    "#키워드 \n",
    "# del 인덱싱, 슬라이싱 -> 리스트, 딕셔너리 등 다른 자료형에서도 동일\n",
    "del list5[-3]"
   ]
  },
  {
   "cell_type": "code",
   "execution_count": 36,
   "id": "e0f07fa4-b5b2-42dd-8920-6a84d194f720",
   "metadata": {},
   "outputs": [
    {
     "data": {
      "text/plain": [
       "[0, 1, 6, 7]"
      ]
     },
     "execution_count": 36,
     "metadata": {},
     "output_type": "execute_result"
    }
   ],
   "source": [
    "list5"
   ]
  },
  {
   "cell_type": "code",
   "execution_count": 37,
   "id": "bdd9f860-3cdb-4e5f-aa68-9afe0e2fffe4",
   "metadata": {},
   "outputs": [
    {
     "data": {
      "text/plain": [
       "[9, 77, 13, 51, 100, 3]"
      ]
     },
     "execution_count": 37,
     "metadata": {},
     "output_type": "execute_result"
    }
   ],
   "source": [
    "# 기타 기능 - 정렬\n",
    "list6 = [9, 77, 13, 51, 100, 3]\n",
    "list6"
   ]
  },
  {
   "cell_type": "code",
   "execution_count": 38,
   "id": "f0750b7f-931b-480a-b832-f455a0a947af",
   "metadata": {},
   "outputs": [],
   "source": [
    "list6.sort() # 기본값으로는 오름차순"
   ]
  },
  {
   "cell_type": "code",
   "execution_count": 39,
   "id": "63558ef3-04f4-480d-aeef-1bf0536f3025",
   "metadata": {},
   "outputs": [
    {
     "data": {
      "text/plain": [
       "[3, 9, 13, 51, 77, 100]"
      ]
     },
     "execution_count": 39,
     "metadata": {},
     "output_type": "execute_result"
    }
   ],
   "source": [
    "list6"
   ]
  },
  {
   "cell_type": "code",
   "execution_count": 44,
   "id": "542cac24-e330-453d-bed7-30c83886529f",
   "metadata": {},
   "outputs": [],
   "source": [
    "list6.sort(reverse = True) # 속성 변경 -> 내림차순으로 변경"
   ]
  },
  {
   "cell_type": "code",
   "execution_count": 42,
   "id": "4ba6d021-abe9-4233-a3ed-0b63d1a055e3",
   "metadata": {},
   "outputs": [
    {
     "data": {
      "text/plain": [
       "[100, 77, 51, 13, 9, 3]"
      ]
     },
     "execution_count": 42,
     "metadata": {},
     "output_type": "execute_result"
    }
   ],
   "source": [
    "list6"
   ]
  },
  {
   "cell_type": "code",
   "execution_count": 45,
   "id": "c2c9dd84-0766-443a-b3c2-e3856dab4c3f",
   "metadata": {},
   "outputs": [
    {
     "name": "stdout",
     "output_type": "stream",
     "text": [
      "안녕하세요안녕하세요\n"
     ]
    }
   ],
   "source": [
    "print(\"안녕하세요\", end = '') # 다른 함수에도 마찬가지로 속성(키워드 매개변수)이 존재!\n",
    "print(\"안녕하세요\")"
   ]
  },
  {
   "cell_type": "code",
   "execution_count": 46,
   "id": "b5e81752-3089-4d7f-ab1d-f08f22ae3210",
   "metadata": {},
   "outputs": [
    {
     "data": {
      "text/plain": [
       "6"
      ]
     },
     "execution_count": 46,
     "metadata": {},
     "output_type": "execute_result"
    }
   ],
   "source": [
    "# 길이값 확인\n",
    "len(list6)"
   ]
  },
  {
   "cell_type": "markdown",
   "id": "2ab40d1b-86e2-4a7f-87bb-115f0437c689",
   "metadata": {},
   "source": [
    "### 튜플(tuple) \n",
    "- 순서가 있는 **수정 불가능**한 객체의 집합\n",
    "- <b>소괄호 `()`</b>로 작성되어지며, **내부** 요소는 콤마 `,`로 구분지어짐"
   ]
  },
  {
   "cell_type": "code",
   "execution_count": 47,
   "id": "796f3cfc-ca8f-4b3c-92b3-8ece32725343",
   "metadata": {},
   "outputs": [],
   "source": [
    "# 튜플 생성\n",
    "tuple1 = ()\n",
    "tuple2 = (1,2,3)\n",
    "tuple3 = ('my', 'name')\n",
    "tuple4 = (1, 2, 'a', 'b', (1,2,'a','b'))"
   ]
  },
  {
   "cell_type": "code",
   "execution_count": 51,
   "id": "7257e628-f92c-49b2-93d3-5f20f8a6f325",
   "metadata": {},
   "outputs": [
    {
     "ename": "TypeError",
     "evalue": "'tuple' object does not support item assignment",
     "output_type": "error",
     "traceback": [
      "\u001b[1;31m---------------------------------------------------------------------------\u001b[0m",
      "\u001b[1;31mTypeError\u001b[0m                                 Traceback (most recent call last)",
      "Cell \u001b[1;32mIn[51], line 2\u001b[0m\n\u001b[0;32m      1\u001b[0m \u001b[38;5;66;03m# 수정시도 - 튜플은 추가, 수정, 삭제 불가능!\u001b[39;00m\n\u001b[1;32m----> 2\u001b[0m tuple4[\u001b[38;5;241m3\u001b[39m] \u001b[38;5;241m=\u001b[39m \u001b[38;5;241m4\u001b[39m\n",
      "\u001b[1;31mTypeError\u001b[0m: 'tuple' object does not support item assignment"
     ]
    }
   ],
   "source": [
    "# 수정시도 - 튜플은 추가, 수정, 삭제 불가능!\n",
    "tuple4[3] = 4"
   ]
  },
  {
   "cell_type": "code",
   "execution_count": 52,
   "id": "58b90210-c6c8-46fb-8208-29387abc047c",
   "metadata": {},
   "outputs": [
    {
     "data": {
      "text/plain": [
       "5"
      ]
     },
     "execution_count": 52,
     "metadata": {},
     "output_type": "execute_result"
    }
   ],
   "source": [
    "len(tuple4)"
   ]
  },
  {
   "cell_type": "code",
   "execution_count": 53,
   "id": "c85bf547-3549-4bbd-98ae-ada2f5983f06",
   "metadata": {},
   "outputs": [
    {
     "ename": "AttributeError",
     "evalue": "'tuple' object has no attribute 'sort'",
     "output_type": "error",
     "traceback": [
      "\u001b[1;31m---------------------------------------------------------------------------\u001b[0m",
      "\u001b[1;31mAttributeError\u001b[0m                            Traceback (most recent call last)",
      "Cell \u001b[1;32mIn[53], line 2\u001b[0m\n\u001b[0;32m      1\u001b[0m \u001b[38;5;66;03m# 정렬은 ??\u001b[39;00m\n\u001b[1;32m----> 2\u001b[0m tuple4\u001b[38;5;241m.\u001b[39msort()\n",
      "\u001b[1;31mAttributeError\u001b[0m: 'tuple' object has no attribute 'sort'"
     ]
    }
   ],
   "source": [
    "# 정렬은 ??\n",
    "tuple4.sort()"
   ]
  },
  {
   "cell_type": "code",
   "execution_count": 54,
   "id": "e460944e-012a-403f-aa4f-2d39eb1ecf72",
   "metadata": {},
   "outputs": [
    {
     "data": {
      "text/plain": [
       "(2, 1)"
      ]
     },
     "execution_count": 54,
     "metadata": {},
     "output_type": "execute_result"
    }
   ],
   "source": [
    "# 치환\n",
    "a = 1\n",
    "b = 2\n",
    "\n",
    "temp = a\n",
    "a = b \n",
    "b = temp\n",
    "\n",
    "a, b #소괄호는 튜플"
   ]
  },
  {
   "cell_type": "code",
   "execution_count": null,
   "id": "b5f3b83c-b691-40a6-932f-374365099131",
   "metadata": {},
   "outputs": [],
   "source": []
  },
  {
   "cell_type": "code",
   "execution_count": null,
   "id": "01f8e771-29a5-4464-b9b5-756272352f66",
   "metadata": {},
   "outputs": [],
   "source": []
  },
  {
   "cell_type": "code",
   "execution_count": null,
   "id": "e698a7e5-a9df-444f-94a8-42262fbf3ff0",
   "metadata": {},
   "outputs": [],
   "source": []
  },
  {
   "cell_type": "code",
   "execution_count": null,
   "id": "80012261-c357-4daf-bd9b-25e0cf3f9eaf",
   "metadata": {},
   "outputs": [],
   "source": []
  },
  {
   "cell_type": "code",
   "execution_count": null,
   "id": "252bb3a9-43d3-43f2-a6a5-fd6f6c6e947f",
   "metadata": {},
   "outputs": [],
   "source": []
  },
  {
   "cell_type": "code",
   "execution_count": null,
   "id": "f6c7fbba-6653-448d-842f-3ff08547c441",
   "metadata": {},
   "outputs": [],
   "source": []
  },
  {
   "cell_type": "code",
   "execution_count": null,
   "id": "738aedaa-c9ec-4491-b59c-8df57ec920cf",
   "metadata": {},
   "outputs": [],
   "source": []
  },
  {
   "cell_type": "code",
   "execution_count": null,
   "id": "63ed2f2b-e364-49c8-80a2-60311f2a8226",
   "metadata": {},
   "outputs": [],
   "source": []
  },
  {
   "cell_type": "code",
   "execution_count": null,
   "id": "d18c98d1-74ac-4721-b8e3-9136886f7246",
   "metadata": {},
   "outputs": [],
   "source": []
  }
 ],
 "metadata": {
  "kernelspec": {
   "display_name": "Python 3 (ipykernel)",
   "language": "python",
   "name": "python3"
  },
  "language_info": {
   "codemirror_mode": {
    "name": "ipython",
    "version": 3
   },
   "file_extension": ".py",
   "mimetype": "text/x-python",
   "name": "python",
   "nbconvert_exporter": "python",
   "pygments_lexer": "ipython3",
   "version": "3.12.7"
  }
 },
 "nbformat": 4,
 "nbformat_minor": 5
}
