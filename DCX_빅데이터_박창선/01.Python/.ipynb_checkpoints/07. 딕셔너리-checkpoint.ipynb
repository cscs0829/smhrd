{
 "cells": [
  {
   "cell_type": "markdown",
   "id": "cc389777-07aa-4d9f-b5e3-1a288be727d0",
   "metadata": {},
   "source": [
    "### 딕셔너리(dictionary)\n",
    "- 사전이라는 뜻\n",
    "- {key:value, key:value...}"
   ]
  },
  {
   "cell_type": "code",
   "execution_count": 2,
   "id": "b668c683-7527-4ab6-b283-2ad1c64b3ef9",
   "metadata": {},
   "outputs": [
    {
     "data": {
      "text/plain": [
       "{'name': 'BG', 'age': 20, 'phone': '010-1111-1111'}"
      ]
     },
     "execution_count": 2,
     "metadata": {},
     "output_type": "execute_result"
    }
   ],
   "source": [
    "# 딕셔너리 생성\n",
    "dict1 = {\"name\":\"BG\", \"age\":20, \"phone\":\"010-1111-1111\"}\n",
    "dict1"
   ]
  },
  {
   "cell_type": "code",
   "execution_count": 5,
   "id": "67ed880e-2985-4d89-8998-0c1f334ded64",
   "metadata": {},
   "outputs": [
    {
     "data": {
      "text/plain": [
       "20"
      ]
     },
     "execution_count": 5,
     "metadata": {},
     "output_type": "execute_result"
    }
   ],
   "source": [
    "# 딕셔너리 요소 접근\n",
    "dict1[\"age\"]"
   ]
  },
  {
   "cell_type": "markdown",
   "id": "9e7446f3-1e0a-4a01-87c9-0bb53eaf08b0",
   "metadata": {},
   "source": [
    "#### 딕셔너리 추가, 수정, 삭제 등"
   ]
  },
  {
   "cell_type": "code",
   "execution_count": 209,
   "id": "cfec2fcd-eed2-46f6-ac0d-ce358bba6107",
   "metadata": {
    "scrolled": true
   },
   "outputs": [
    {
     "data": {
      "text/plain": [
       "{'name': 'BG', 'age': 20, 'phone': '010-1111-1111', 'birth': '01/01'}"
      ]
     },
     "execution_count": 209,
     "metadata": {},
     "output_type": "execute_result"
    }
   ],
   "source": [
    "# 추가, 수정\n",
    "# 추가 : 없는 키값을 지정하고 대입\n",
    "dict1[\"birth\"] = \"01/01\"\n",
    "dict1\n",
    "\n"
   ]
  },
  {
   "cell_type": "code",
   "execution_count": 211,
   "id": "9421f17a-cae8-4168-842a-83b3a2aeed30",
   "metadata": {},
   "outputs": [
    {
     "data": {
      "text/plain": [
       "{'name': 'BG', 'age': 20, 'phone': '010-1111-1111', 'birth': '02/01'}"
      ]
     },
     "execution_count": 211,
     "metadata": {},
     "output_type": "execute_result"
    }
   ],
   "source": [
    "# 수정 : 있는 키값을 지정하고 대입\n",
    "dict1[\"birth\"] = \"02/01\"\n",
    "dict1"
   ]
  },
  {
   "cell_type": "code",
   "execution_count": 223,
   "id": "03a9c822-cc98-4783-844a-43f29bf6f613",
   "metadata": {},
   "outputs": [
    {
     "ename": "KeyError",
     "evalue": "'phone'",
     "output_type": "error",
     "traceback": [
      "\u001b[1;31m---------------------------------------------------------------------------\u001b[0m",
      "\u001b[1;31mKeyError\u001b[0m                                  Traceback (most recent call last)",
      "Cell \u001b[1;32mIn[223], line 2\u001b[0m\n\u001b[0;32m      1\u001b[0m \u001b[38;5;66;03m# 삭제\u001b[39;00m\n\u001b[1;32m----> 2\u001b[0m \u001b[38;5;28;01mdel\u001b[39;00m dict1[\u001b[38;5;124m'\u001b[39m\u001b[38;5;124mphone\u001b[39m\u001b[38;5;124m'\u001b[39m]\n\u001b[0;32m      3\u001b[0m dict1\n",
      "\u001b[1;31mKeyError\u001b[0m: 'phone'"
     ]
    }
   ],
   "source": [
    "# 삭제\n",
    "del dict1['phone']\n",
    "dict1"
   ]
  },
  {
   "cell_type": "code",
   "execution_count": 227,
   "id": "a1b05568-6e7b-4066-a27c-4d4d8b8b37e1",
   "metadata": {},
   "outputs": [
    {
     "data": {
      "text/plain": [
       "dict_keys(['name', 'age', 'birth'])"
      ]
     },
     "execution_count": 227,
     "metadata": {},
     "output_type": "execute_result"
    }
   ],
   "source": [
    "# 키값에만 접근\n",
    "dict1.keys()"
   ]
  },
  {
   "cell_type": "code",
   "execution_count": 228,
   "id": "ce6a2d08-e992-4ec2-a538-f05c390d93e6",
   "metadata": {},
   "outputs": [
    {
     "data": {
      "text/plain": [
       "dict_values(['BG', 20, '02/01'])"
      ]
     },
     "execution_count": 228,
     "metadata": {},
     "output_type": "execute_result"
    }
   ],
   "source": [
    "# 밸류값에만 접근\n",
    "dict1.values()"
   ]
  },
  {
   "cell_type": "code",
   "execution_count": 229,
   "id": "2de9c4d7-84b9-456f-841c-4b9a61727e3d",
   "metadata": {},
   "outputs": [
    {
     "data": {
      "text/plain": [
       "dict_items([('name', 'BG'), ('age', 20), ('birth', '02/01')])"
      ]
     },
     "execution_count": 229,
     "metadata": {},
     "output_type": "execute_result"
    }
   ],
   "source": [
    "# 둘 다 접근\n",
    "dict1.items()"
   ]
  },
  {
   "cell_type": "markdown",
   "id": "e86cdc07-eb4c-40cf-8154-05343e54aaa2",
   "metadata": {},
   "source": [
    "### 딕셔너리 for문 활용법"
   ]
  },
  {
   "cell_type": "code",
   "execution_count": 233,
   "id": "9c8e4ce7-cc82-45c7-9ec7-80c5b7316adb",
   "metadata": {},
   "outputs": [
    {
     "data": {
      "text/plain": [
       "{'이름': ['이주희', '임승환', '조준용', '벅원호', '류이수'],\n",
       " 'python': [90, 100, 85, 90, 80],\n",
       " 'Java': [85, 80, 100, 95, 85],\n",
       " 'HTML/CSS': [75, 70, 90, 80, 90]}"
      ]
     },
     "execution_count": 233,
     "metadata": {},
     "output_type": "execute_result"
    }
   ],
   "source": [
    "score_dict = {\n",
    "    \"이름\":['이주희', '임승환', '조준용', '벅원호', '류이수'],\n",
    "    \"python\" : [90, 100, 85, 90,80],\n",
    "    \"Java\" : [85, 80, 100, 95, 85],\n",
    "    \"HTML/CSS\" : [75,70,90, 80, 90]\n",
    "}\n",
    "\n",
    "score_dict"
   ]
  },
  {
   "cell_type": "code",
   "execution_count": null,
   "id": "c7dfe102-58b5-418b-9239-3861ffcfede2",
   "metadata": {},
   "outputs": [],
   "source": [
    "sum(score_dict[\"이름\"])"
   ]
  },
  {
   "cell_type": "code",
   "execution_count": 241,
   "id": "52c455c1-ecf0-43eb-9c30-e314a2c0602d",
   "metadata": {},
   "outputs": [
    {
     "data": {
      "text/plain": [
       "89.0"
      ]
     },
     "execution_count": 241,
     "metadata": {},
     "output_type": "execute_result"
    }
   ],
   "source": [
    "# python 과목의 평균 구하기\n",
    "sum(score_dict[\"python\"]) / len(socre_dict[\"이름\"])"
   ]
  },
  {
   "cell_type": "code",
   "execution_count": 252,
   "id": "ded9498e-2567-4836-bad9-274815b0dc22",
   "metadata": {},
   "outputs": [
    {
     "data": {
      "text/plain": [
       "['python', 'Java', 'HTML/CSS']"
      ]
     },
     "execution_count": 252,
     "metadata": {},
     "output_type": "execute_result"
    }
   ],
   "source": [
    "list(score_dict.keys())[1:]\n",
    "# 딕셔너리는 인덱스 번호가 존재하지 않음 \n",
    "# 그러나 ,형변환을 통해 정수값으로 인덱싱/ 슬라이싱 가능!"
   ]
  },
  {
   "cell_type": "code",
   "execution_count": 256,
   "id": "fdc6bd5d-a680-413d-8900-ab2772f439b9",
   "metadata": {},
   "outputs": [
    {
     "name": "stdout",
     "output_type": "stream",
     "text": [
      "python : 89.0\n",
      "Java : 89.0\n",
      "HTML/CSS : 81.0\n"
     ]
    }
   ],
   "source": [
    "# 각각의 평균 점수 구하기 \n",
    "for key in list(score_dict.keys())[1:] :\n",
    "    avg = sum(score_dict[key]) / len(socre_dict[\"이름\"])\n",
    "    print(f\"{key} : {avg}\")"
   ]
  },
  {
   "cell_type": "code",
   "execution_count": null,
   "id": "9c184482-8f36-4c44-8836-bb8456fdb203",
   "metadata": {},
   "outputs": [],
   "source": [
    "# 집합\n",
    "{\"한국\", \"중국\", \"일본\", \"한국\"}\n",
    "# 1. 중복을 허용치 않음\n",
    "# 2. 인덱스 번호 없음"
   ]
  },
  {
   "cell_type": "code",
   "execution_count": null,
   "id": "2efc5f68-98ed-4712-b4c5-e5738af9937a",
   "metadata": {},
   "outputs": [],
   "source": []
  },
  {
   "cell_type": "code",
   "execution_count": null,
   "id": "fd871575-9c40-4501-a90a-442b81c00b22",
   "metadata": {},
   "outputs": [],
   "source": []
  },
  {
   "cell_type": "code",
   "execution_count": null,
   "id": "a8816178-3d6e-4eda-881d-6023988c23b2",
   "metadata": {},
   "outputs": [],
   "source": []
  }
 ],
 "metadata": {
  "kernelspec": {
   "display_name": "Python 3 (ipykernel)",
   "language": "python",
   "name": "python3"
  },
  "language_info": {
   "codemirror_mode": {
    "name": "ipython",
    "version": 3
   },
   "file_extension": ".py",
   "mimetype": "text/x-python",
   "name": "python",
   "nbconvert_exporter": "python",
   "pygments_lexer": "ipython3",
   "version": "3.12.7"
  }
 },
 "nbformat": 4,
 "nbformat_minor": 5
}
