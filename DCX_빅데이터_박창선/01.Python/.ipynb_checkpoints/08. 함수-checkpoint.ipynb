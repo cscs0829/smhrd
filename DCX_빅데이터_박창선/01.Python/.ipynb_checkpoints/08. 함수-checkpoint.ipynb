{
 "cells": [
  {
   "cell_type": "markdown",
   "id": "fee7159b-1914-4289-874a-c4641d5cee91",
   "metadata": {},
   "source": [
    "### 함수\n",
    "- **호출** 될 때 **특정 기능**을 실행하는 **재사용** 가능한 코드블록\n",
    "- sum(), len(), range(), print()"
   ]
  },
  {
   "cell_type": "markdown",
   "id": "e386014a-2bf4-41dc-bfe0-4f3b5037e4b7",
   "metadata": {},
   "source": [
    "```python\n",
    "# 내장 함수\n",
    "print()\n",
    "sum()\n",
    "len()\n",
    "range()\n",
    "str.replace()\n",
    "str.split()\n",
    "..."
   ]
  },
  {
   "cell_type": "code",
   "execution_count": 1,
   "id": "723a4e0d-97b1-43cd-b83e-ad29770ab306",
   "metadata": {},
   "outputs": [],
   "source": [
    "# 사용자 정의 함수\n",
    "def add(a, b) :\n",
    "    result = a + b\n",
    "    return result"
   ]
  },
  {
   "cell_type": "code",
   "execution_count": 2,
   "id": "b4af90e0-34f2-490c-ac7a-c1aa7268d673",
   "metadata": {},
   "outputs": [
    {
     "data": {
      "text/plain": [
       "4"
      ]
     },
     "execution_count": 2,
     "metadata": {},
     "output_type": "execute_result"
    }
   ],
   "source": [
    "# 함수 호출\n",
    "add(2, 2)"
   ]
  },
  {
   "cell_type": "markdown",
   "id": "a54301a3-c682-48ce-8f90-ad509fe3535e",
   "metadata": {},
   "source": [
    "### 실습"
   ]
  },
  {
   "cell_type": "code",
   "execution_count": null,
   "id": "d37a1f9c-0e3c-43d2-8504-cfeb82474bdf",
   "metadata": {},
   "outputs": [],
   "source": [
    "# 1. 두 수를 입력 받아서 뺀 결과를 return 하는 함수 정의\n",
    "???"
   ]
  },
  {
   "cell_type": "code",
   "execution_count": 22,
   "id": "661179e6-0d6f-43fc-8964-6ecbacef714c",
   "metadata": {
    "scrolled": true
   },
   "outputs": [
    {
     "name": "stdin",
     "output_type": "stream",
     "text": [
      "첫 번째 정수 입력 >>  4\n",
      "두 번째 정수 입력 >>  5\n"
     ]
    },
    {
     "data": {
      "text/plain": [
       "1"
      ]
     },
     "execution_count": 22,
     "metadata": {},
     "output_type": "execute_result"
    }
   ],
   "source": [
    "num1 = int(input(\"첫 번째 정수 입력 >> \"))\n",
    "num2 = int(input(\"두 번째 정수 입력 >> \"))\n",
    "\n",
    "def number_sub(num1, num2) :\n",
    "    result = num1 - num2 if num1 > num2 else num2 -num1\n",
    "    return result\n",
    "\n",
    "result = number_sub(num1, num2)\n",
    "result"
   ]
  },
  {
   "cell_type": "code",
   "execution_count": 30,
   "id": "def051da-c5f1-4a2b-89d0-cd4334b4f9a4",
   "metadata": {},
   "outputs": [],
   "source": [
    "a = \"ㅋ\""
   ]
  },
  {
   "cell_type": "code",
   "execution_count": 31,
   "id": "ab16cd2a-44db-461b-bdbe-9ce9f119a121",
   "metadata": {},
   "outputs": [
    {
     "data": {
      "text/plain": [
       "'ㅋㅋ'"
      ]
     },
     "execution_count": 31,
     "metadata": {},
     "output_type": "execute_result"
    }
   ],
   "source": [
    "a += \"ㅋ\"\n",
    "a"
   ]
  },
  {
   "cell_type": "code",
   "execution_count": 34,
   "id": "fc153e5e-f889-45ef-8606-8f05ac679ebf",
   "metadata": {},
   "outputs": [
    {
     "data": {
      "text/plain": [
       "'안녕하세요'"
      ]
     },
     "execution_count": 34,
     "metadata": {},
     "output_type": "execute_result"
    }
   ],
   "source": [
    "temp = \"안녕하세요ㅋㅋㅋㅋㅋ\"\n",
    "\n",
    "prepro_str = \"\" # ㅋ를 제거한 문자열을 담을 변수\n",
    "for char in temp :\n",
    "    if char != 'ㅋ' :\n",
    "        prepro_str += char \n",
    "prepro_str"
   ]
  },
  {
   "cell_type": "code",
   "execution_count": null,
   "id": "b4a7b0c4-6a53-4de7-b6e5-957d7312c9e4",
   "metadata": {},
   "outputs": [],
   "source": [
    "# 2. 문자열을  입력 받은 후, 'ㅋ'을 제거하고 return 하는 정의 함수 \n",
    "def def s_replace(s):\n",
    "    return s.replace('ㅋ', \"\")"
   ]
  },
  {
   "cell_type": "code",
   "execution_count": 36,
   "id": "8b0a054b-06da-49e6-946b-941b98fe5866",
   "metadata": {},
   "outputs": [
    {
     "name": "stdin",
     "output_type": "stream",
     "text": [
      "문자열 입력 >>  안녕하세요ㅋㅋㅋㅋㅋ\n"
     ]
    },
    {
     "data": {
      "text/plain": [
       "'안녕하세요'"
      ]
     },
     "execution_count": 36,
     "metadata": {},
     "output_type": "execute_result"
    }
   ],
   "source": [
    "def s_replace(s):\n",
    "    prepro_str = \"\"\n",
    "    for char in s :\n",
    "        if char != 'ㅋ' :\n",
    "            prepro_str += char \n",
    "    return prepro_str"
   ]
  },
  {
   "cell_type": "markdown",
   "id": "c3e18012-6df6-43cf-90e2-ec05e25b4a9a",
   "metadata": {},
   "source": [
    "\n",
    "```\n",
    "문자열 입력 >> 안녕하세요 ㅋㅋㅋㅋㅋ\n",
    "안녕하세요\n",
    "```"
   ]
  },
  {
   "cell_type": "code",
   "execution_count": null,
   "id": "47ce0340-ef9c-43d4-9b4d-2bbb5276bacf",
   "metadata": {},
   "outputs": [],
   "source": [
    "s = input(\"문자열 입력 >> \")\n",
    "result = s_replace(s)\n",
    "result"
   ]
  },
  {
   "cell_type": "code",
   "execution_count": null,
   "id": "5396d720-9be9-4cd1-a071-e0a4f20dce6b",
   "metadata": {},
   "outputs": [],
   "source": []
  },
  {
   "cell_type": "code",
   "execution_count": null,
   "id": "66c7b32a-9ee5-4caf-8fef-4cb2f8240437",
   "metadata": {},
   "outputs": [],
   "source": []
  },
  {
   "cell_type": "code",
   "execution_count": null,
   "id": "eae8d003-a80f-4939-be77-7fbe96fbf7a4",
   "metadata": {},
   "outputs": [],
   "source": []
  },
  {
   "cell_type": "code",
   "execution_count": null,
   "id": "0de77733-caca-46b0-9e4a-2cc2ca4c1fb0",
   "metadata": {},
   "outputs": [],
   "source": []
  }
 ],
 "metadata": {
  "kernelspec": {
   "display_name": "Python 3 (ipykernel)",
   "language": "python",
   "name": "python3"
  },
  "language_info": {
   "codemirror_mode": {
    "name": "ipython",
    "version": 3
   },
   "file_extension": ".py",
   "mimetype": "text/x-python",
   "name": "python",
   "nbconvert_exporter": "python",
   "pygments_lexer": "ipython3",
   "version": "3.12.7"
  }
 },
 "nbformat": 4,
 "nbformat_minor": 5
}
