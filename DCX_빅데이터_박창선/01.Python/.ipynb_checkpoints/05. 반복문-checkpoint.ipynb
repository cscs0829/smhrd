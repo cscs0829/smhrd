{
 "cells": [
  {
   "cell_type": "markdown",
   "id": "b91d4663-27af-4fc2-9a42-70b109c43ac2",
   "metadata": {},
   "source": [
    "### 반복문\n",
    "- while문 , for문\n",
    "\n",
    "```python\n",
    "while 조건식 :\n",
    "    코드블록\n",
    "    코드블록\n",
    "\n",
    "for 변수 in iterable객체 : \n",
    "    코드블록\n",
    "    코드블록\n",
    "    \n",
    "```"
   ]
  },
  {
   "cell_type": "code",
   "execution_count": 52,
   "id": "f3a95206-e76f-4f3c-91b6-c25c63c3c5f2",
   "metadata": {},
   "outputs": [
    {
     "name": "stdout",
     "output_type": "stream",
     "text": [
      "파이썬 최고!\n",
      "파이썬 최고!\n",
      "파이썬 최고!\n",
      "파이썬 최고!\n",
      "파이썬 최고!\n",
      "파이썬 최고!\n",
      "파이썬 최고!\n",
      "파이썬 최고!\n",
      "파이썬 최고!\n",
      "파이썬 최고!\n"
     ]
    }
   ],
   "source": [
    "# while문 \n",
    "\n",
    "cnt = 1\n",
    "while True : # 조건식 또는 불리안 값 적용\n",
    "    print(\"파이썬 최고!\")\n",
    "    if cnt == 10 :\n",
    "        break\n",
    "    cnt += 1"
   ]
  },
  {
   "cell_type": "code",
   "execution_count": 1,
   "id": "cea70d8c-258f-4542-9d2b-1f98ac669246",
   "metadata": {},
   "outputs": [
    {
     "name": "stdin",
     "output_type": "stream",
     "text": [
      "첫 번째 정수 입력 >>  0\n",
      "두 번째 정수 입력 >>  1\n"
     ]
    },
    {
     "name": "stdout",
     "output_type": "stream",
     "text": [
      "두 정수의 합 : 1\n"
     ]
    },
    {
     "name": "stdin",
     "output_type": "stream",
     "text": [
      "첫 번째 정수 입력 >>  0\n",
      "두 번째 정수 입력 >>  0\n"
     ]
    },
    {
     "name": "stdout",
     "output_type": "stream",
     "text": [
      "프로그램이 종료되었습니다\n"
     ]
    }
   ],
   "source": [
    " while True :\n",
    "    num1 = int(input(\"첫 번째 정수 입력 >> \"))\n",
    "    num2 = int(input(\"두 번째 정수 입력 >> \"))\n",
    "   \n",
    "\n",
    "    if(num1==0 and num2==0) :\n",
    "        print(\"프로그램이 종료되었습니다\")\n",
    "        break\n",
    "    else :\n",
    "         # print(\"두 정수의 합 : \" + str(num1+num2))\n",
    "        print(f\"두 정수의 합 : {num1 + num2}\") "
   ]
  },
  {
   "cell_type": "code",
   "execution_count": 2,
   "id": "3886941d-add3-4389-bfd9-9ef73c189bd0",
   "metadata": {},
   "outputs": [
    {
     "name": "stdout",
     "output_type": "stream",
     "text": [
      "햄버거\n",
      "피자\n",
      "치킨\n"
     ]
    }
   ],
   "source": [
    "# for 문\n",
    "\n",
    "food_list = [\"햄버거\", \"피자\" , \"치킨\"]\n",
    "\n",
    "for food in food_list :\n",
    "    print(food)"
   ]
  },
  {
   "cell_type": "code",
   "execution_count": 111,
   "id": "cbc03977-1b26-48e5-a85a-84c932f937fa",
   "metadata": {},
   "outputs": [
    {
     "name": "stdout",
     "output_type": "stream",
     "text": [
      "1번 학생은 합격입니다.\n",
      "2번 학생은 불합격입니다.\n",
      "3번 학생은 합격입니다.\n",
      "4번 학생은 합격입니다.\n",
      "5번 학생은 불합격입니다.\n"
     ]
    }
   ],
   "source": [
    "# for문을 활용해서 score_list에 담겨있는 각 점수(요소)가 \"합격\"인지, \"불합격\"인지 판별해서 출력!\n",
    "# 합격 기준을 60점\n",
    "\n",
    "score_list = [90, 45, 70, 60, 55]\n",
    "cnt = 1\n",
    "for score in score_list :\n",
    "    if score >= 60:\n",
    "        # print(str(cnt) + \"번 학생은 합격입니다\")\n",
    "        score_pass = \"합격\"\n",
    "    else :\n",
    "        # print(str(cnt) + \"번 학생은 불합격입니다\")\n",
    "        score_pass = \"불합격\"\n",
    "    print(f\"{cnt}번 학생은 {score_pass}입니다.\")\n",
    "    cnt += 1"
   ]
  },
  {
   "cell_type": "markdown",
   "id": "9a504191-8b7f-493b-9cdf-2bce2ad9b31b",
   "metadata": {},
   "source": [
    "```\n",
    "1번 학생은 합격입니다\n",
    "2번 학생은 불합격입니다\n",
    "3번 학생은 합격입니다\n",
    "4번 학생은 합격입니다\n",
    "5번 학생은 불합격 입니다\n",
    "```"
   ]
  },
  {
   "cell_type": "markdown",
   "id": "b873437e-da88-45d2-af39-d26f7db36e7a",
   "metadata": {},
   "source": [
    "### range()\n",
    "- range(시작값, 끝값, 증감량)\n",
    "- range(.[시작값, ]끝값[, 증감량])"
   ]
  },
  {
   "cell_type": "code",
   "execution_count": 115,
   "id": "963ade21-7351-4213-ab25-a0e26e455f42",
   "metadata": {},
   "outputs": [
    {
     "name": "stdout",
     "output_type": "stream",
     "text": [
      "1 2 3 4 5 6 7 8 9 "
     ]
    }
   ],
   "source": [
    "# 1~9 범위\n",
    "for i in range(1, 10) :\n",
    "    print(i, end = ' ')"
   ]
  },
  {
   "cell_type": "code",
   "execution_count": 114,
   "id": "de19ee9e-509d-4d92-bf97-4d433cb10983",
   "metadata": {},
   "outputs": [
    {
     "name": "stdout",
     "output_type": "stream",
     "text": [
      "10 9 8 7 6 5 4 3 2 1 "
     ]
    }
   ],
   "source": [
    "# 10 ~ 1 범위\n",
    "for i in range(10, 0, -1) :\n",
    "    print(i, end = ' ')"
   ]
  },
  {
   "cell_type": "code",
   "execution_count": 117,
   "id": "701fa485-4aba-439b-a9eb-ef211c3a165b",
   "metadata": {},
   "outputs": [
    {
     "name": "stdout",
     "output_type": "stream",
     "text": [
      "0 1 2 3 4 5 6 7 8 9 "
     ]
    }
   ],
   "source": [
    "# 0 ~ 9 범유ㅏ\n",
    "for i in range(10) :\n",
    "    print(i, end = ' ')"
   ]
  },
  {
   "cell_type": "code",
   "execution_count": 119,
   "id": "4b6f9ac0-4824-47f8-af13-b8f89cbde564",
   "metadata": {},
   "outputs": [
    {
     "name": "stdout",
     "output_type": "stream",
     "text": [
      "0 1 2 3 4 "
     ]
    }
   ],
   "source": [
    "# 인덱스 범위\n",
    "for i in range(len(score_list)) :\n",
    "    print(i, end = ' ')"
   ]
  },
  {
   "cell_type": "code",
   "execution_count": 124,
   "id": "1c6aae9e-7a83-4465-894b-43d7c6c5e41e",
   "metadata": {},
   "outputs": [
    {
     "name": "stdout",
     "output_type": "stream",
     "text": [
      "1번 학생은 합격입니다.\n",
      "2번 학생은 불합격입니다.\n",
      "3번 학생은 합격입니다.\n",
      "4번 학생은 합격입니다.\n",
      "5번 학생은 불합격입니다.\n"
     ]
    }
   ],
   "source": [
    "# for문을 활용해서 score_list에 담겨있는 각 점수(요소)가 \"합격\"인지, \"불합격\"인지 판별해서 출력!\n",
    "# 합격 기준을 60점\n",
    "\n",
    "for i in range(len(score_list)) :\n",
    "    if score_list[i] >= 60 :\n",
    "        score_pass = \"합격\"\n",
    "    else :\n",
    "        score_pass = \"불합격\"\n",
    "    print(f\"{i+1}번 학생은 {score_pass}입니다.\")"
   ]
  },
  {
   "cell_type": "code",
   "execution_count": 137,
   "id": "aa5f308a-bde3-441f-bc4c-0956f7c9c437",
   "metadata": {},
   "outputs": [
    {
     "data": {
      "text/plain": [
       "[55, 60, 70, 45, 90]"
      ]
     },
     "execution_count": 137,
     "metadata": {},
     "output_type": "execute_result"
    }
   ],
   "source": [
    "# 슬라이싱 -> 시작값, 끝값, 증감량\n",
    "score_list[::-1]"
   ]
  },
  {
   "cell_type": "code",
   "execution_count": null,
   "id": "62166a30-d497-474f-b0b7-4ab2775fa472",
   "metadata": {},
   "outputs": [],
   "source": []
  },
  {
   "cell_type": "code",
   "execution_count": null,
   "id": "8d1babce-b09c-4346-a49e-ca91f2af81b2",
   "metadata": {},
   "outputs": [],
   "source": []
  }
 ],
 "metadata": {
  "kernelspec": {
   "display_name": "Python 3 (ipykernel)",
   "language": "python",
   "name": "python3"
  },
  "language_info": {
   "codemirror_mode": {
    "name": "ipython",
    "version": 3
   },
   "file_extension": ".py",
   "mimetype": "text/x-python",
   "name": "python",
   "nbconvert_exporter": "python",
   "pygments_lexer": "ipython3",
   "version": "3.12.7"
  }
 },
 "nbformat": 4,
 "nbformat_minor": 5
}
