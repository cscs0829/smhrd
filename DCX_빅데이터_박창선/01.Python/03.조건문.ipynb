{
 "cells": [
  {
   "cell_type": "markdown",
   "id": "e3d7eace-4707-45cd-b299-2b05efb2bd51",
   "metadata": {},
   "source": [
    "### 조건문(분기문)\n",
    "``` python\n",
    "# 콜론과 들여쓰기(  , TAB)가 매우 중요\n",
    "if 조건식 :\n",
    "    코드블록\n",
    "    코드블록\n",
    "elif 조건식 :\n",
    "    코드블록\n",
    "    코드블록\n",
    "else :\n",
    "    코드블록\n",
    "    코드블록\n",
    "```\n",
    "\n",
    "\n",
    "if(조건식){\n",
    "    코드블럭\n",
    "    코드블럭\n",
    "};"
   ]
  },
  {
   "cell_type": "code",
   "execution_count": 7,
   "id": "db740f5a-91e9-4039-862b-e7a6da40455b",
   "metadata": {},
   "outputs": [
    {
     "name": "stdin",
     "output_type": "stream",
     "text": [
      "가지고 있는 돈을 입력하세요 >>  111\n"
     ]
    },
    {
     "name": "stdout",
     "output_type": "stream",
     "text": [
      "걸어간다\n"
     ]
    }
   ],
   "source": [
    "money = int(input(\"가지고 있는 돈을 입력하세요 >> \"))\n",
    "\n",
    "if money >= 5000 :\n",
    "    print(\"택시를 탄다\")\n",
    "elif money >= 2500 :\n",
    "    print(\"버스를 탄다\")\n",
    "else :\n",
    "    print(\"걸어간다\")"
   ]
  },
  {
   "cell_type": "code",
   "execution_count": 22,
   "id": "be6edbca-f640-499e-a908-cbbb80f31398",
   "metadata": {},
   "outputs": [
    {
     "name": "stdin",
     "output_type": "stream",
     "text": [
      "점수 입력 >>  123\n"
     ]
    },
    {
     "name": "stdout",
     "output_type": "stream",
     "text": [
      "잘 못 입력하셨습니다\n"
     ]
    }
   ],
   "source": [
    "score = int(input(\"점수 입력 >> \"))\n",
    "\n",
    "if 90 <= score <= 100:\n",
    "    print(str(score)+ \"점은 A학점입니다.\")\n",
    "elif 80 <= score <90 :\n",
    "    print(str(score)+ \"점은 B학점입니다.\")\n",
    "elif 70 <= score <80 :\n",
    "    print(str(score)+ \"점은 C학점입니다.\")\n",
    "elif 60 <= score <70 :\n",
    "    print(str(score)+ \"점은 D학점입니다.\")\n",
    "elif score < 60 :\n",
    "    print(str(score)+ \"점은 F학점입니다.\")\n",
    "else :\n",
    "    print(\"잘 못 입력하셨습니다\")"
   ]
  },
  {
   "cell_type": "code",
   "execution_count": 43,
   "id": "2c08cca4-9925-428c-bfa9-f3e5e69907d5",
   "metadata": {},
   "outputs": [
    {
     "name": "stdin",
     "output_type": "stream",
     "text": [
      "점수 입력 >>  44\n"
     ]
    },
    {
     "name": "stdout",
     "output_type": "stream",
     "text": [
      "44점은 F학점입니다.\n"
     ]
    }
   ],
   "source": [
    "score = int(input(\"점수 입력 >> \"))\n",
    "\n",
    "# 1. 변수 score에 점수를 입력 받아서 학점 부여하기\n",
    "# 2. 정상적인 점수(0~100)가 입력될 수 있도록 검사하기 (비정상적으로 입력한 경우 \"잘 못 입력하였습니다\" 출력해주기\n",
    "\n",
    "if score <= 100 and score >= 0 :\n",
    "    if score >= 90:\n",
    "        grade = \"A\"\n",
    "    elif score >= 80:\n",
    "        grade = \"B\"\n",
    "    elif score >= 70:\n",
    "        grade = \"C\"\n",
    "    elif score >= 60:\n",
    "        grade = \"D\"\n",
    "    else :\n",
    "        grade = \"F\"\n",
    "\n",
    "    print(f\"{score}점은 {grade}학점입니다.\")\n",
    "else :\n",
    "    print(\"잘 못 입력하였습니다.\")"
   ]
  },
  {
   "cell_type": "code",
   "execution_count": null,
   "id": "fecb2eb7-7b57-48a2-8887-63dcbdbb9d6d",
   "metadata": {},
   "outputs": [],
   "source": []
  },
  {
   "cell_type": "code",
   "execution_count": null,
   "id": "09dd8a55-16c8-44cd-9893-f7c85617a50b",
   "metadata": {},
   "outputs": [],
   "source": []
  },
  {
   "cell_type": "code",
   "execution_count": null,
   "id": "7ed3b686-cdcc-4af7-b7cf-559f68e6107a",
   "metadata": {},
   "outputs": [],
   "source": []
  },
  {
   "cell_type": "code",
   "execution_count": null,
   "id": "0a3b41e9-54ba-48f7-b981-aca445fc9228",
   "metadata": {},
   "outputs": [],
   "source": []
  },
  {
   "cell_type": "code",
   "execution_count": null,
   "id": "50a06ed0-f2f6-41cc-b0df-95fc08886af1",
   "metadata": {},
   "outputs": [],
   "source": []
  },
  {
   "cell_type": "code",
   "execution_count": null,
   "id": "8557d70f-c4c2-41ce-9976-71a2b7f18cb9",
   "metadata": {},
   "outputs": [],
   "source": []
  },
  {
   "cell_type": "code",
   "execution_count": null,
   "id": "cc07e10b-d52a-4df5-a025-582b1b89af18",
   "metadata": {},
   "outputs": [],
   "source": []
  },
  {
   "cell_type": "code",
   "execution_count": null,
   "id": "3d2bef68-a8db-40cb-997c-002d03cbc532",
   "metadata": {},
   "outputs": [],
   "source": []
  },
  {
   "cell_type": "code",
   "execution_count": null,
   "id": "ceabfe77-34b3-431c-8773-98ad4a70662e",
   "metadata": {},
   "outputs": [],
   "source": []
  },
  {
   "cell_type": "code",
   "execution_count": null,
   "id": "f2f42ba7-bdbc-4b43-8be3-0912b7b2b55d",
   "metadata": {},
   "outputs": [],
   "source": []
  },
  {
   "cell_type": "code",
   "execution_count": null,
   "id": "ba08fa70-ae9f-4a18-9dd0-7c051368ae0a",
   "metadata": {},
   "outputs": [],
   "source": []
  },
  {
   "cell_type": "code",
   "execution_count": null,
   "id": "fffbf448-09cb-4a0c-ada2-373f5a0c0561",
   "metadata": {},
   "outputs": [],
   "source": []
  },
  {
   "cell_type": "code",
   "execution_count": null,
   "id": "3eae1356-73a0-4b62-bd27-81a16678c757",
   "metadata": {},
   "outputs": [],
   "source": []
  },
  {
   "cell_type": "code",
   "execution_count": null,
   "id": "30986c2a-bd86-4d4d-a79d-c5d9daa36fc0",
   "metadata": {},
   "outputs": [],
   "source": []
  },
  {
   "cell_type": "code",
   "execution_count": null,
   "id": "dd629f7b-732f-4fec-951d-f48e3c418045",
   "metadata": {},
   "outputs": [],
   "source": []
  },
  {
   "cell_type": "code",
   "execution_count": null,
   "id": "f5eed27b-3260-4377-86df-cfdccc5ea24b",
   "metadata": {},
   "outputs": [],
   "source": []
  },
  {
   "cell_type": "code",
   "execution_count": null,
   "id": "5472f6cb-5e1a-40ec-9ded-86579cb7d88a",
   "metadata": {},
   "outputs": [],
   "source": []
  },
  {
   "cell_type": "code",
   "execution_count": null,
   "id": "87c8ae2e-7f1d-497f-966f-5efc72010f3a",
   "metadata": {},
   "outputs": [],
   "source": []
  },
  {
   "cell_type": "code",
   "execution_count": null,
   "id": "82135579-c182-4b9f-bbc0-4f5bed4640f9",
   "metadata": {},
   "outputs": [],
   "source": []
  },
  {
   "cell_type": "code",
   "execution_count": null,
   "id": "b4c19ec9-64f2-45db-8ec7-f43016da55c7",
   "metadata": {},
   "outputs": [],
   "source": []
  },
  {
   "cell_type": "code",
   "execution_count": null,
   "id": "d8f3a789-c2c6-4c09-bbf0-0151c387b2cd",
   "metadata": {},
   "outputs": [],
   "source": []
  }
 ],
 "metadata": {
  "kernelspec": {
   "display_name": "Python 3 (ipykernel)",
   "language": "python",
   "name": "python3"
  },
  "language_info": {
   "codemirror_mode": {
    "name": "ipython",
    "version": 3
   },
   "file_extension": ".py",
   "mimetype": "text/x-python",
   "name": "python",
   "nbconvert_exporter": "python",
   "pygments_lexer": "ipython3",
   "version": "3.12.7"
  }
 },
 "nbformat": 4,
 "nbformat_minor": 5
}
