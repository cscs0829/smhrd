{
 "cells": [
  {
   "cell_type": "code",
   "execution_count": 4,
   "id": "7fe2cab1-3a86-455b-8079-6e187f600c8f",
   "metadata": {},
   "outputs": [],
   "source": [
    "A = 1\n",
    "B = 2\n",
    "\n",
    "def add(*args) :\n",
    "    return sum(args)"
   ]
  },
  {
   "cell_type": "code",
   "execution_count": 6,
   "id": "96df47b8-c3ed-40b2-8158-7b2afdab9286",
   "metadata": {},
   "outputs": [
    {
     "name": "stderr",
     "output_type": "stream",
     "text": [
      "[NbConvertApp] Converting notebook 모듈.ipynb to script\n",
      "[NbConvertApp] Writing 304 bytes to 모듈.py\n"
     ]
    }
   ],
   "source": [
    "!jupyter nbconvert --to script 모듈.ipynb"
   ]
  },
  {
   "cell_type": "code",
   "execution_count": null,
   "id": "8273ef14-6230-4c03-9734-058679534755",
   "metadata": {},
   "outputs": [],
   "source": []
  },
  {
   "cell_type": "code",
   "execution_count": null,
   "id": "5fb398a0-b091-45d2-8098-22d68ae96e05",
   "metadata": {},
   "outputs": [],
   "source": []
  },
  {
   "cell_type": "code",
   "execution_count": null,
   "id": "8cb1a566-3ed9-4a20-b070-bd7c4b9d9f06",
   "metadata": {},
   "outputs": [],
   "source": []
  },
  {
   "cell_type": "code",
   "execution_count": null,
   "id": "edd609ce-4421-4b7e-a144-3efb8a6c65d8",
   "metadata": {},
   "outputs": [],
   "source": []
  },
  {
   "cell_type": "code",
   "execution_count": null,
   "id": "c886cd75-75ad-49fb-9fdf-02129ce3f1b0",
   "metadata": {},
   "outputs": [],
   "source": []
  },
  {
   "cell_type": "code",
   "execution_count": null,
   "id": "129b7bbd-87cd-4f21-a1c0-f07e8c7d5084",
   "metadata": {},
   "outputs": [],
   "source": []
  },
  {
   "cell_type": "code",
   "execution_count": null,
   "id": "eab6648a-94ef-492b-af35-c5404c064e7a",
   "metadata": {},
   "outputs": [],
   "source": []
  },
  {
   "cell_type": "code",
   "execution_count": null,
   "id": "72f7ec98-5a02-4c75-bf04-e1978f2a2be6",
   "metadata": {},
   "outputs": [],
   "source": []
  },
  {
   "cell_type": "code",
   "execution_count": null,
   "id": "53093249-7240-4609-964d-763f500d3cb0",
   "metadata": {},
   "outputs": [],
   "source": []
  }
 ],
 "metadata": {
  "kernelspec": {
   "display_name": "Python 3 (ipykernel)",
   "language": "python",
   "name": "python3"
  },
  "language_info": {
   "codemirror_mode": {
    "name": "ipython",
    "version": 3
   },
   "file_extension": ".py",
   "mimetype": "text/x-python",
   "name": "python",
   "nbconvert_exporter": "python",
   "pygments_lexer": "ipython3",
   "version": "3.12.7"
  }
 },
 "nbformat": 4,
 "nbformat_minor": 5
}
