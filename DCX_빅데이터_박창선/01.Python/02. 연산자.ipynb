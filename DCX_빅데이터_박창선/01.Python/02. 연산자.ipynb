{
 "cells": [
  {
   "cell_type": "markdown",
   "id": "fc9f0394-af9d-4c1f-a65e-c9406e8ffd44",
   "metadata": {},
   "source": [
    "## 연산자 종류 \n",
    "1. 산술 : +, -, *, /, //, %\n",
    "2. 지수(제곱) : ** \n",
    "3. 대입(복합) : =, +=, -=, *=, /=, //=, %=\n",
    "4. 관계(비교) : >, <, <=, >=, ==, != #파이썬은 증감식 없음\n",
    "5. 논리 : and, or, not\n",
    "6. 비트(NumPy 때 활용) : &, |\n",
    "7. 멤버 : in, not in\n",
    "8. 삼항 : True if 조건식 else False "
   ]
  },
  {
   "cell_type": "code",
   "execution_count": 1,
   "id": "ea33ef34-ce3f-4ef0-95fe-3c46d0ed8ac3",
   "metadata": {},
   "outputs": [
    {
     "name": "stdout",
     "output_type": "stream",
     "text": [
      "더하기 :17\n",
      "빼기 :-3\n",
      "곱하기 :70\n",
      "나누기 :0.7\n",
      "몫 :0\n",
      "나머지 :7\n"
     ]
    }
   ],
   "source": [
    "# 1. 산술 연산자 \n",
    "num1 = 7 \n",
    "num2 = 10\n",
    "##다중코드 작성 모드(Alt 십자가 쫙 드래그)\n",
    "print(f\"더하기 :{num1 + num2}\")\n",
    "print(f\"빼기 :{num1 - num2}\")\n",
    "print(f\"곱하기 :{num1 * num2}\")\n",
    "print(f\"나누기 :{num1 / num2}\")\n",
    "print(f\"몫 :{num1 // num2}\")\n",
    "print(f\"나머지 :{num1 % num2}\")"
   ]
  },
  {
   "cell_type": "code",
   "execution_count": 2,
   "id": "8a4429a5-4023-4aed-b860-9039f5024b26",
   "metadata": {},
   "outputs": [
    {
     "data": {
      "text/plain": [
       "'안녕하세요'"
      ]
     },
     "execution_count": 2,
     "metadata": {},
     "output_type": "execute_result"
    }
   ],
   "source": [
    "# 문자열(이터레이블) 더하기 \n",
    "str1 = \"안녕\"\n",
    "str2 = \"하세요\"\n",
    "\n",
    "str1 + str2 "
   ]
  },
  {
   "cell_type": "code",
   "execution_count": 3,
   "id": "6aa0b0cc-e1fe-4d0f-82d9-5e8f38aeb05b",
   "metadata": {},
   "outputs": [
    {
     "name": "stdout",
     "output_type": "stream",
     "text": [
      "107\n",
      "107\n",
      "17\n"
     ]
    }
   ],
   "source": [
    "str_num1 = '10'\n",
    "str_num2 = '7'\n",
    "\n",
    "num2 = 7\n",
    "\n",
    "\n",
    "\n",
    "print(str_num1+str_num2)\n",
    "print(str_num1 + str(num2)) # 캐스팅(형변환)\n",
    "print(int(str_num1) + num2)"
   ]
  },
  {
   "cell_type": "code",
   "execution_count": 5,
   "id": "05efe760-edf1-49b2-b383-4677923cfdfd",
   "metadata": {},
   "outputs": [
    {
     "name": "stdin",
     "output_type": "stream",
     "text": [
      "여기에다 적으세요 >> 3\n"
     ]
    },
    {
     "data": {
      "text/plain": [
       "'3'"
      ]
     },
     "execution_count": 5,
     "metadata": {},
     "output_type": "execute_result"
    }
   ],
   "source": [
    "# 사용자 입력값을 받는 도구(함수)\n",
    "# input(\"안내문구\")\n",
    "hello = input(\"여기에다 적으세요 >>\")\n",
    "hello"
   ]
  },
  {
   "cell_type": "code",
   "execution_count": 7,
   "id": "c042a2d2-af3d-4124-97b3-a987332a65a4",
   "metadata": {
    "scrolled": true
   },
   "outputs": [
    {
     "name": "stdin",
     "output_type": "stream",
     "text": [
      "정수를 입력하세요 >> 3\n",
      "정수를 입력하세요 >> 7\n"
     ]
    },
    {
     "name": "stdout",
     "output_type": "stream",
     "text": [
      "더하기 :10\n",
      "빼기 :-4\n",
      "곱하기 :21\n",
      "나누기 :0.42857142857142855\n",
      "몫 :0\n",
      "나머지 :3\n"
     ]
    }
   ],
   "source": [
    "# 변수 num1과 num2에 키보드로 입력받아서 결과 계산\n",
    "num1 = int(input(\"정수를 입력하세요 >>\"))\n",
    "num2 = int(input(\"정수를 입력하세요 >>\"))\n",
    "print(f\"더하기 :{int(num1) + int(num2)}\")\n",
    "print(f\"빼기 :{int(num1) - int(num2)}\")\n",
    "print(f\"곱하기 :{int(num1) * int(num2)}\")\n",
    "print(f\"나누기 :{int(num1) / int(num2)}\")\n",
    "print(f\"몫 :{int(num1) // int(num2)}\")\n",
    "print(f\"나머지 :{int(num1) % int(num2)}\")"
   ]
  },
  {
   "cell_type": "markdown",
   "id": "488436b5-85e3-4bf7-ba75-54c30e2017fc",
   "metadata": {},
   "source": [
    "```\n",
    "정수를 입력하세요 >> 3\n",
    "정수를 입력하세요 >> 7\n",
    "\n",
    "더하기 :10\n",
    "빼기 :-4\n",
    "곱하기 :21\n",
    "나누기 :0.42......\n",
    "몫 : 0\n",
    "나머지 : 3"
   ]
  },
  {
   "cell_type": "code",
   "execution_count": 8,
   "id": "c2d32272-0a04-46f1-8fd2-2d665e61249f",
   "metadata": {},
   "outputs": [
    {
     "data": {
      "text/plain": [
       "8"
      ]
     },
     "execution_count": 8,
     "metadata": {},
     "output_type": "execute_result"
    }
   ],
   "source": [
    "# 지수 연산자\n",
    "2 ** 3"
   ]
  },
  {
   "cell_type": "code",
   "execution_count": null,
   "id": "920e05ff-43ec-4ef7-9b5e-2dc8a10a2737",
   "metadata": {},
   "outputs": [],
   "source": [
    "# 복합 대입 연산자 - 누적할 때 사용!\n",
    "a = 1"
   ]
  },
  {
   "cell_type": "code",
   "execution_count": null,
   "id": "5aa96d06-a31f-47c7-9128-e004a2bb2c34",
   "metadata": {},
   "outputs": [],
   "source": [
    "a += 1 # 누적합 ㅜ\n",
    "a"
   ]
  },
  {
   "cell_type": "code",
   "execution_count": 18,
   "id": "731835f9-a68e-41ef-89b1-90600d84d810",
   "metadata": {},
   "outputs": [
    {
     "data": {
      "text/plain": [
       "False"
      ]
     },
     "execution_count": 18,
     "metadata": {},
     "output_type": "execute_result"
    }
   ],
   "source": [
    "# 관계 연산자\n",
    "a = 3 \n",
    "b = 3\n",
    "a != b # 불리안 값을 반환!"
   ]
  },
  {
   "cell_type": "code",
   "execution_count": null,
   "id": "846d2b7f-6351-456f-9be8-366597e210cd",
   "metadata": {},
   "outputs": [],
   "source": [
    "# 논리 연산자(and, or, not) - 볼리안 값 연산 시 사용\n",
    "True and False\n",
    "1 and 0\n",
    "\n"
   ]
  },
  {
   "cell_type": "code",
   "execution_count": 25,
   "id": "66653cc2-45e7-4db6-9db0-25a6e0041fb6",
   "metadata": {},
   "outputs": [
    {
     "data": {
      "text/plain": [
       "array([ True, False, False])"
      ]
     },
     "execution_count": 25,
     "metadata": {},
     "output_type": "execute_result"
    }
   ],
   "source": [
    "# 비트 연산자 (&,|) : 다중 값에 대해서 논리 연산을 수행\n",
    "import numpy as np # 넘파이(수치계산에 특화된 라이브러리)\n",
    "\n",
    "arr1 = np.array([True, False, True])\n",
    "arr2 = np.array([True, False, False])\n",
    "\n",
    "arr1 & arr2"
   ]
  },
  {
   "cell_type": "code",
   "execution_count": 27,
   "id": "769f24b1-9b47-4982-ad16-daa7e1706e1b",
   "metadata": {},
   "outputs": [
    {
     "data": {
      "text/plain": [
       "True"
      ]
     },
     "execution_count": 27,
     "metadata": {},
     "output_type": "execute_result"
    }
   ],
   "source": [
    "# 멤버 연산자 \n",
    "s = \"Life is too short, you need python!\"\n",
    "'i' in s"
   ]
  },
  {
   "cell_type": "markdown",
   "id": "97998e0e-227f-4b75-8da7-f16c00ad81dc",
   "metadata": {},
   "source": [
    "# 삼항 연산자 - 이진 분류 시 활용 \n",
    "```python\n",
    "a(True) if 조건식 else b(False)\n",
    "```"
   ]
  },
  {
   "cell_type": "code",
   "execution_count": 34,
   "id": "b8774382-5cb0-48ad-95ae-cedd9a82c77e",
   "metadata": {},
   "outputs": [
    {
     "data": {
      "text/plain": [
       "'불합격'"
      ]
     },
     "execution_count": 34,
     "metadata": {},
     "output_type": "execute_result"
    }
   ],
   "source": [
    "score = 50\n",
    "\n",
    "pass_score = \"합격\" if score >= 60 else \"불합격\"\n",
    "pass_score"
   ]
  },
  {
   "cell_type": "code",
   "execution_count": null,
   "id": "c04db7e4-c606-4846-8723-07c979a4aa59",
   "metadata": {},
   "outputs": [],
   "source": []
  },
  {
   "cell_type": "code",
   "execution_count": null,
   "id": "cae9fad7-7fad-47d5-b7f0-9c0db2d0e2d0",
   "metadata": {},
   "outputs": [],
   "source": []
  },
  {
   "cell_type": "code",
   "execution_count": null,
   "id": "8e8eaa87-5949-46f9-8d77-01c0fe6645c9",
   "metadata": {},
   "outputs": [],
   "source": []
  },
  {
   "cell_type": "code",
   "execution_count": null,
   "id": "7e5a22a5-6088-4ce0-a242-0d9b7b186bd6",
   "metadata": {},
   "outputs": [],
   "source": []
  },
  {
   "cell_type": "code",
   "execution_count": null,
   "id": "c6c20ab7-3fdd-433f-9b20-0f58284ed3d8",
   "metadata": {},
   "outputs": [],
   "source": []
  },
  {
   "cell_type": "code",
   "execution_count": null,
   "id": "dfb7a9c7-da50-4a5c-9021-9c32222a78ba",
   "metadata": {},
   "outputs": [],
   "source": []
  }
 ],
 "metadata": {
  "kernelspec": {
   "display_name": "Python 3 (ipykernel)",
   "language": "python",
   "name": "python3"
  },
  "language_info": {
   "codemirror_mode": {
    "name": "ipython",
    "version": 3
   },
   "file_extension": ".py",
   "mimetype": "text/x-python",
   "name": "python",
   "nbconvert_exporter": "python",
   "pygments_lexer": "ipython3",
   "version": "3.12.7"
  }
 },
 "nbformat": 4,
 "nbformat_minor": 5
}
