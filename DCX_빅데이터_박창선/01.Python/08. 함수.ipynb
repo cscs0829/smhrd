{
 "cells": [
  {
   "cell_type": "markdown",
   "id": "fee7159b-1914-4289-874a-c4641d5cee91",
   "metadata": {},
   "source": [
    "### 함수\n",
    "- **호출** 될 때 **특정 기능**을 실행하는 **재사용** 가능한 코드블록\n",
    "- sum(), len(), range(), print()"
   ]
  },
  {
   "cell_type": "markdown",
   "id": "e386014a-2bf4-41dc-bfe0-4f3b5037e4b7",
   "metadata": {},
   "source": [
    "```python\n",
    "# 내장 함수\n",
    "print()\n",
    "sum()\n",
    "len()\n",
    "range()\n",
    "str.replace()\n",
    "str.split()\n",
    "..."
   ]
  },
  {
   "cell_type": "code",
   "execution_count": 1,
   "id": "723a4e0d-97b1-43cd-b83e-ad29770ab306",
   "metadata": {},
   "outputs": [],
   "source": [
    "# 사용자 정의 함수\n",
    "def add(a, b) :\n",
    "    result = a + b\n",
    "    return result"
   ]
  },
  {
   "cell_type": "code",
   "execution_count": 2,
   "id": "b4af90e0-34f2-490c-ac7a-c1aa7268d673",
   "metadata": {},
   "outputs": [
    {
     "data": {
      "text/plain": [
       "4"
      ]
     },
     "execution_count": 2,
     "metadata": {},
     "output_type": "execute_result"
    }
   ],
   "source": [
    "# 함수 호출\n",
    "add(2, 2)"
   ]
  },
  {
   "cell_type": "markdown",
   "id": "a54301a3-c682-48ce-8f90-ad509fe3535e",
   "metadata": {},
   "source": [
    "### 실습"
   ]
  },
  {
   "cell_type": "code",
   "execution_count": null,
   "id": "d37a1f9c-0e3c-43d2-8504-cfeb82474bdf",
   "metadata": {},
   "outputs": [],
   "source": [
    "# 1. 두 수를 입력 받아서 뺀 결과를 return 하는 함수 정의\n",
    "???"
   ]
  },
  {
   "cell_type": "code",
   "execution_count": 22,
   "id": "661179e6-0d6f-43fc-8964-6ecbacef714c",
   "metadata": {
    "scrolled": true
   },
   "outputs": [
    {
     "name": "stdin",
     "output_type": "stream",
     "text": [
      "첫 번째 정수 입력 >>  4\n",
      "두 번째 정수 입력 >>  5\n"
     ]
    },
    {
     "data": {
      "text/plain": [
       "1"
      ]
     },
     "execution_count": 22,
     "metadata": {},
     "output_type": "execute_result"
    }
   ],
   "source": [
    "num1 = int(input(\"첫 번째 정수 입력 >> \"))\n",
    "num2 = int(input(\"두 번째 정수 입력 >> \"))\n",
    "\n",
    "def number_sub(num1, num2) :\n",
    "    result = num1 - num2 if num1 > num2 else num2 -num1\n",
    "    return result\n",
    "\n",
    "result = number_sub(num1, num2)\n",
    "result"
   ]
  },
  {
   "cell_type": "code",
   "execution_count": 30,
   "id": "def051da-c5f1-4a2b-89d0-cd4334b4f9a4",
   "metadata": {},
   "outputs": [],
   "source": [
    "a = \"ㅋ\""
   ]
  },
  {
   "cell_type": "code",
   "execution_count": 31,
   "id": "ab16cd2a-44db-461b-bdbe-9ce9f119a121",
   "metadata": {},
   "outputs": [
    {
     "data": {
      "text/plain": [
       "'ㅋㅋ'"
      ]
     },
     "execution_count": 31,
     "metadata": {},
     "output_type": "execute_result"
    }
   ],
   "source": [
    "a += \"ㅋ\"\n",
    "a"
   ]
  },
  {
   "cell_type": "code",
   "execution_count": 34,
   "id": "fc153e5e-f889-45ef-8606-8f05ac679ebf",
   "metadata": {},
   "outputs": [
    {
     "data": {
      "text/plain": [
       "'안녕하세요'"
      ]
     },
     "execution_count": 34,
     "metadata": {},
     "output_type": "execute_result"
    }
   ],
   "source": [
    "temp = \"안녕하세요ㅋㅋㅋㅋㅋ\"\n",
    "\n",
    "prepro_str = \"\" # ㅋ를 제거한 문자열을 담을 변수\n",
    "for char in temp :\n",
    "    if char != 'ㅋ' :\n",
    "        prepro_str += char \n",
    "prepro_str"
   ]
  },
  {
   "cell_type": "code",
   "execution_count": null,
   "id": "b4a7b0c4-6a53-4de7-b6e5-957d7312c9e4",
   "metadata": {},
   "outputs": [],
   "source": [
    "# 2. 문자열을  입력 받은 후, 'ㅋ'을 제거하고 return 하는 정의 함수 \n",
    "def def s_replace(s):\n",
    "    return s.replace('ㅋ', \"\")"
   ]
  },
  {
   "cell_type": "code",
   "execution_count": 36,
   "id": "8b0a054b-06da-49e6-946b-941b98fe5866",
   "metadata": {},
   "outputs": [
    {
     "name": "stdin",
     "output_type": "stream",
     "text": [
      "문자열 입력 >>  안녕하세요ㅋㅋㅋㅋㅋ\n"
     ]
    },
    {
     "data": {
      "text/plain": [
       "'안녕하세요'"
      ]
     },
     "execution_count": 36,
     "metadata": {},
     "output_type": "execute_result"
    }
   ],
   "source": [
    "def s_replace(s):\n",
    "    prepro_str = \"\"\n",
    "    for char in s :\n",
    "        if char != 'ㅋ' :\n",
    "            prepro_str += char \n",
    "    return prepro_str"
   ]
  },
  {
   "cell_type": "markdown",
   "id": "c3e18012-6df6-43cf-90e2-ec05e25b4a9a",
   "metadata": {},
   "source": [
    "\n",
    "```\n",
    "문자열 입력 >> 안녕하세요 ㅋㅋㅋㅋㅋ\n",
    "안녕하세요\n",
    "```"
   ]
  },
  {
   "cell_type": "code",
   "execution_count": null,
   "id": "47ce0340-ef9c-43d4-9b4d-2bbb5276bacf",
   "metadata": {},
   "outputs": [],
   "source": [
    "s = input(\"문자열 입력 >> \")\n",
    "result = s_replace(s)\n",
    "result"
   ]
  },
  {
   "cell_type": "markdown",
   "id": "0b2f82d5-4ca2-4547-86aa-44f5c204aed0",
   "metadata": {},
   "source": [
    "### 함수의 특징\n",
    "1. 매개변수에는 순서대로 인자가 들어감\n",
    "2. **기본값을 설정이 가능 -> `키워드 매개변수`**\n",
    "3. 매개변수를 지정해서 호출 시 순서는 상관없음\n",
    "4. **return의 결과값은 1ea**\n",
    "5. **입력값, 결과값이 있을 수도 없을 수도 있음**"
   ]
  },
  {
   "cell_type": "code",
   "execution_count": 56,
   "id": "66c7b32a-9ee5-4caf-8fef-4cb2f8240437",
   "metadata": {},
   "outputs": [],
   "source": [
    "# 함수 기본값 설정\n",
    "def add_mul(a, b = 3) :\n",
    "    # 독스트링 : 함수에 대한 설명문\n",
    "    \"\"\"\"합과 곱을 연산해주는 기능!!\"\"\"\n",
    "    return a + b, a * b"
   ]
  },
  {
   "cell_type": "code",
   "execution_count": 50,
   "id": "eae8d003-a80f-4939-be77-7fbe96fbf7a4",
   "metadata": {},
   "outputs": [
    {
     "name": "stdout",
     "output_type": "stream",
     "text": [
      "2\n",
      "1\n"
     ]
    }
   ],
   "source": [
    "num1, num2 = add_mul(b = 1, a = 1)\n",
    "print(num1)\n",
    "print(num2)"
   ]
  },
  {
   "cell_type": "code",
   "execution_count": 52,
   "id": "0de77733-caca-46b0-9e4a-2cc2ca4c1fb0",
   "metadata": {},
   "outputs": [],
   "source": [
    "# 입력값이 없고, 결과값이 존재하는 함수\n",
    "def say() :\n",
    "    return \"Hi\""
   ]
  },
  {
   "cell_type": "code",
   "execution_count": 53,
   "id": "56cd4b23-e100-4786-9e93-8a3f3f0df2fe",
   "metadata": {},
   "outputs": [
    {
     "data": {
      "text/plain": [
       "'Hi'"
      ]
     },
     "execution_count": 53,
     "metadata": {},
     "output_type": "execute_result"
    }
   ],
   "source": [
    "hi = say()\n",
    "hi"
   ]
  },
  {
   "cell_type": "code",
   "execution_count": 54,
   "id": "d04ef11d-2c22-422f-abc4-80cf19fabc31",
   "metadata": {},
   "outputs": [],
   "source": [
    "# 입력값은 있고, 결과값이 없는 함수\n",
    "def say(user_input) :\n",
    "    print(user_input)"
   ]
  },
  {
   "cell_type": "code",
   "execution_count": 55,
   "id": "39a89913-09cc-41ab-be71-5cc474c784a3",
   "metadata": {},
   "outputs": [
    {
     "name": "stdout",
     "output_type": "stream",
     "text": [
      "Hi\n"
     ]
    }
   ],
   "source": [
    "say(\"Hi\")"
   ]
  },
  {
   "cell_type": "code",
   "execution_count": 63,
   "id": "74234169-ff3b-47f7-8bd9-432ff631f38f",
   "metadata": {},
   "outputs": [],
   "source": [
    "# 가변 매개변수 - 내부에서 튜플형으로 다룸!\n",
    "# 호출 입장에서 매개변수 개수를 정할 때 유용!\n",
    "\n",
    "# 숫자 여러개를 다 더하는 함수\n",
    "def add(*args) :\n",
    "    print(args)\n",
    "    return sum(args)"
   ]
  },
  {
   "cell_type": "code",
   "execution_count": 64,
   "id": "65cbf231-6066-4e81-a460-2c049e160a74",
   "metadata": {},
   "outputs": [
    {
     "name": "stdout",
     "output_type": "stream",
     "text": [
      "(1, 2, 3, 4, 5, 6, 7, 8)\n"
     ]
    },
    {
     "data": {
      "text/plain": [
       "36"
      ]
     },
     "execution_count": 64,
     "metadata": {},
     "output_type": "execute_result"
    }
   ],
   "source": [
    "add(1, 2, 3, 4, 5, 6, 7, 8)"
   ]
  },
  {
   "cell_type": "code",
   "execution_count": 68,
   "id": "91f7afd9-ecd6-4951-8b1c-e68ffbb66b93",
   "metadata": {},
   "outputs": [],
   "source": [
    "# 키워드 가변 매개변수 - 내부에서 딕셔너리형으로 다룸!\n",
    "# 호출 입장에서 매개변수 개수를 정할 때 유용\n",
    "\n",
    "# 숫자 여러개를 다 더하는 함수\n",
    "def user_info(**kargs) :\n",
    "    print(kargs)"
   ]
  },
  {
   "cell_type": "code",
   "execution_count": 69,
   "id": "569d0a2d-398c-400d-8847-f2b9c39fa010",
   "metadata": {},
   "outputs": [
    {
     "name": "stdout",
     "output_type": "stream",
     "text": [
      "{'name': 'BG', 'age': 20, 'birth': '01/01'}\n"
     ]
    }
   ],
   "source": [
    "user_info(name = \"BG\", age = 20, birth = \"01/01\")"
   ]
  },
  {
   "cell_type": "code",
   "execution_count": null,
   "id": "3f524915-cac4-4ab2-ba25-300621cdb851",
   "metadata": {},
   "outputs": [],
   "source": [
    "print(\"안\", \"녕\", \"하\", \"세\", \"요\", sep = '')"
   ]
  },
  {
   "cell_type": "code",
   "execution_count": null,
   "id": "2de311c1-faba-43ec-8650-22ad0d6081ae",
   "metadata": {},
   "outputs": [],
   "source": []
  }
 ],
 "metadata": {
  "kernelspec": {
   "display_name": "Python 3 (ipykernel)",
   "language": "python",
   "name": "python3"
  },
  "language_info": {
   "codemirror_mode": {
    "name": "ipython",
    "version": 3
   },
   "file_extension": ".py",
   "mimetype": "text/x-python",
   "name": "python",
   "nbconvert_exporter": "python",
   "pygments_lexer": "ipython3",
   "version": "3.12.7"
  }
 },
 "nbformat": 4,
 "nbformat_minor": 5
}
