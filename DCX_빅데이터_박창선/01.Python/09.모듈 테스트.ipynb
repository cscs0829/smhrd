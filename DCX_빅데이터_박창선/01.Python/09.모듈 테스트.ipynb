{
 "cells": [
  {
   "cell_type": "code",
   "execution_count": 6,
   "id": "9c361664-1b87-4762-a2b8-3ae7777b7652",
   "metadata": {},
   "outputs": [
    {
     "name": "stderr",
     "output_type": "stream",
     "text": [
      "[NbConvertApp] Converting notebook 모듈.ipynb to script\n",
      "[NbConvertApp] Writing 304 bytes to 모듈.py\n"
     ]
    }
   ],
   "source": [
    "import 모듈"
   ]
  },
  {
   "cell_type": "code",
   "execution_count": 7,
   "id": "d182d5aa-bb3a-4d7d-a395-e933c2ab59db",
   "metadata": {},
   "outputs": [
    {
     "data": {
      "text/plain": [
       "1"
      ]
     },
     "execution_count": 7,
     "metadata": {},
     "output_type": "execute_result"
    }
   ],
   "source": [
    "모듈.A"
   ]
  },
  {
   "cell_type": "code",
   "execution_count": 8,
   "id": "6848c376-83f5-4700-b699-7d7a31697407",
   "metadata": {},
   "outputs": [
    {
     "data": {
      "text/plain": [
       "2"
      ]
     },
     "execution_count": 8,
     "metadata": {},
     "output_type": "execute_result"
    }
   ],
   "source": [
    "모듈.B"
   ]
  },
  {
   "cell_type": "code",
   "execution_count": 10,
   "id": "13dfa24c-e494-4d57-83f7-240eefaf463d",
   "metadata": {},
   "outputs": [
    {
     "data": {
      "text/plain": [
       "17"
      ]
     },
     "execution_count": 10,
     "metadata": {},
     "output_type": "execute_result"
    }
   ],
   "source": [
    "모듈.add(1,5,4,7)"
   ]
  },
  {
   "cell_type": "code",
   "execution_count": null,
   "id": "7f24ce67-008f-4874-8cba-de77ed9ff189",
   "metadata": {},
   "outputs": [],
   "source": []
  },
  {
   "cell_type": "code",
   "execution_count": null,
   "id": "936697fc-60de-4c93-a71c-154bd944261d",
   "metadata": {},
   "outputs": [],
   "source": []
  },
  {
   "cell_type": "code",
   "execution_count": null,
   "id": "5f7b00c3-a383-464d-bbce-62dbc84195d0",
   "metadata": {},
   "outputs": [],
   "source": []
  }
 ],
 "metadata": {
  "kernelspec": {
   "display_name": "Python 3 (ipykernel)",
   "language": "python",
   "name": "python3"
  },
  "language_info": {
   "codemirror_mode": {
    "name": "ipython",
    "version": 3
   },
   "file_extension": ".py",
   "mimetype": "text/x-python",
   "name": "python",
   "nbconvert_exporter": "python",
   "pygments_lexer": "ipython3",
   "version": "3.12.7"
  }
 },
 "nbformat": 4,
 "nbformat_minor": 5
}
