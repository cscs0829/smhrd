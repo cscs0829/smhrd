{
 "cells": [
  {
   "cell_type": "code",
   "execution_count": 1,
   "id": "1d3231bf-0fb4-4f5e-9426-4dae892c7b08",
   "metadata": {},
   "outputs": [],
   "source": [
    "# 이미지를 저장하기 위한 라이브러리\n",
    "from urllib.request import urlretrieve"
   ]
  },
  {
   "cell_type": "code",
   "execution_count": 2,
   "id": "3d0b6771-cd85-44dd-a8ff-862c46844893",
   "metadata": {},
   "outputs": [
    {
     "data": {
      "text/plain": [
       "('C:/Users/smhrd/03.Crawling/이미지/이미지.jpg',\n",
       " <http.client.HTTPMessage at 0x1d89cd10f50>)"
      ]
     },
     "execution_count": 2,
     "metadata": {},
     "output_type": "execute_result"
    }
   ],
   "source": [
    "image_path = 'https://item.kakaocdn.net/do/47112f1ae6f87f4323cb73f65a8c5424f604e7b0e6900f9ac53a43965300eb9a'\n",
    "save_path = 'C:/Users/smhrd/03.Crawling/이미지'\n",
    "\n",
    "# urlretrieve(이미지 실제경로, 저장할 위치)\n",
    "urlretrieve(image_path, save_path+'/이미지.jpg')"
   ]
  },
  {
   "cell_type": "markdown",
   "id": "09c01f83-4b08-45b9-ae8a-d58d1c053f2f",
   "metadata": {},
   "source": [
    "### Question1\n",
    "\n",
    "gmarket에서 상품 데이터 수집해서 데이터프레임\n",
    "-상품명, 가격\n",
    "\n",
    "네이버 멜론 사이트에서 데이터 수집해서 데이터프레임\n",
    "-순위, 곡명, 가수명, 좋아요수\n",
    "\n",
    "유튜브 사이트에서 데이터 수집해서 데이터프레임\n",
    "-영상제공 URL, 조회수"
   ]
  },
  {
   "cell_type": "code",
   "execution_count": null,
   "id": "b8e21e0a-c298-45ea-8ce7-69fbac387d4c",
   "metadata": {},
   "outputs": [],
   "source": []
  },
  {
   "cell_type": "markdown",
   "id": "7a6dd50d-77d0-446c-a18a-004e7b8678cb",
   "metadata": {},
   "source": [
    "### Question2~4"
   ]
  },
  {
   "cell_type": "code",
   "execution_count": null,
   "id": "434a9c12-321f-4875-a229-9dabf594d6b5",
   "metadata": {},
   "outputs": [],
   "source": []
  },
  {
   "cell_type": "code",
   "execution_count": null,
   "id": "7e2f7f8d-12fd-484f-85eb-7b258fc4af80",
   "metadata": {},
   "outputs": [],
   "source": []
  },
  {
   "cell_type": "code",
   "execution_count": null,
   "id": "db4d6a28-06df-4e39-8b79-1be92e1f057f",
   "metadata": {},
   "outputs": [],
   "source": []
  },
  {
   "cell_type": "code",
   "execution_count": null,
   "id": "bff41fe8-699e-452b-b86f-3a62139d0168",
   "metadata": {},
   "outputs": [],
   "source": []
  }
 ],
 "metadata": {
  "kernelspec": {
   "display_name": "Python 3 (ipykernel)",
   "language": "python",
   "name": "python3"
  },
  "language_info": {
   "codemirror_mode": {
    "name": "ipython",
    "version": 3
   },
   "file_extension": ".py",
   "mimetype": "text/x-python",
   "name": "python",
   "nbconvert_exporter": "python",
   "pygments_lexer": "ipython3",
   "version": "3.12.3"
  }
 },
 "nbformat": 4,
 "nbformat_minor": 5
}
