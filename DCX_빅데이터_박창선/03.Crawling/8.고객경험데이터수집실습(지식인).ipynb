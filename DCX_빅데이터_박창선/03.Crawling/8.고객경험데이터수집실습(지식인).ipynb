{
 "cells": [
  {
   "cell_type": "markdown",
   "id": "3e931dba-afbb-4c23-89e3-3ea6a2c1714c",
   "metadata": {},
   "source": [
    "## 1.문제정의)\n",
    "- \"LG\"전자에서 2025년 상반기에 새로운 제품을 출시하려고 한다.\n",
    "- 제품의 키워드는 \"음식물 처리기\"로 선정\n",
    "- 타 사제품의 시장조사, 고객의 사용후기 등 데이터 확보 필요\n",
    "\n",
    "## 2.데이터 수집)\n",
    "- 소스: 네이버 지식인, 카페, 블로그, 유튜브 댓글, 쇼핑몰 제품 리뷰란 등\n",
    "\n",
    "## 3.텍스트 데이터 분석)\n",
    "- 머신러닝, 딥러닝을 활용해서 데이터의 감성분석(긍/부정), 빈도분석 등을 통해 고객의 니즈 분석"
   ]
  },
  {
   "cell_type": "markdown",
   "id": "043b4ac8-d9a3-4e9e-8780-3d1055c9f165",
   "metadata": {},
   "source": [
    "### 네이버 지식인 데이터 수집 프로세스\n",
    "1. 네이버 메인에서 \"음식물 처리기\" 키워드 검색\n",
    "2. \"지식in\" 탭 클릭\n",
    "3. 게시글 클릭 후 리뷰 데이터 수집\n",
    "* 지식인 게시글 확보를 위해서 스크롤 내리기 동작 필요\n",
    "* 기간설정을 통한 지식인 게시글 확보"
   ]
  },
  {
   "cell_type": "code",
   "execution_count": 1,
   "id": "c32232fc-90db-404e-a9fd-d4af32225f0d",
   "metadata": {},
   "outputs": [],
   "source": [
    "from selenium import webdriver as wb\n",
    "from selenium.webdriver.common.by import By\n",
    "from selenium.webdriver.common.keys import Keys\n",
    "from tqdm import tqdm\n",
    "\n",
    "import time\n",
    "import re\n",
    "\n",
    "def preprocess_sentence_kr(w):\n",
    "  w = w.strip()\n",
    "  w = re.sub(r\"[^0-9가-힣?.!,¿]+\", \" \", w)\n",
    "  w = w.strip()\n",
    "  return w"
   ]
  },
  {
   "cell_type": "code",
   "execution_count": 2,
   "id": "04f18a02-cfee-407a-a84f-8617f029d648",
   "metadata": {},
   "outputs": [],
   "source": [
    "# 1.네이버 메인 페이지 요청 후 \"음식물 처리기\" 검색되도록 구현해보기\n",
    "driver = wb.Chrome()"
   ]
  },
  {
   "cell_type": "code",
   "execution_count": 3,
   "id": "69f25042-34a4-4ccf-95c9-3747b5d707b9",
   "metadata": {},
   "outputs": [],
   "source": [
    "url = 'https://www.naver.com'\n",
    "driver.get(url)"
   ]
  },
  {
   "cell_type": "code",
   "execution_count": 4,
   "id": "decd7bde-365a-40cf-b7d5-f66ab4887120",
   "metadata": {},
   "outputs": [],
   "source": [
    "keyword = '그린라이트'\n",
    "search_input = driver.find_element(By.ID, 'query')\n",
    "search_input.send_keys(keyword+'\\n')"
   ]
  },
  {
   "cell_type": "code",
   "execution_count": 5,
   "id": "b08cefa8-aa25-4104-8c58-04f00f32a26e",
   "metadata": {},
   "outputs": [],
   "source": [
    "# 2.\"지식in\" 탭 클릭\n",
    "driver.find_element(By.LINK_TEXT, '지식iN').click()"
   ]
  },
  {
   "cell_type": "code",
   "execution_count": 6,
   "id": "c387078f-d640-4ce0-aa79-84ec4ed7a91c",
   "metadata": {},
   "outputs": [],
   "source": [
    "# 기간설정하는 방법\n",
    "option_btn = driver.find_element(By.CSS_SELECTOR, '.btn_option._search_option_open_btn')\n",
    "option_btn.click()"
   ]
  },
  {
   "cell_type": "code",
   "execution_count": 7,
   "id": "38250840-c50f-438c-ac89-57bd634cb0cd",
   "metadata": {},
   "outputs": [],
   "source": [
    "# 기간값을 가진 요소 추출\n",
    "options = driver.find_elements(By.CSS_SELECTOR, 'li.term a.txt')\n",
    "\n",
    "options[6].click()"
   ]
  },
  {
   "cell_type": "code",
   "execution_count": 8,
   "id": "944e1e6a-3557-4209-be1d-6d9170a048cc",
   "metadata": {},
   "outputs": [
    {
     "name": "stdout",
     "output_type": "stream",
     "text": [
      "https://search.naver.com/search.naver?where=kin&query=그린라이트&sm=tab_opt&nso=so:r,p:1y,sa:all&answer=0\n"
     ]
    }
   ],
   "source": [
    "# URL주소의 패턴을 활용한 페이지 요청방법\n",
    "# %20: 공백을 표현하는 문자\n",
    "# term: 기간설정 ( 1h, 1w, 1m, 3m, 6m, 1y )\n",
    "keyword = '그린라이트'\n",
    "term = '1y'\n",
    "url2 = f'https://search.naver.com/search.naver?where=kin&query={keyword}&sm=tab_opt&nso=so:r,p:{term},sa:all&answer=0'\n",
    "\n",
    "print(url2)"
   ]
  },
  {
   "cell_type": "code",
   "execution_count": 9,
   "id": "3e839174-4a24-4d93-8d7d-688968a1e7c0",
   "metadata": {},
   "outputs": [],
   "source": [
    "# 3.스크롤 내리기\n",
    "for i in range(100):\n",
    "    body = driver.find_element(By.TAG_NAME, 'body')\n",
    "    body.send_keys(Keys.END)\n",
    "    time.sleep(1)"
   ]
  },
  {
   "cell_type": "code",
   "execution_count": 10,
   "id": "2b458d35-964d-401f-9fa1-eef0a83e65b2",
   "metadata": {
    "scrolled": true
   },
   "outputs": [
    {
     "data": {
      "text/plain": [
       "['https://kin.naver.com/qna/detail.naver?d1id=8&dirId=80208&docId=480050638&enc=utf8&kinsrch_src=pc_tab_kin&qb=6re466aw65287J207Yq4&rank=1&search_sort=0&section=kin.qna_ency_cafe&spq=0',\n",
       " 'https://kin.naver.com/qna/detail.naver?d1id=8&dirId=80101&docId=474914297&enc=utf8&kinsrch_src=pc_tab_kin&qb=6re466aw65287J207Yq4&rank=2&search_sort=0&section=kin.qna_ency_cafe&spq=0',\n",
       " 'https://kin.naver.com/qna/detail.naver?d1id=8&dirId=80101&docId=476546781&enc=utf8&kinsrch_src=pc_tab_kin&qb=6re466aw65287J207Yq4&rank=3&search_sort=0&section=kin.qna_ency_cafe&spq=0',\n",
       " 'https://kin.naver.com/qna/detail.naver?d1id=8&dirId=80101&docId=477928014&enc=utf8&kinsrch_src=pc_tab_kin&qb=6re466aw65287J207Yq4&rank=4&search_sort=0&section=kin.qna_ency_cafe&spq=0',\n",
       " 'https://kin.naver.com/qna/detail.naver?d1id=8&dirId=80101&docId=477584558&enc=utf8&kinsrch_src=pc_tab_kin&qb=6re466aw65287J207Yq4&rank=5&search_sort=0&section=kin.qna_ency_cafe&spq=0',\n",
       " 'https://kin.naver.com/qna/detail.naver?d1id=8&dirId=80101&docId=474745784&enc=utf8&kinsrch_src=pc_tab_kin&qb=6re466aw65287J207Yq4&rank=6&search_sort=0&section=kin.qna_ency_cafe&spq=0',\n",
       " 'https://kin.naver.com/qna/detail.naver?d1id=8&dirId=80101&docId=476140892&enc=utf8&kinsrch_src=pc_tab_kin&qb=6re466aw65287J207Yq4&rank=7&search_sort=0&section=kin.qna_ency_cafe&spq=0',\n",
       " 'https://kin.naver.com/qna/detail.naver?d1id=8&dirId=80101&docId=473684937&enc=utf8&kinsrch_src=pc_tab_kin&qb=6re466aw65287J207Yq4&rank=8&search_sort=0&section=kin.qna_ency_cafe&spq=0',\n",
       " 'https://kin.naver.com/qna/detail.naver?d1id=11&dirId=1111&docId=478275233&enc=utf8&kinsrch_src=pc_tab_kin&qb=6re466aw65287J207Yq4&rank=9&search_sort=0&section=kin.qna_ency_cafe&spq=0',\n",
       " 'https://kin.naver.com/qna/detail.naver?d1id=8&dirId=80101&docId=479847157&enc=utf8&kinsrch_src=pc_tab_kin&qb=6re466aw65287J207Yq4&rank=10&search_sort=0&section=kin.qna_ency_cafe&spq=0',\n",
       " 'https://kin.naver.com/qna/detail.naver?d1id=8&dirId=80101&docId=474739963&enc=utf8&kinsrch_src=pc_tab_kin&qb=6re466aw65287J207Yq4&rank=11&search_sort=0&section=kin.qna_ency_cafe&spq=0',\n",
       " 'https://kin.naver.com/qna/detail.naver?d1id=8&dirId=80101&docId=478393917&enc=utf8&kinsrch_src=pc_tab_kin&qb=6re466aw65287J207Yq4&rank=12&search_sort=0&section=kin.qna_ency_cafe&spq=0',\n",
       " 'https://kin.naver.com/qna/detail.naver?d1id=8&dirId=814&docId=480241787&enc=utf8&kinsrch_src=pc_tab_kin&qb=6re466aw65287J207Yq4&rank=13&search_sort=0&section=kin.qna_ency_cafe&spq=0',\n",
       " 'https://kin.naver.com/qna/detail.naver?d1id=8&dirId=80101&docId=478388016&enc=utf8&kinsrch_src=pc_tab_kin&qb=6re466aw65287J207Yq4&rank=14&search_sort=0&section=kin.qna_ency_cafe&spq=0',\n",
       " 'https://kin.naver.com/qna/detail.naver?d1id=6&dirId=61303&docId=478688322&enc=utf8&kinsrch_src=pc_tab_kin&qb=6re466aw65287J207Yq4&rank=15&search_sort=0&section=kin.qna_ency_cafe&spq=0',\n",
       " 'https://kin.naver.com/qna/detail.naver?d1id=8&dirId=814&docId=478613986&enc=utf8&kinsrch_src=pc_tab_kin&qb=6re466aw65287J207Yq4&rank=16&search_sort=0&section=kin.qna_ency_cafe&spq=0',\n",
       " 'https://kin.naver.com/qna/detail.naver?d1id=8&dirId=814&docId=480256366&enc=utf8&kinsrch_src=pc_tab_kin&qb=6re466aw65287J207Yq4&rank=17&search_sort=0&section=kin.qna_ency_cafe&spq=0',\n",
       " 'https://kin.naver.com/qna/detail.naver?d1id=3&dirId=302140101&docId=480583330&enc=utf8&kinsrch_src=pc_tab_kin&qb=6re466aw65287J207Yq4&rank=18&search_sort=0&section=kin.qna_ency_cafe&spq=0',\n",
       " 'https://kin.naver.com/qna/detail.naver?d1id=11&dirId=110307&docId=474745575&enc=utf8&kinsrch_src=pc_tab_kin&qb=6re466aw65287J207Yq4&rank=19&search_sort=0&section=kin.qna_ency_cafe&spq=0',\n",
       " 'https://kin.naver.com/qna/detail.naver?d1id=6&dirId=61303&docId=479992835&enc=utf8&kinsrch_src=pc_tab_kin&qb=6re466aw65287J207Yq4&rank=20&search_sort=0&section=kin.qna_ency_cafe&spq=0',\n",
       " 'https://kin.naver.com/qna/detail.naver?d1id=6&dirId=61303&docId=478396302&enc=utf8&kinsrch_src=pc_tab_kin&qb=6re466aw65287J207Yq4&rank=21&search_sort=0&section=kin.qna_ency_cafe&spq=0',\n",
       " 'https://kin.naver.com/qna/detail.naver?d1id=8&dirId=80101&docId=479884230&enc=utf8&kinsrch_src=pc_tab_kin&qb=6re466aw65287J207Yq4&rank=22&search_sort=0&section=kin.qna_ency_cafe&spq=0',\n",
       " 'https://kin.naver.com/qna/detail.naver?d1id=8&dirId=80101&docId=478414690&enc=utf8&kinsrch_src=pc_tab_kin&qb=6re466aw65287J207Yq4&rank=23&search_sort=0&section=kin.qna_ency_cafe&spq=0',\n",
       " 'https://kin.naver.com/qna/detail.naver?d1id=8&dirId=80101&docId=476789707&enc=utf8&kinsrch_src=pc_tab_kin&qb=6re466aw65287J207Yq4&rank=24&search_sort=0&section=kin.qna_ency_cafe&spq=0',\n",
       " 'https://kin.naver.com/qna/detail.naver?d1id=8&dirId=80101&docId=480322275&enc=utf8&kinsrch_src=pc_tab_kin&qb=6re466aw65287J207Yq4&rank=25&search_sort=0&section=kin.qna_ency_cafe&spq=0',\n",
       " 'https://kin.naver.com/qna/detail.naver?d1id=8&dirId=80702&docId=477031713&enc=utf8&kinsrch_src=pc_tab_kin&qb=6re466aw65287J207Yq4&rank=26&search_sort=0&section=kin.qna_ency_cafe&spq=0',\n",
       " 'https://kin.naver.com/qna/detail.naver?d1id=8&dirId=80101&docId=477131911&enc=utf8&kinsrch_src=pc_tab_kin&qb=6re466aw65287J207Yq4&rank=27&search_sort=0&section=kin.qna_ency_cafe&spq=0',\n",
       " 'https://kin.naver.com/qna/detail.naver?d1id=8&dirId=80101&docId=478390576&enc=utf8&kinsrch_src=pc_tab_kin&qb=6re466aw65287J207Yq4&rank=28&search_sort=0&section=kin.qna_ency_cafe&spq=0',\n",
       " 'https://kin.naver.com/qna/detail.naver?d1id=8&dirId=814&docId=479838551&enc=utf8&kinsrch_src=pc_tab_kin&qb=6re466aw65287J207Yq4&rank=29&search_sort=0&section=kin.qna_ency_cafe&spq=0',\n",
       " 'https://kin.naver.com/qna/detail.naver?d1id=8&dirId=80101&docId=474092004&enc=utf8&kinsrch_src=pc_tab_kin&qb=6re466aw65287J207Yq4&rank=30&search_sort=0&section=kin.qna_ency_cafe&spq=0',\n",
       " 'https://kin.naver.com/qna/detail.naver?d1id=8&dirId=80101&docId=477127476&enc=utf8&kinsrch_src=pc_tab_kin&qb=6re466aw65287J207Yq4&rank=31&search_sort=0&section=kin.qna_ency_cafe&spq=0',\n",
       " 'https://kin.naver.com/qna/detail.naver?d1id=8&dirId=80101&docId=477982736&enc=utf8&kinsrch_src=pc_tab_kin&qb=6re466aw65287J207Yq4&rank=32&search_sort=0&section=kin.qna_ency_cafe&spq=0',\n",
       " 'https://kin.naver.com/qna/detail.naver?d1id=11&dirId=1111&docId=479737919&enc=utf8&kinsrch_src=pc_tab_kin&qb=6re466aw65287J207Yq4&rank=33&search_sort=0&section=kin.qna_ency_cafe&spq=0',\n",
       " 'https://kin.naver.com/qna/detail.naver?d1id=8&dirId=80101&docId=476837765&enc=utf8&kinsrch_src=pc_tab_kin&qb=6re466aw65287J207Yq4&rank=34&search_sort=0&section=kin.qna_ency_cafe&spq=0',\n",
       " 'https://kin.naver.com/qna/detail.naver?d1id=11&dirId=110307&docId=480067324&enc=utf8&kinsrch_src=pc_tab_kin&qb=6re466aw65287J207Yq4&rank=35&search_sort=0&section=kin.qna_ency_cafe&spq=0',\n",
       " 'https://kin.naver.com/qna/detail.naver?d1id=8&dirId=80101&docId=473681329&enc=utf8&kinsrch_src=pc_tab_kin&qb=6re466aw65287J207Yq4&rank=36&search_sort=0&section=kin.qna_ency_cafe&spq=0',\n",
       " 'https://kin.naver.com/qna/detail.naver?d1id=6&dirId=6130203&docId=476586427&enc=utf8&kinsrch_src=pc_tab_kin&qb=6re466aw65287J207Yq4&rank=37&search_sort=0&section=kin.qna_ency_cafe&spq=0',\n",
       " 'https://kin.naver.com/qna/detail.naver?d1id=8&dirId=80101&docId=475895052&enc=utf8&kinsrch_src=pc_tab_kin&qb=6re466aw65287J207Yq4&rank=38&search_sort=0&section=kin.qna_ency_cafe&spq=0',\n",
       " 'https://kin.naver.com/qna/detail.naver?d1id=8&dirId=80101&docId=458857276&enc=utf8&kinsrch_src=pc_tab_kin&qb=6re466aw65287J207Yq4&rank=39&search_sort=0&section=kin.qna_ency_cafe&spq=0',\n",
       " 'https://kin.naver.com/qna/detail.naver?d1id=8&dirId=80101&docId=477607562&enc=utf8&kinsrch_src=pc_tab_kin&qb=6re466aw65287J207Yq4&rank=40&search_sort=0&section=kin.qna_ency_cafe&spq=0',\n",
       " 'https://kin.naver.com/qna/detail.naver?d1id=8&dirId=80101&docId=476927673&enc=utf8&kinsrch_src=pc_tab_kin&qb=6re466aw65287J207Yq4&rank=41&search_sort=0&section=kin.qna_ency_cafe&spq=0',\n",
       " 'https://kin.naver.com/qna/detail.naver?d1id=8&dirId=80101&docId=474524995&enc=utf8&kinsrch_src=pc_tab_kin&qb=6re466aw65287J207Yq4&rank=42&search_sort=0&section=kin.qna_ency_cafe&spq=0',\n",
       " 'https://kin.naver.com/qna/detail.naver?d1id=8&dirId=80101&docId=476135146&enc=utf8&kinsrch_src=pc_tab_kin&qb=6re466aw65287J207Yq4&rank=43&search_sort=0&section=kin.qna_ency_cafe&spq=0',\n",
       " 'https://kin.naver.com/qna/detail.naver?d1id=8&dirId=80101&docId=473578551&enc=utf8&kinsrch_src=pc_tab_kin&qb=6re466aw65287J207Yq4&rank=44&search_sort=0&section=kin.qna_ency_cafe&spq=0',\n",
       " 'https://kin.naver.com/qna/detail.naver?d1id=8&dirId=80101&docId=473578489&enc=utf8&kinsrch_src=pc_tab_kin&qb=6re466aw65287J207Yq4&rank=45&search_sort=0&section=kin.qna_ency_cafe&spq=0',\n",
       " 'https://kin.naver.com/qna/detail.naver?d1id=8&dirId=80101&docId=474544359&enc=utf8&kinsrch_src=pc_tab_kin&qb=6re466aw65287J207Yq4&rank=46&search_sort=0&section=kin.qna_ency_cafe&spq=0',\n",
       " 'https://kin.naver.com/qna/detail.naver?d1id=8&dirId=814&docId=478275867&enc=utf8&kinsrch_src=pc_tab_kin&qb=6re466aw65287J207Yq4&rank=47&search_sort=0&section=kin.qna_ency_cafe&spq=0',\n",
       " 'https://kin.naver.com/qna/detail.naver?d1id=8&dirId=80101&docId=479217744&enc=utf8&kinsrch_src=pc_tab_kin&qb=6re466aw65287J207Yq4&rank=48&search_sort=0&section=kin.qna_ency_cafe&spq=0',\n",
       " 'https://kin.naver.com/qna/detail.naver?d1id=8&dirId=80101&docId=477764068&enc=utf8&kinsrch_src=pc_tab_kin&qb=6re466aw65287J207Yq4&rank=49&search_sort=0&section=kin.qna_ency_cafe&spq=0',\n",
       " 'https://kin.naver.com/qna/detail.naver?d1id=8&dirId=80101&docId=477299710&enc=utf8&kinsrch_src=pc_tab_kin&qb=6re466aw65287J207Yq4&rank=50&search_sort=0&section=kin.qna_ency_cafe&spq=0',\n",
       " 'https://kin.naver.com/qna/detail.naver?d1id=13&dirId=1305&docId=479410820&enc=utf8&kinsrch_src=pc_tab_kin&qb=6re466aw65287J207Yq4&rank=51&search_sort=0&section=kin.qna_ency_cafe&spq=0',\n",
       " 'https://kin.naver.com/qna/detail.naver?d1id=8&dirId=80101&docId=474294848&enc=utf8&kinsrch_src=pc_tab_kin&qb=6re466aw65287J207Yq4&rank=52&search_sort=0&section=kin.qna_ency_cafe&spq=0',\n",
       " 'https://kin.naver.com/qna/detail.naver?d1id=8&dirId=80101&docId=473639827&enc=utf8&kinsrch_src=pc_tab_kin&qb=6re466aw65287J207Yq4&rank=53&search_sort=0&section=kin.qna_ency_cafe&spq=0',\n",
       " 'https://kin.naver.com/qna/detail.naver?d1id=6&dirId=61303&docId=478682396&enc=utf8&kinsrch_src=pc_tab_kin&qb=6re466aw65287J207Yq4&rank=54&search_sort=0&section=kin.qna_ency_cafe&spq=0',\n",
       " 'https://kin.naver.com/qna/detail.naver?d1id=8&dirId=80101&docId=476504312&enc=utf8&kinsrch_src=pc_tab_kin&qb=6re466aw65287J207Yq4&rank=55&search_sort=0&section=kin.qna_ency_cafe&spq=0',\n",
       " 'https://kin.naver.com/qna/detail.naver?d1id=8&dirId=80101&docId=475914472&enc=utf8&kinsrch_src=pc_tab_kin&qb=6re466aw65287J207Yq4&rank=56&search_sort=0&section=kin.qna_ency_cafe&spq=0',\n",
       " 'https://kin.naver.com/qna/detail.naver?d1id=8&dirId=80101&docId=478221397&enc=utf8&kinsrch_src=pc_tab_kin&qb=6re466aw65287J207Yq4&rank=57&search_sort=0&section=kin.qna_ency_cafe&spq=0',\n",
       " 'https://kin.naver.com/qna/detail.naver?d1id=8&dirId=80101&docId=379571408&enc=utf8&kinsrch_src=pc_tab_kin&qb=6re466aw65287J207Yq4&rank=58&search_sort=0&section=kin.qna_ency_cafe&spq=0',\n",
       " 'https://kin.naver.com/qna/detail.naver?d1id=8&dirId=80101&docId=474999920&enc=utf8&kinsrch_src=pc_tab_kin&qb=6re466aw65287J207Yq4&rank=59&search_sort=0&section=kin.qna_ency_cafe&spq=0',\n",
       " 'https://kin.naver.com/qna/detail.naver?d1id=8&dirId=80101&docId=478392259&enc=utf8&kinsrch_src=pc_tab_kin&qb=6re466aw65287J207Yq4&rank=60&search_sort=0&section=kin.qna_ency_cafe&spq=0',\n",
       " 'https://kin.naver.com/qna/detail.naver?d1id=8&dirId=80101&docId=474061120&enc=utf8&kinsrch_src=pc_tab_kin&qb=6re466aw65287J207Yq4&rank=61&search_sort=0&section=kin.qna_ency_cafe&spq=0',\n",
       " 'https://kin.naver.com/qna/detail.naver?d1id=8&dirId=80101&docId=474743057&enc=utf8&kinsrch_src=pc_tab_kin&qb=6re466aw65287J207Yq4&rank=62&search_sort=0&section=kin.qna_ency_cafe&spq=0',\n",
       " 'https://kin.naver.com/qna/detail.naver?d1id=8&dirId=80101&docId=476375658&enc=utf8&kinsrch_src=pc_tab_kin&qb=6re466aw65287J207Yq4&rank=63&search_sort=0&section=kin.qna_ency_cafe&spq=0',\n",
       " 'https://kin.naver.com/qna/detail.naver?d1id=8&dirId=80101&docId=476927515&enc=utf8&kinsrch_src=pc_tab_kin&qb=6re466aw65287J207Yq4&rank=64&search_sort=0&section=kin.qna_ency_cafe&spq=0',\n",
       " 'https://kin.naver.com/qna/detail.naver?d1id=1&dirId=1061203&docId=476594716&enc=utf8&kinsrch_src=pc_tab_kin&qb=6re466aw65287J207Yq4&rank=65&search_sort=0&section=kin.qna_ency_cafe&spq=0',\n",
       " 'https://kin.naver.com/qna/detail.naver?d1id=8&dirId=80101&docId=472806097&enc=utf8&kinsrch_src=pc_tab_kin&qb=6re466aw65287J207Yq4&rank=66&search_sort=0&section=kin.qna_ency_cafe&spq=0',\n",
       " 'https://kin.naver.com/qna/detail.naver?d1id=8&dirId=80101&docId=478275346&enc=utf8&kinsrch_src=pc_tab_kin&qb=6re466aw65287J207Yq4&rank=67&search_sort=0&section=kin.qna_ency_cafe&spq=0',\n",
       " 'https://kin.naver.com/qna/detail.naver?d1id=8&dirId=80101&docId=474292462&enc=utf8&kinsrch_src=pc_tab_kin&qb=6re466aw65287J207Yq4&rank=68&search_sort=0&section=kin.qna_ency_cafe&spq=0',\n",
       " 'https://kin.naver.com/qna/detail.naver?d1id=8&dirId=80101&docId=474978491&enc=utf8&kinsrch_src=pc_tab_kin&qb=6re466aw65287J207Yq4&rank=69&search_sort=0&section=kin.qna_ency_cafe&spq=0',\n",
       " 'https://kin.naver.com/qna/detail.naver?d1id=8&dirId=80101&docId=474290417&enc=utf8&kinsrch_src=pc_tab_kin&qb=6re466aw65287J207Yq4&rank=70&search_sort=0&section=kin.qna_ency_cafe&spq=0',\n",
       " 'https://kin.naver.com/qna/detail.naver?d1id=8&dirId=80101&docId=474290583&enc=utf8&kinsrch_src=pc_tab_kin&qb=6re466aw65287J207Yq4&rank=71&search_sort=0&section=kin.qna_ency_cafe&spq=0',\n",
       " 'https://kin.naver.com/qna/detail.naver?d1id=8&dirId=80101&docId=478416668&enc=utf8&kinsrch_src=pc_tab_kin&qb=6re466aw65287J207Yq4&rank=72&search_sort=0&section=kin.qna_ency_cafe&spq=0',\n",
       " 'https://kin.naver.com/qna/detail.naver?d1id=8&dirId=80101&docId=479156852&enc=utf8&kinsrch_src=pc_tab_kin&qb=6re466aw65287J207Yq4&rank=73&search_sort=0&section=kin.qna_ency_cafe&spq=0',\n",
       " 'https://kin.naver.com/qna/detail.naver?d1id=8&dirId=80101&docId=480568692&enc=utf8&kinsrch_src=pc_tab_kin&qb=6re466aw65287J207Yq4&rank=74&search_sort=0&section=kin.qna_ency_cafe&spq=0',\n",
       " 'https://kin.naver.com/qna/detail.naver?d1id=1&dirId=1061203&docId=475943486&enc=utf8&kinsrch_src=pc_tab_kin&qb=6re466aw65287J207Yq4&rank=75&search_sort=0&section=kin.qna_ency_cafe&spq=0',\n",
       " 'https://kin.naver.com/qna/detail.naver?d1id=12&dirId=120110&docId=477336825&enc=utf8&kinsrch_src=pc_tab_kin&qb=6re466aw65287J207Yq4&rank=76&search_sort=0&section=kin.qna_ency_cafe&spq=0',\n",
       " 'https://kin.naver.com/qna/detail.naver?d1id=8&dirId=80101&docId=479340521&enc=utf8&kinsrch_src=pc_tab_kin&qb=6re466aw65287J207Yq4&rank=77&search_sort=0&section=kin.qna_ency_cafe&spq=0',\n",
       " 'https://kin.naver.com/qna/detail.naver?d1id=6&dirId=61303&docId=479614688&enc=utf8&kinsrch_src=pc_tab_kin&qb=6re466aw65287J207Yq4&rank=78&search_sort=0&section=kin.qna_ency_cafe&spq=0',\n",
       " 'https://kin.naver.com/qna/detail.naver?d1id=8&dirId=814&docId=479729781&enc=utf8&kinsrch_src=pc_tab_kin&qb=6re466aw65287J207Yq4&rank=79&search_sort=0&section=kin.qna_ency_cafe&spq=0',\n",
       " 'https://kin.naver.com/qna/detail.naver?d1id=6&dirId=61303&docId=477131971&enc=utf8&kinsrch_src=pc_tab_kin&qb=6re466aw65287J207Yq4&rank=80&search_sort=0&section=kin.qna_ency_cafe&spq=0',\n",
       " 'https://kin.naver.com/qna/detail.naver?d1id=8&dirId=80101&docId=476134109&enc=utf8&kinsrch_src=pc_tab_kin&qb=6re466aw65287J207Yq4&rank=81&search_sort=0&section=kin.qna_ency_cafe&spq=0',\n",
       " 'https://kin.naver.com/qna/detail.naver?d1id=8&dirId=80101&docId=474203687&enc=utf8&kinsrch_src=pc_tab_kin&qb=6re466aw65287J207Yq4&rank=82&search_sort=0&section=kin.qna_ency_cafe&spq=0',\n",
       " 'https://kin.naver.com/qna/detail.naver?d1id=6&dirId=60207&docId=473450954&enc=utf8&kinsrch_src=pc_tab_kin&qb=6re466aw65287J207Yq4&rank=83&search_sort=0&section=kin.qna_ency_cafe&spq=0',\n",
       " 'https://kin.naver.com/qna/detail.naver?d1id=8&dirId=80101&docId=478112666&enc=utf8&kinsrch_src=pc_tab_kin&qb=6re466aw65287J207Yq4&rank=84&search_sort=0&section=kin.qna_ency_cafe&spq=0',\n",
       " 'https://kin.naver.com/qna/detail.naver?d1id=8&dirId=814&docId=473975621&enc=utf8&kinsrch_src=pc_tab_kin&qb=6re466aw65287J207Yq4&rank=85&search_sort=0&section=kin.qna_ency_cafe&spq=0',\n",
       " 'https://kin.naver.com/qna/detail.naver?d1id=8&dirId=80101&docId=474404416&enc=utf8&kinsrch_src=pc_tab_kin&qb=6re466aw65287J207Yq4&rank=86&search_sort=0&section=kin.qna_ency_cafe&spq=0',\n",
       " 'https://kin.naver.com/qna/detail.naver?d1id=8&dirId=80101&docId=473578655&enc=utf8&kinsrch_src=pc_tab_kin&qb=6re466aw65287J207Yq4&rank=87&search_sort=0&section=kin.qna_ency_cafe&spq=0',\n",
       " 'https://kin.naver.com/qna/detail.naver?d1id=3&dirId=30202&docId=479708879&enc=utf8&kinsrch_src=pc_tab_kin&qb=6re466aw65287J207Yq4&rank=88&search_sort=0&section=kin.qna_ency_cafe&spq=0',\n",
       " 'https://kin.naver.com/qna/detail.naver?d1id=8&dirId=80101&docId=480368412&enc=utf8&kinsrch_src=pc_tab_kin&qb=6re466aw65287J207Yq4&rank=89&search_sort=0&section=kin.qna_ency_cafe&spq=0',\n",
       " 'https://kin.naver.com/qna/detail.naver?d1id=8&dirId=80101&docId=477781735&enc=utf8&kinsrch_src=pc_tab_kin&qb=6re466aw65287J207Yq4&rank=90&search_sort=0&section=kin.qna_ency_cafe&spq=0',\n",
       " 'https://kin.naver.com/qna/detail.naver?d1id=8&dirId=80101&docId=479928864&enc=utf8&kinsrch_src=pc_tab_kin&qb=6re466aw65287J207Yq4&rank=91&search_sort=0&section=kin.qna_ency_cafe&spq=0',\n",
       " 'https://kin.naver.com/qna/detail.naver?d1id=8&dirId=80101&docId=479264189&enc=utf8&kinsrch_src=pc_tab_kin&qb=6re466aw65287J207Yq4&rank=92&search_sort=0&section=kin.qna_ency_cafe&spq=0',\n",
       " 'https://kin.naver.com/qna/detail.naver?d1id=8&dirId=80101&docId=477126934&enc=utf8&kinsrch_src=pc_tab_kin&qb=6re466aw65287J207Yq4&rank=93&search_sort=0&section=kin.qna_ency_cafe&spq=0',\n",
       " 'https://kin.naver.com/qna/detail.naver?d1id=8&dirId=80101&docId=478387301&enc=utf8&kinsrch_src=pc_tab_kin&qb=6re466aw65287J207Yq4&rank=94&search_sort=0&section=kin.qna_ency_cafe&spq=0',\n",
       " 'https://kin.naver.com/qna/detail.naver?d1id=8&dirId=80101&docId=479445397&enc=utf8&kinsrch_src=pc_tab_kin&qb=6re466aw65287J207Yq4&rank=95&search_sort=0&section=kin.qna_ency_cafe&spq=0',\n",
       " 'https://kin.naver.com/qna/detail.naver?d1id=11&dirId=11080401&docId=476781662&enc=utf8&kinsrch_src=pc_tab_kin&qb=6re466aw65287J207Yq4&rank=96&search_sort=0&section=kin.qna_ency_cafe&spq=0',\n",
       " 'https://kin.naver.com/qna/detail.naver?d1id=11&dirId=110407&docId=476808167&enc=utf8&kinsrch_src=pc_tab_kin&qb=6re466aw65287J207Yq4&rank=97&search_sort=0&section=kin.qna_ency_cafe&spq=0',\n",
       " 'https://kin.naver.com/qna/detail.naver?d1id=3&dirId=30203&docId=477252271&enc=utf8&kinsrch_src=pc_tab_kin&qb=6re466aw65287J207Yq4&rank=98&search_sort=0&section=kin.qna_ency_cafe&spq=0',\n",
       " 'https://kin.naver.com/qna/detail.naver?d1id=8&dirId=80101&docId=479749343&enc=utf8&kinsrch_src=pc_tab_kin&qb=6re466aw65287J207Yq4&rank=99&search_sort=0&section=kin.qna_ency_cafe&spq=0',\n",
       " 'https://kin.naver.com/qna/detail.naver?d1id=8&dirId=80101&docId=474404267&enc=utf8&kinsrch_src=pc_tab_kin&qb=6re466aw65287J207Yq4&rank=100&search_sort=0&section=kin.qna_ency_cafe&spq=0',\n",
       " 'https://kin.naver.com/qna/detail.naver?d1id=8&dirId=80101&docId=474295011&enc=utf8&kinsrch_src=pc_tab_kin&qb=6re466aw65287J207Yq4&rank=101&search_sort=0&section=kin.qna_ency_cafe&spq=0',\n",
       " 'https://kin.naver.com/qna/detail.naver?d1id=8&dirId=80101&docId=476179441&enc=utf8&kinsrch_src=pc_tab_kin&qb=6re466aw65287J207Yq4&rank=102&search_sort=0&section=kin.qna_ency_cafe&spq=0',\n",
       " 'https://kin.naver.com/qna/detail.naver?d1id=6&dirId=61303&docId=477086913&enc=utf8&kinsrch_src=pc_tab_kin&qb=6re466aw65287J207Yq4&rank=103&search_sort=0&section=kin.qna_ency_cafe&spq=0',\n",
       " 'https://kin.naver.com/qna/detail.naver?d1id=8&dirId=80101&docId=478062489&enc=utf8&kinsrch_src=pc_tab_kin&qb=6re466aw65287J207Yq4&rank=104&search_sort=0&section=kin.qna_ency_cafe&spq=0',\n",
       " 'https://kin.naver.com/qna/detail.naver?d1id=8&dirId=80101&docId=475934385&enc=utf8&kinsrch_src=pc_tab_kin&qb=6re466aw65287J207Yq4&rank=105&search_sort=0&section=kin.qna_ency_cafe&spq=0',\n",
       " 'https://kin.naver.com/qna/detail.naver?d1id=8&dirId=80101&docId=478857896&enc=utf8&kinsrch_src=pc_tab_kin&qb=6re466aw65287J207Yq4&rank=106&search_sort=0&section=kin.qna_ency_cafe&spq=0',\n",
       " 'https://kin.naver.com/qna/detail.naver?d1id=8&dirId=8050102&docId=475746222&enc=utf8&kinsrch_src=pc_tab_kin&qb=6re466aw65287J207Yq4&rank=107&search_sort=0&section=kin.qna_ency_cafe&spq=0',\n",
       " 'https://kin.naver.com/qna/detail.naver?d1id=3&dirId=31401&docId=479009569&enc=utf8&kinsrch_src=pc_tab_kin&qb=6re466aw65287J207Yq4&rank=108&search_sort=0&section=kin.qna_ency_cafe&spq=0',\n",
       " 'https://kin.naver.com/qna/detail.naver?d1id=8&dirId=80101&docId=477945770&enc=utf8&kinsrch_src=pc_tab_kin&qb=6re466aw65287J207Yq4&rank=109&search_sort=0&section=kin.qna_ency_cafe&spq=0',\n",
       " 'https://kin.naver.com/qna/detail.naver?d1id=8&dirId=80101&docId=480511364&enc=utf8&kinsrch_src=pc_tab_kin&qb=6re466aw65287J207Yq4&rank=110&search_sort=0&section=kin.qna_ency_cafe&spq=0']"
      ]
     },
     "execution_count": 10,
     "metadata": {},
     "output_type": "execute_result"
    }
   ],
   "source": [
    "# 4.지식인 게시글 URL 수집\n",
    "#  get_attribute(속성이름)\n",
    "#  빈 리스트 변수명: href_list \n",
    "aTags = driver.find_elements(By.CSS_SELECTOR, 'div.api_save_group + div > a')\n",
    "len(aTags)\n",
    "\n",
    "href_list = []\n",
    "\n",
    "for a in aTags:\n",
    "    href_list.append(a.get_attribute('href'))\n",
    "\n",
    "href_list"
   ]
  },
  {
   "cell_type": "code",
   "execution_count": null,
   "id": "95f5c98f-d692-4af8-b0d2-e93d1550f32d",
   "metadata": {},
   "outputs": [
    {
     "name": "stderr",
     "output_type": "stream",
     "text": [
      " 10%|████████                                                                         | 11/110 [00:39<05:44,  3.48s/it]"
     ]
    }
   ],
   "source": [
    "# 5.확보된 URL 주소로 페이지를 반복적으로 요청\n",
    "# 6.게시글 내 작성된 리뷰 데이터를 추출하여 텍스트 파일로 저장 \n",
    "#   파일명: 네이버 지식인 리뷰 데이터.txt\n",
    "# try:\n",
    "#   실행문\n",
    "# except:\n",
    "#   실행문 or pass\n",
    "f = open('네이버 지식인 리뷰 데이터.txt','w')\n",
    "\n",
    "for i in tqdm(range(len(href_list))):\n",
    "    driver.get(href_list[i])\n",
    "\n",
    "    time.sleep(1.5)\n",
    "\n",
    "    try:\n",
    "        more_btn = driver.find_element(By.ID, 'nextPageButton')\n",
    "        more_btn.click()\n",
    "    except:\n",
    "        pass       \n",
    "\n",
    "    reviews = driver.find_elements(By.CLASS_NAME, 'se-main-container')\n",
    "\n",
    "    for j in range(len(reviews)):\n",
    "        content = preprocess_sentence_kr(reviews[j].text)\n",
    "        f.write(content)\n",
    "    \n",
    "    time.sleep(1.5)\n",
    "\n",
    "f.close()"
   ]
  },
  {
   "cell_type": "markdown",
   "id": "f69f5f27-feb3-485e-9ae9-9ac01e1fbdaa",
   "metadata": {},
   "source": [
    "## Kiwi 라이브러리\n",
    "- 빠른 속도와 범용적인 성능을 지향하는 지능형 한국어 형태소 분석기\n",
    "- 웹 텍스트 약 87% | 문어체 텍스트는 약 94% 정확도\n",
    "- konlpy보다 속도가 조금 더 빠르다는 특징, 설치도 쉬움\n",
    "- 참고사이트: https://github.com/bab2min/Kiwi?tab=readme-ov-file"
   ]
  },
  {
   "cell_type": "code",
   "execution_count": null,
   "id": "b5551075-9be4-4e73-844d-0a7c1844f0ef",
   "metadata": {
    "scrolled": true
   },
   "outputs": [],
   "source": [
    "!pip install kiwipiepy"
   ]
  },
  {
   "cell_type": "code",
   "execution_count": null,
   "id": "5216f36e-a95b-4db8-ab74-6fcbc9c37897",
   "metadata": {},
   "outputs": [],
   "source": [
    "from kiwipiepy import Kiwi\n",
    "\n",
    "kiwi = Kiwi()"
   ]
  },
  {
   "cell_type": "code",
   "execution_count": null,
   "id": "5b0f8243-f34e-401c-9a48-9121c1e8b377",
   "metadata": {},
   "outputs": [],
   "source": [
    "# 텍스트 문장 형태소 분석\n",
    "# form: 실제 형태소\n",
    "# tag: 품사 태그\n",
    "# start: 시작하는 인덱스 위치\n",
    "# len: 형태소 길이\n",
    "kiwi.tokenize(\"이번에 고층으로 이사오면서 음식물쓰레기 버리러 나가는게 힘드네요...\")"
   ]
  },
  {
   "cell_type": "code",
   "execution_count": null,
   "id": "f58a0571-a459-4ba0-a579-0eacb146a22e",
   "metadata": {},
   "outputs": [],
   "source": [
    "kiwi.tokenize(\"이거 정말 정확하게 분석되는 게 맞을까용? 정말 그럴까욬ㅋㅋㅋㅋ\")"
   ]
  },
  {
   "cell_type": "code",
   "execution_count": null,
   "id": "509f53df-c2a5-412e-90c7-cf71a4d9e1f3",
   "metadata": {},
   "outputs": [],
   "source": [
    "# 저장된 텍스트 파일 읽어오기\n",
    "f = open('./네이버 지식인 리뷰 데이터.txt','r')\n",
    "text = f.readline()\n",
    "f.close()"
   ]
  },
  {
   "cell_type": "code",
   "execution_count": null,
   "id": "76424926-24da-466c-9c13-8eb335959c28",
   "metadata": {},
   "outputs": [],
   "source": [
    "result = kiwi.tokenize(text)"
   ]
  },
  {
   "cell_type": "code",
   "execution_count": null,
   "id": "0b0c0d58-5ca9-40e0-b649-3ea4094a53b0",
   "metadata": {
    "scrolled": true
   },
   "outputs": [],
   "source": [
    "result"
   ]
  },
  {
   "cell_type": "code",
   "execution_count": null,
   "id": "622f440a-17a3-4a2b-816f-6dc8828ced6e",
   "metadata": {},
   "outputs": [],
   "source": [
    "noun_list = []\n",
    "\n",
    "for token in result:\n",
    "    # 리스트 내 있는 요소와 일치한 값인지 판단\n",
    "    if token.tag in ['NNG','NNP']: \n",
    "        # print(token)\n",
    "        noun_list.append(token.form)"
   ]
  },
  {
   "cell_type": "code",
   "execution_count": null,
   "id": "ab818faa-b9f8-4311-8a0f-7b0b1853551a",
   "metadata": {},
   "outputs": [],
   "source": [
    "noun_list"
   ]
  },
  {
   "cell_type": "code",
   "execution_count": null,
   "id": "8bae8565-199e-41e6-9edc-bc726c46dc90",
   "metadata": {},
   "outputs": [],
   "source": [
    "# 단어 빈도를 카운팅하는 작업\n",
    "from collections import Counter"
   ]
  },
  {
   "cell_type": "code",
   "execution_count": null,
   "id": "94e6e562-df1d-445c-a3fb-1128b3d96ea5",
   "metadata": {},
   "outputs": [],
   "source": [
    "counter = Counter(noun_list)"
   ]
  },
  {
   "cell_type": "code",
   "execution_count": null,
   "id": "97e7c134-9ee5-4f3c-be92-e887aaa858eb",
   "metadata": {
    "scrolled": true
   },
   "outputs": [],
   "source": [
    "counter"
   ]
  },
  {
   "cell_type": "code",
   "execution_count": null,
   "id": "afa5d12e-0dca-4d66-ba06-cb13e4e9026a",
   "metadata": {},
   "outputs": [],
   "source": [
    "# 2글자 이상의 명사를 새로운 리스트에 저장\n",
    "noun_list2 = []\n",
    "\n",
    "top_100_noun_list = counter.most_common(100)\n",
    "\n",
    "for noun in top_100_noun_list:\n",
    "    # print(len(noun[0]))\n",
    "\n",
    "    if len(noun[0]) > 1:\n",
    "        noun_list2.append(noun)"
   ]
  },
  {
   "cell_type": "code",
   "execution_count": null,
   "id": "e60f1503-cab6-4ad0-8966-254306984562",
   "metadata": {
    "scrolled": true
   },
   "outputs": [],
   "source": [
    "noun_list2"
   ]
  },
  {
   "cell_type": "code",
   "execution_count": null,
   "id": "d8fe3e2a-cdc9-4df9-bec7-e800109f7ed5",
   "metadata": {},
   "outputs": [],
   "source": [
    "# 워드클라우드를 그리기 위한 도구\n",
    "from wordcloud import WordCloud\n",
    "import matplotlib.pyplot as plt\n",
    "\n",
    "# mask 이미지를 만들기 위한 도구\n",
    "from PIL import Image\n",
    "import numpy as np"
   ]
  },
  {
   "cell_type": "code",
   "execution_count": null,
   "id": "1b9b2965-3638-49db-a642-4accc1da437c",
   "metadata": {},
   "outputs": [],
   "source": [
    "# mask 이미지 만들기\n",
    "mask_image = np.array(Image.open('./image2.png'))"
   ]
  },
  {
   "cell_type": "code",
   "execution_count": null,
   "id": "85a14438-95d1-4b28-9c2d-c1d44ac33f04",
   "metadata": {},
   "outputs": [],
   "source": [
    "wc = WordCloud(\n",
    "    font_path='C:/Windows/Fonts/malgunbd.ttf',\n",
    "    background_color='white',\n",
    "    width=700,\n",
    "    height=700,\n",
    "    colormap='spring',\n",
    "    mask=mask_image\n",
    ").generate_from_frequencies(dict(noun_list2))"
   ]
  },
  {
   "cell_type": "code",
   "execution_count": null,
   "id": "c0a8d4f9-0c05-43f9-9b08-dd727d405000",
   "metadata": {},
   "outputs": [],
   "source": [
    "plt.imshow(wc)\n",
    "plt.axis('off')\n",
    "plt.show()"
   ]
  },
  {
   "cell_type": "code",
   "execution_count": null,
   "id": "cefb3271-a832-4c2b-bb97-19c6e0cc3eea",
   "metadata": {},
   "outputs": [],
   "source": []
  },
  {
   "cell_type": "code",
   "execution_count": null,
   "id": "f99ff7c1-1c44-4f3e-9291-e89c12f4d194",
   "metadata": {},
   "outputs": [],
   "source": []
  },
  {
   "cell_type": "code",
   "execution_count": null,
   "id": "217f2773-5863-43ed-bafd-cd0c41a3507a",
   "metadata": {},
   "outputs": [],
   "source": []
  },
  {
   "cell_type": "code",
   "execution_count": null,
   "id": "9fc0e0b0-3518-44ef-991a-862f68b48e49",
   "metadata": {},
   "outputs": [],
   "source": []
  }
 ],
 "metadata": {
  "kernelspec": {
   "display_name": "Python 3 (ipykernel)",
   "language": "python",
   "name": "python3"
  },
  "language_info": {
   "codemirror_mode": {
    "name": "ipython",
    "version": 3
   },
   "file_extension": ".py",
   "mimetype": "text/x-python",
   "name": "python",
   "nbconvert_exporter": "python",
   "pygments_lexer": "ipython3",
   "version": "3.12.3"
  }
 },
 "nbformat": 4,
 "nbformat_minor": 5
}
