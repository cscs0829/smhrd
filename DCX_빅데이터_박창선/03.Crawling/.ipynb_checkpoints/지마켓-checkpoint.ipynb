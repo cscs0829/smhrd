{
 "cells": [
  {
   "cell_type": "markdown",
   "id": "88db084c-7351-4888-bee2-2e1a18e58407",
   "metadata": {},
   "source": [
    "### gmarket에서 상품 데이터 수집해서 데이터프레임\n",
    "- 상품명, 가격"
   ]
  },
  {
   "cell_type": "code",
   "execution_count": 125,
   "id": "871b5401-24b7-4699-88ee-28222c4e4454",
   "metadata": {},
   "outputs": [],
   "source": [
    "from selenium import webdriver as wb\n",
    "from selenium.webdriver.common.by import By\n",
    "from selenium.webdriver.common.keys import Keys\n",
    "from tqdm import tqdm\n",
    "\n",
    "import time\n",
    "import re\n",
    "\n",
    "def preprocess_sentence_kr(w):\n",
    "  w = w.strip()\n",
    "  w = re.sub(r\"[^0-9가-힣?.!,¿]+\", \" \", w)\n",
    "  w = w.strip()\n",
    "  return w"
   ]
  },
  {
   "cell_type": "code",
   "execution_count": 129,
   "id": "68569921-56b7-458b-a85f-972be3ed5a61",
   "metadata": {},
   "outputs": [],
   "source": [
    "driver = wb.Chrome()\n",
    "driver.get(\"https://www.gmarket.co.kr/n/best\")"
   ]
  },
  {
   "cell_type": "code",
   "execution_count": 123,
   "id": "70de4bf0-40d8-4fc7-980a-ff0e5505556a",
   "metadata": {},
   "outputs": [],
   "source": [
    "item = driver.find_elements(By.CSS_SELECTOR,\"#container > div.box__best-list > ul > li > a\")\n",
    "item[0].click()"
   ]
  },
  {
   "cell_type": "code",
   "execution_count": 93,
   "id": "fac32719-d9c8-4b19-814b-96456ecd6613",
   "metadata": {},
   "outputs": [
    {
     "ename": "AttributeError",
     "evalue": "'str' object has no attribute 'text'",
     "output_type": "error",
     "traceback": [
      "\u001b[0;31m---------------------------------------------------------------------------\u001b[0m",
      "\u001b[0;31mAttributeError\u001b[0m                            Traceback (most recent call last)",
      "Cell \u001b[0;32mIn[93], line 1\u001b[0m\n\u001b[0;32m----> 1\u001b[0m title_text\u001b[38;5;241m.\u001b[39mtext\n",
      "\u001b[0;31mAttributeError\u001b[0m: 'str' object has no attribute 'text'"
     ]
    }
   ],
   "source": [
    "title = driver.find_element(By.CSS_SELECTOR,\"#itemcase_basic > div.box__item-title > div.box__item-info > h1\")\n",
    "price = driver.find_element(By.CSS_SELECTOR,\"#itemcase_basic > div.box__item-title > div.box__price.price > span.price_innerwrap.price_innerwrap-coupon > strong\")"
   ]
  },
  {
   "cell_type": "code",
   "execution_count": null,
   "id": "2bc4dc5f-c2bd-4d86-96c4-bdbe42d6b41d",
   "metadata": {},
   "outputs": [],
   "source": [
    "driver.back()"
   ]
  },
  {
   "cell_type": "code",
   "execution_count": null,
   "id": "e643ebe9-3c5c-4b5f-8f09-394b31708ca2",
   "metadata": {},
   "outputs": [],
   "source": [
    "for i in range(20) :\n",
    "    # 상품리스트를 매번 수집해야하는 이유는 -> 페이지가 변하면 데이터가 초기화되기 떄문에\n",
    "    item = driver.find_elements(By.CSS_SELECTOR,\"#container > div.box__best-list > ul > li > a\")\n",
    "    item[i].click()\n",
    "    time.sleep(1)\n",
    "    title = driver.find_element(By.CSS_SELECTOR,\"#itemcase_basic > div.box__item-title > div.box__item-info > h1\")\n",
    "    # 예외처리\n",
    "    # 쿠폰가격을 수집 하다가, 없으면 정상가격 수집\n",
    "    try :\n",
    "        price = driver.find_element(By.CSS_SELECTOR,\"#itemcase_basic > div.box__item-title > div.box__price.price > span.price_innerwrap.price_innerwrap-coupon > strong\")\n",
    "    except :\n",
    "        price = driver.find_element(By.CSS_SELECTOR,\"#itemcase_basic > div.box__item-title > div.box__price.price > span:nth-child(3) > strong\")\n",
    "    driver.back()\n",
    "    time.sleep(1)"
   ]
  },
  {
   "cell_type": "code",
   "execution_count": null,
   "id": "5cec9f3c-5e21-4faf-beef-8b593cedcb05",
   "metadata": {},
   "outputs": [],
   "source": []
  },
  {
   "cell_type": "code",
   "execution_count": null,
   "id": "5a734203-2ec6-4bf7-b64c-83c1807cccc8",
   "metadata": {},
   "outputs": [],
   "source": []
  },
  {
   "cell_type": "code",
   "execution_count": null,
   "id": "3715dfa8-bb0d-44bd-b391-3efe259d9824",
   "metadata": {},
   "outputs": [],
   "source": []
  },
  {
   "cell_type": "code",
   "execution_count": null,
   "id": "c7e75a37-b6f9-4e51-9ef7-4b8e74d1b984",
   "metadata": {},
   "outputs": [],
   "source": []
  },
  {
   "cell_type": "code",
   "execution_count": null,
   "id": "23057c60-800c-4f51-8291-5118ef7c847e",
   "metadata": {},
   "outputs": [],
   "source": []
  },
  {
   "cell_type": "code",
   "execution_count": null,
   "id": "084866aa-4c97-4da1-85e0-06ac5d65994a",
   "metadata": {},
   "outputs": [],
   "source": []
  },
  {
   "cell_type": "code",
   "execution_count": null,
   "id": "be6afdc6-1569-49a5-a7d1-7730f3de746a",
   "metadata": {},
   "outputs": [],
   "source": []
  },
  {
   "cell_type": "code",
   "execution_count": null,
   "id": "70237af9-0abd-4978-915f-ebc083162434",
   "metadata": {},
   "outputs": [],
   "source": []
  }
 ],
 "metadata": {
  "kernelspec": {
   "display_name": "Python 3 (ipykernel)",
   "language": "python",
   "name": "python3"
  },
  "language_info": {
   "codemirror_mode": {
    "name": "ipython",
    "version": 3
   },
   "file_extension": ".py",
   "mimetype": "text/x-python",
   "name": "python",
   "nbconvert_exporter": "python",
   "pygments_lexer": "ipython3",
   "version": "3.12.3"
  }
 },
 "nbformat": 4,
 "nbformat_minor": 5
}
