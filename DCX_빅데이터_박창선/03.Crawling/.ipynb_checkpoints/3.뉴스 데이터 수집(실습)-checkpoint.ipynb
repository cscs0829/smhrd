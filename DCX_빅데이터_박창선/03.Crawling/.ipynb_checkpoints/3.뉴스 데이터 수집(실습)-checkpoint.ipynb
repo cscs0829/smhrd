{
 "cells": [
  {
   "cell_type": "markdown",
   "id": "d99c5142-b05a-4c21-8fb7-6018062a96b7",
   "metadata": {},
   "source": [
    "#### 12/24 ZDNET korea 사이트의 뉴스 제목과 주소를 수집하여 DataFrame으로 만들어보기\n",
    "- 사이트주소 : https://search.zdnet.co.kr/?kwd=엔비디아&area=&pageno=1&term=\n",
    "1. URL주소의 pageno를 이용해서 1~20페이지 문서 요청\n",
    "2. 응답받은 웹 문서 변환하기\n",
    "3. 변환된 웹 문서에서 뉴스의 제목, 주소(href) 수집 후 리스트로 저장\n",
    "4. 리스트를 DataFrame으로 생성"
   ]
  },
  {
   "cell_type": "code",
   "execution_count": 8,
   "id": "aa16adb1-bbef-4b3f-8cb5-727d981b1f81",
   "metadata": {},
   "outputs": [],
   "source": [
    "import requests as req\n",
    "from bs4 import BeautifulSoup as bs"
   ]
  },
  {
   "cell_type": "code",
   "execution_count": 9,
   "id": "1096af5c-559b-448e-8656-c9a92d1587a1",
   "metadata": {},
   "outputs": [],
   "source": [
    "news_section_url = \"https://search.zdnet.co.kr/?kwd=%EC%97%94%EB%B9%84%EB%94%94%EC%95%84\"\n",
    "\n",
    "res =req.get(news_section_url)\n",
    "\n",
    "html = bs(res.text, \"lxml\")"
   ]
  },
  {
   "cell_type": "code",
   "execution_count": 61,
   "id": "1fc5a744-ed47-4c2a-a9e2-21da8cf855d3",
   "metadata": {},
   "outputs": [
    {
     "data": {
      "text/plain": [
       "[]"
      ]
     },
     "execution_count": 61,
     "metadata": {},
     "output_type": "execute_result"
    }
   ],
   "source": [
    "news_list = html.select(\"a.h3\")\n",
    "news_list"
   ]
  },
  {
   "cell_type": "code",
   "execution_count": 63,
   "id": "c55dfed4-140e-45ec-a846-9d550d39f62b",
   "metadata": {
    "scrolled": true
   },
   "outputs": [
    {
     "data": {
      "text/plain": [
       "[]"
      ]
     },
     "execution_count": 63,
     "metadata": {},
     "output_type": "execute_result"
    }
   ],
   "source": [
    "href_list = []\n",
    "\n",
    "for i in range(len(news_list)):\n",
    "    href_list.append(news_list[i].get(\"a.h3\"))\n",
    "\n",
    "href_list"
   ]
  },
  {
   "cell_type": "markdown",
   "id": "dcbf82a2-a3eb-4174-9a21-c312e1a7d07e",
   "metadata": {},
   "source": [
    "#### 12/26 ZDNET korea 사이트의 뉴스 제목과 주소를 수집하여 DataFrame으로 만들어보기\n",
    "- 사이트주소 : https://search.zdnet.co.kr/?kwd=엔비디아&area=&pageno=1&term=\n",
    "1. URL주소의 pageno를 이용해서 1~20페이지 문서 요청\n",
    "2. 응답받은 웹 문서 변환하기\n",
    "3. 변환된 웹 문서에서 뉴스의 제목, 주소(href) 수집 후 리스트로 저장\n",
    "4. 리스트를 DataFrame으로 생성"
   ]
  },
  {
   "cell_type": "code",
   "execution_count": 1,
   "id": "5d9a2d33-fc98-49f7-84bc-8f10dd027cfa",
   "metadata": {},
   "outputs": [],
   "source": [
    "import requests as req\n",
    "import pandas as pd\n",
    "import time\n",
    "\n",
    "from bs4 import BeautifulSoup as bs"
   ]
  },
  {
   "cell_type": "code",
   "execution_count": 2,
   "id": "dec94b1f-3fc9-4f8b-a2c0-d17e98eb9de3",
   "metadata": {},
   "outputs": [],
   "source": [
    "url = \"https://search.zdnet.co.kr/?kwd=%EC%97%94%EB%B9%84%EB%94%94%EC%95%84&area=&pageno=1&term=\"\n",
    "\n",
    "res = req.get(url)\n",
    "\n",
    "html = bs(res.text, \"lxml\")"
   ]
  },
  {
   "cell_type": "code",
   "execution_count": 6,
   "id": "95db1495-8ea4-4186-a4d4-e60ca1afebf3",
   "metadata": {},
   "outputs": [
    {
     "data": {
      "text/plain": [
       "(20, 20)"
      ]
     },
     "execution_count": 6,
     "metadata": {},
     "output_type": "execute_result"
    }
   ],
   "source": [
    "# 연관된 정보를 가져올 때 크기가 동일한지 체크할 것!\n",
    "titles = html.select(\"div.assetText h3\")\n",
    "aTags = html.select(\"section.news_box div.assetText a\")\n",
    "\n",
    "len(titles), len(aTags)"
   ]
  },
  {
   "cell_type": "code",
   "execution_count": 8,
   "id": "90adb50e-4242-4e48-a9ce-e7d025c907e3",
   "metadata": {
    "scrolled": true
   },
   "outputs": [
    {
     "data": {
      "text/plain": [
       "[['테슬라도 제쳤다...개미가 고른 최고 인기 주식은?',\n",
       "  'https://zdnet.co.kr/view/?no=20241226095246'],\n",
       " [\"노타, 기술특례 상장 위한 평가서 'A·A' 등급 획득\",\n",
       "  'https://zdnet.co.kr/view/?no=20241224173340'],\n",
       " ['\"엔비디아, 대만에 해외본부 세운다…두번째 본사\"',\n",
       "  'https://zdnet.co.kr/view/?no=20241224154720'],\n",
       " [\"AI 바람 탄 SW업계, 새해엔 글로벌·금융 '주목'\",\n",
       "  'https://zdnet.co.kr/view/?no=20241223172915'],\n",
       " ['X 코퍼레이션 CEO 린다 야카리노, CES 2025에서 기조 연설',\n",
       "  'https://zdnet.co.kr/view/?no=20241224141006'],\n",
       " [\"'트럼프 라인' 머스크 효과 통했나…'60억 달러' 또 모은 xAI, AI 주도권 잡기 가속\",\n",
       "  'https://zdnet.co.kr/view/?no=20241224090137'],\n",
       " ['美 반도체 보조금 7.5조원 확정받은 삼성·SK, 다음 과제는',\n",
       "  'https://zdnet.co.kr/view/?no=20241223165052'],\n",
       " ['Arm, 퀄컴과 라이선스 소송서 판정패... 영향력 축소 불가피',\n",
       "  'https://zdnet.co.kr/view/?no=20241223160946'],\n",
       " ['생존 위협 느낀 대기업 SI, 내년 AI에 명운 건다',\n",
       "  'https://zdnet.co.kr/view/?no=20241218165205'],\n",
       " [\"새해 엔비디아 선점할 승자는...삼성·SK 'HBM4' 양산 준비 박차\",\n",
       "  'https://zdnet.co.kr/view/?no=20241217142411'],\n",
       " ['비(非) 엔비디아 고객사 뜬다…내년 HBM 시장 변화 예고',\n",
       "  'https://zdnet.co.kr/view/?no=20241220104829'],\n",
       " ['브로드컴 \"2020년대 말까지 AI 투자 열풍 이어진다\"',\n",
       "  'https://zdnet.co.kr/view/?no=20241220153345'],\n",
       " ['[AI는 지금] 규제 갈림길 선 AI, 진화 속도 빨라졌다',\n",
       "  'https://zdnet.co.kr/view/?no=20241220165310'],\n",
       " ['한국판 브로드컴 키워라...DSP 기업 육성이 열쇠',\n",
       "  'https://zdnet.co.kr/view/?no=20241220151334'],\n",
       " ['美 정부 \"SK하이닉스, 세계 최고 HBM 생산 업체\"',\n",
       "  'https://zdnet.co.kr/view/?no=20241220092755'],\n",
       " ['디지털 리얼티, 튜링의 가글 클러스터에 최적화된 데이터 센터 환경 제공… AI 완전 자율주행 기술 개발 속도 높인다',\n",
       "  'https://zdnet.co.kr/view/?no=20241219161040'],\n",
       " ['[유미\\'s 픽] \"이러다 AI 생태계 무너질라\"…美·유럽선 돈 잔치, 韓에선 \\'찬밥\\'',\n",
       "  'https://zdnet.co.kr/view/?no=20241219103116'],\n",
       " ['마이크론 \"HBM 고객사 3곳으로 확장\"…HBM4 양산도 자신감',\n",
       "  'https://zdnet.co.kr/view/?no=20241219085020'],\n",
       " ['안현 SK하이닉스 사장 \"반도체 주 52시간제, 부정적 관행 만들까 우려\"',\n",
       "  'https://zdnet.co.kr/view/?no=20241219000702'],\n",
       " [\"국내 클라우드 빅3가 공개한 '무기'와 확장 전략은…\",\n",
       "  'https://zdnet.co.kr/view/?no=20241218164229']]"
      ]
     },
     "execution_count": 8,
     "metadata": {},
     "output_type": "execute_result"
    }
   ],
   "source": [
    "# 뉴스제목, 링크를 하나의 리스트로 보관하는 빈 리스트 생성\n",
    "# ex) [[\"테슬라 ...\", \"httsp://www~\"], ...]\n",
    "news_posts = []\n",
    "\n",
    "for i in range(len(titles)):\n",
    "    news_posts.append([titles[i].text, aTags[i].get(\"href\")])\n",
    "\n",
    "news_posts"
   ]
  },
  {
   "cell_type": "code",
   "execution_count": 10,
   "id": "5f2fc621-eb98-4698-9537-b11aaaeefe1f",
   "metadata": {},
   "outputs": [],
   "source": [
    "# 코드 통합\n",
    "\n",
    "news_posts = []\n",
    "\n",
    "for i in range(1,21):\n",
    "    url = f\"https://search.zdnet.co.kr/?kwd=엔비디아&area=&pageno={i}&term=\"\n",
    "    res = req.get(url)\n",
    "    html = bs(res.text, \"lxml\")\n",
    "    \n",
    "    titles = html.select(\"div.assetText h3\")\n",
    "    aTags = html.select(\"section.news_box div.assetText a\")\n",
    "    \n",
    "    for i in range(len(titles)):\n",
    "        news_posts.append([titles[i].text, aTags[i].get(\"href\")])\n"
   ]
  },
  {
   "cell_type": "code",
   "execution_count": null,
   "id": "00ca246d-bf75-4eeb-8f72-8ec477fbcab4",
   "metadata": {},
   "outputs": [],
   "source": []
  },
  {
   "cell_type": "code",
   "execution_count": null,
   "id": "0045c468-fcea-4157-9fbb-49bddbc6fe6d",
   "metadata": {},
   "outputs": [],
   "source": []
  },
  {
   "cell_type": "code",
   "execution_count": null,
   "id": "6ad0204f-9f52-43a9-86cd-014b30168a2a",
   "metadata": {},
   "outputs": [],
   "source": []
  },
  {
   "cell_type": "code",
   "execution_count": null,
   "id": "252c3ed8-d669-4157-bb32-d24a81301069",
   "metadata": {},
   "outputs": [],
   "source": []
  },
  {
   "cell_type": "code",
   "execution_count": null,
   "id": "78eced7a-f5fa-4099-b18c-ed37a15749b6",
   "metadata": {},
   "outputs": [],
   "source": []
  },
  {
   "cell_type": "code",
   "execution_count": null,
   "id": "051cbbb7-446b-4457-86a2-2a3693adc0bb",
   "metadata": {},
   "outputs": [],
   "source": []
  },
  {
   "cell_type": "code",
   "execution_count": null,
   "id": "93279cdc-e016-44f7-b27b-16c4bfca63c7",
   "metadata": {},
   "outputs": [],
   "source": []
  },
  {
   "cell_type": "code",
   "execution_count": null,
   "id": "8c7a5369-c3f3-4529-b5eb-78bf20f7df83",
   "metadata": {},
   "outputs": [],
   "source": []
  },
  {
   "cell_type": "code",
   "execution_count": null,
   "id": "87bd0e0b-621c-46e0-84ec-d89c0e15970e",
   "metadata": {},
   "outputs": [],
   "source": []
  },
  {
   "cell_type": "code",
   "execution_count": null,
   "id": "cb9b4d4d-6147-4294-884c-e86f661c31c0",
   "metadata": {},
   "outputs": [],
   "source": []
  },
  {
   "cell_type": "code",
   "execution_count": null,
   "id": "70e943f5-88a3-462b-ba39-8bf1d93e1b77",
   "metadata": {},
   "outputs": [],
   "source": []
  }
 ],
 "metadata": {
  "kernelspec": {
   "display_name": "Python 3 (ipykernel)",
   "language": "python",
   "name": "python3"
  },
  "language_info": {
   "codemirror_mode": {
    "name": "ipython",
    "version": 3
   },
   "file_extension": ".py",
   "mimetype": "text/x-python",
   "name": "python",
   "nbconvert_exporter": "python",
   "pygments_lexer": "ipython3",
   "version": "3.12.7"
  }
 },
 "nbformat": 4,
 "nbformat_minor": 5
}
