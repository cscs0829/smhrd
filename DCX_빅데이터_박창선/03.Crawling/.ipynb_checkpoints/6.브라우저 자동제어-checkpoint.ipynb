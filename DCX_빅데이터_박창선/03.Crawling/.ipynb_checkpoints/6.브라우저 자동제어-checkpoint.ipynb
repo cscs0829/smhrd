{
 "cells": [
  {
   "cell_type": "markdown",
   "id": "12578e2f-edd6-49f2-9917-5a5d00034f2c",
   "metadata": {},
   "source": [
    "### 브라우저 자동제어 -> Selenium\n",
    "- 브라우저를 직접 컴퓨터가 제어할 수 있게 하는 도구\n",
    "- 제어? 마우스 이동, 클릭, 입력, 등등\n",
    "- !pip install selenium"
   ]
  },
  {
   "cell_type": "code",
   "execution_count": 1,
   "id": "c03094a7-361c-4753-980e-32069326cce5",
   "metadata": {
    "scrolled": true
   },
   "outputs": [
    {
     "name": "stdout",
     "output_type": "stream",
     "text": [
      "Collecting selenium\n",
      "  Downloading selenium-4.27.1-py3-none-any.whl.metadata (7.1 kB)\n",
      "Requirement already satisfied: urllib3<3,>=1.26 in c:\\users\\smhrd\\anaconda3\\lib\\site-packages (from urllib3[socks]<3,>=1.26->selenium) (2.2.3)\n",
      "Collecting trio~=0.17 (from selenium)\n",
      "  Downloading trio-0.28.0-py3-none-any.whl.metadata (8.5 kB)\n",
      "Collecting trio-websocket~=0.9 (from selenium)\n",
      "  Downloading trio_websocket-0.11.1-py3-none-any.whl.metadata (4.7 kB)\n",
      "Requirement already satisfied: certifi>=2021.10.8 in c:\\users\\smhrd\\anaconda3\\lib\\site-packages (from selenium) (2024.12.14)\n",
      "Requirement already satisfied: typing_extensions~=4.9 in c:\\users\\smhrd\\anaconda3\\lib\\site-packages (from selenium) (4.11.0)\n",
      "Requirement already satisfied: websocket-client~=1.8 in c:\\users\\smhrd\\anaconda3\\lib\\site-packages (from selenium) (1.8.0)\n",
      "Collecting attrs>=23.2.0 (from trio~=0.17->selenium)\n",
      "  Downloading attrs-24.3.0-py3-none-any.whl.metadata (11 kB)\n",
      "Requirement already satisfied: sortedcontainers in c:\\users\\smhrd\\anaconda3\\lib\\site-packages (from trio~=0.17->selenium) (2.4.0)\n",
      "Requirement already satisfied: idna in c:\\users\\smhrd\\anaconda3\\lib\\site-packages (from trio~=0.17->selenium) (3.7)\n",
      "Collecting outcome (from trio~=0.17->selenium)\n",
      "  Downloading outcome-1.3.0.post0-py2.py3-none-any.whl.metadata (2.6 kB)\n",
      "Requirement already satisfied: sniffio>=1.3.0 in c:\\users\\smhrd\\anaconda3\\lib\\site-packages (from trio~=0.17->selenium) (1.3.0)\n",
      "Requirement already satisfied: cffi>=1.14 in c:\\users\\smhrd\\anaconda3\\lib\\site-packages (from trio~=0.17->selenium) (1.17.1)\n",
      "Collecting wsproto>=0.14 (from trio-websocket~=0.9->selenium)\n",
      "  Downloading wsproto-1.2.0-py3-none-any.whl.metadata (5.6 kB)\n",
      "Requirement already satisfied: pysocks!=1.5.7,<2.0,>=1.5.6 in c:\\users\\smhrd\\anaconda3\\lib\\site-packages (from urllib3[socks]<3,>=1.26->selenium) (1.7.1)\n",
      "Requirement already satisfied: pycparser in c:\\users\\smhrd\\anaconda3\\lib\\site-packages (from cffi>=1.14->trio~=0.17->selenium) (2.21)\n",
      "Requirement already satisfied: h11<1,>=0.9.0 in c:\\users\\smhrd\\anaconda3\\lib\\site-packages (from wsproto>=0.14->trio-websocket~=0.9->selenium) (0.14.0)\n",
      "Downloading selenium-4.27.1-py3-none-any.whl (9.7 MB)\n",
      "   ---------------------------------------- 0.0/9.7 MB ? eta -:--:--\n",
      "   ---------------------------------------- 9.7/9.7 MB 67.5 MB/s eta 0:00:00\n",
      "Downloading trio-0.28.0-py3-none-any.whl (486 kB)\n",
      "Downloading trio_websocket-0.11.1-py3-none-any.whl (17 kB)\n",
      "Downloading attrs-24.3.0-py3-none-any.whl (63 kB)\n",
      "Downloading wsproto-1.2.0-py3-none-any.whl (24 kB)\n",
      "Downloading outcome-1.3.0.post0-py2.py3-none-any.whl (10 kB)\n",
      "Installing collected packages: wsproto, attrs, outcome, trio, trio-websocket, selenium\n",
      "  Attempting uninstall: attrs\n",
      "    Found existing installation: attrs 23.1.0\n",
      "    Uninstalling attrs-23.1.0:\n",
      "      Successfully uninstalled attrs-23.1.0\n",
      "Successfully installed attrs-24.3.0 outcome-1.3.0.post0 selenium-4.27.1 trio-0.28.0 trio-websocket-0.11.1 wsproto-1.2.0\n"
     ]
    }
   ],
   "source": [
    "!pip install selenium"
   ]
  },
  {
   "cell_type": "code",
   "execution_count": 3,
   "id": "a3a88d06-328c-4ad0-89d3-d4ab2c72056d",
   "metadata": {},
   "outputs": [],
   "source": [
    "# selenium을 사용하기 위한 3가지 라이브러리\n",
    "# 1.브라우저 실행, 및 정보를 보관하는 역할(필수)\n",
    "from selenium import webdriver as wb\n",
    "\n",
    "# 2.요소를 찾기(선택) 위한 도구를 제공하는 역할(필수) \n",
    "from selenium.webdriver.common.by import By\n",
    "\n",
    "# 3.컴퓨터 키보드의 값을 제공하는 역할(선택)\n",
    "from selenium.webdriver.common.keys import Keys"
   ]
  },
  {
   "cell_type": "code",
   "execution_count": 50,
   "id": "b4d17527-65a2-4275-bcc3-6261c738f618",
   "metadata": {},
   "outputs": [],
   "source": [
    "# 1. 브라우저 실행\n",
    "# Chrome() 함수를 호출 시 테스트 브라우저가 실행\n",
    "# 매번 실행할 때마다 새로운 브라우저를 실행시키기 때문에\n",
    "# 1번만 실행되도록 할 것!\n",
    "driver = wb.Chrome()"
   ]
  },
  {
   "cell_type": "code",
   "execution_count": 51,
   "id": "11be5427-1efe-42fc-9f80-deeef5f81925",
   "metadata": {},
   "outputs": [],
   "source": [
    "# 2.네이버 페이지를 요청!\n",
    "driver.get(\"https://www.naver.com\")"
   ]
  },
  {
   "cell_type": "code",
   "execution_count": 52,
   "id": "88155837-e231-4d03-9005-46b34fe07c6e",
   "metadata": {},
   "outputs": [],
   "source": [
    "# 3.검색창에 \"런닝\" 키워드 보내기\n",
    "# 3-1. 검색창 요소에 접근\n",
    "# 3-2. 접근한 요소에 키워드 전송\n",
    "# 요소는 태그하고 컨텐츠로 이루어짐\n",
    "\n",
    "query_input = driver.find_element(By.ID, \"query\")"
   ]
  },
  {
   "cell_type": "code",
   "execution_count": 53,
   "id": "6e6b5f0f-273c-4779-b4eb-78e4ad8e24c0",
   "metadata": {
    "scrolled": true
   },
   "outputs": [],
   "source": [
    "# query_input.send_keys(\"런닝\\n\")\n",
    "query_input.send_keys(\"런닝\")\n",
    "query_input.send_keys(Keys.ENTER)"
   ]
  },
  {
   "cell_type": "code",
   "execution_count": 55,
   "id": "18bd5c99-411d-441b-913f-149d43c2bc9f",
   "metadata": {},
   "outputs": [],
   "source": [
    "# 뒤로가기\n",
    "driver.back()"
   ]
  },
  {
   "cell_type": "code",
   "execution_count": 58,
   "id": "09257bf6-b2f3-43d3-9e8b-ebc325cecef6",
   "metadata": {},
   "outputs": [],
   "source": [
    "# 4.스크롤 밑으로 내리기\n",
    "body= driver.find_element(By.TAG_NAME,\"body\")\n",
    "body.send_keys(Keys.END)"
   ]
  },
  {
   "cell_type": "code",
   "execution_count": 61,
   "id": "0e9b7a8c-c7b6-45fa-8df0-e2edca689094",
   "metadata": {},
   "outputs": [],
   "source": [
    "# 5. '더보기' 버튼 클릭하기\n",
    "btn = driver.find_element(By.CSS_SELECTOR, \"a.link_service> span.type_more\")\n",
    "btn.click()"
   ]
  },
  {
   "cell_type": "code",
   "execution_count": 64,
   "id": "04810409-9643-46e8-99c9-a5df7d10e166",
   "metadata": {},
   "outputs": [
    {
     "data": {
      "text/plain": [
       "16"
      ]
     },
     "execution_count": 64,
     "metadata": {},
     "output_type": "execute_result"
    }
   ],
   "source": [
    "# 6. 데이터를 가진 요소 접근하기\n",
    "services = driver.find_elements(By.CSS_SELECTOR, \"li.group_item > a.link_service\")\n",
    "\n",
    "len(services)"
   ]
  },
  {
   "cell_type": "code",
   "execution_count": 69,
   "id": "9d64c6b8-b9b5-40e0-859f-cb36b5e3411b",
   "metadata": {},
   "outputs": [
    {
     "data": {
      "text/plain": [
       "'사전'"
      ]
     },
     "execution_count": 69,
     "metadata": {},
     "output_type": "execute_result"
    }
   ],
   "source": [
    "services[6].text"
   ]
  },
  {
   "cell_type": "code",
   "execution_count": 70,
   "id": "f57b68dc-f0e3-4679-ae2e-4c32eb731cfc",
   "metadata": {},
   "outputs": [],
   "source": [
    "# 7.브라우저 종료하기\n",
    "driver.close()"
   ]
  },
  {
   "cell_type": "code",
   "execution_count": null,
   "id": "ee44f87d-02c3-4ccb-8c40-4837d1bffe51",
   "metadata": {},
   "outputs": [],
   "source": []
  },
  {
   "cell_type": "code",
   "execution_count": null,
   "id": "5777b7e9-bd96-491e-bb5c-d4546db75403",
   "metadata": {},
   "outputs": [],
   "source": []
  },
  {
   "cell_type": "code",
   "execution_count": null,
   "id": "07e239e0-9b94-42ed-b13f-e46967111009",
   "metadata": {},
   "outputs": [],
   "source": []
  },
  {
   "cell_type": "code",
   "execution_count": null,
   "id": "2f674a3a-ae78-49e9-abc6-344e79b78ab7",
   "metadata": {},
   "outputs": [],
   "source": []
  },
  {
   "cell_type": "code",
   "execution_count": null,
   "id": "28d729e2-4104-4238-ab2a-cb07c6de275e",
   "metadata": {},
   "outputs": [],
   "source": []
  },
  {
   "cell_type": "code",
   "execution_count": null,
   "id": "2b7f474e-2763-40a1-b95f-2760d953b4ed",
   "metadata": {},
   "outputs": [],
   "source": []
  }
 ],
 "metadata": {
  "kernelspec": {
   "display_name": "Python 3 (ipykernel)",
   "language": "python",
   "name": "python3"
  },
  "language_info": {
   "codemirror_mode": {
    "name": "ipython",
    "version": 3
   },
   "file_extension": ".py",
   "mimetype": "text/x-python",
   "name": "python",
   "nbconvert_exporter": "python",
   "pygments_lexer": "ipython3",
   "version": "3.12.3"
  }
 },
 "nbformat": 4,
 "nbformat_minor": 5
}
