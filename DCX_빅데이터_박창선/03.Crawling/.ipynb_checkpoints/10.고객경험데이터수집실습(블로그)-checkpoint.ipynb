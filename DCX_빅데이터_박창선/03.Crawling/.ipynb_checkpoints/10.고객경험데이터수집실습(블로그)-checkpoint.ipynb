{
 "cells": [
  {
   "cell_type": "markdown",
   "id": "b6ebc520-e23a-427e-be7c-74c5bf5af942",
   "metadata": {},
   "source": [
    "### 실습과제) 네이버 블로그 데이터 수집하기"
   ]
  },
  {
   "cell_type": "code",
   "execution_count": 1,
   "id": "87885fab-0aaf-4bed-a861-b2a8fab415c9",
   "metadata": {},
   "outputs": [],
   "source": [
    "from selenium import webdriver as wb\n",
    "from selenium.webdriver.common.by import By\n",
    "from selenium.webdriver.common.keys import Keys\n",
    "from tqdm import tqdm\n",
    "\n",
    "import time\n",
    "import re\n",
    "\n",
    "def preprocess_sentence_kr(w):\n",
    "  w = w.strip()\n",
    "  w = re.sub(r\"[^0-9가-힣?.!,¿]+\", \" \", w)\n",
    "  w = w.strip()\n",
    "  return w"
   ]
  },
  {
   "cell_type": "code",
   "execution_count": 2,
   "id": "92002fbc-d548-48ff-855b-946170886512",
   "metadata": {},
   "outputs": [],
   "source": [
    "# 1.네이버 메인 페이지 요청 후 \"음식물 처리기\" 검색되도록 구현해보기\n",
    "driver = wb.Chrome()"
   ]
  },
  {
   "cell_type": "code",
   "execution_count": 3,
   "id": "5d7418b5-801b-4adf-88c1-15096ef7cd4f",
   "metadata": {},
   "outputs": [],
   "source": [
    "url = 'https://www.naver.com'\n",
    "driver.get(url)"
   ]
  },
  {
   "cell_type": "code",
   "execution_count": 4,
   "id": "713b42c3-6c7d-4747-a8bf-0c01491e0739",
   "metadata": {},
   "outputs": [],
   "source": [
    "keyword = '음식물 처리기 사용 후기'\n",
    "search_input = driver.find_element(By.ID, 'query')\n",
    "search_input.send_keys(keyword+'\\n')"
   ]
  },
  {
   "cell_type": "code",
   "execution_count": 5,
   "id": "4040ec0f-66a1-4116-a724-6bee2ccbe192",
   "metadata": {},
   "outputs": [],
   "source": [
    "# 2.\"블로그\" 탭 클릭\n",
    "driver.find_element(By.LINK_TEXT, '블로그').click()"
   ]
  },
  {
   "cell_type": "code",
   "execution_count": 6,
   "id": "f619ec88-a59a-48a6-b41b-4c1686e38cd6",
   "metadata": {},
   "outputs": [],
   "source": [
    "# 기간설정하는 방법\n",
    "option_btn = driver.find_element(By.CSS_SELECTOR,'.btn_option._search_option_open_btn')\n",
    "option_btn.click()"
   ]
  },
  {
   "cell_type": "code",
   "execution_count": 7,
   "id": "257b3e01-cc10-4fed-b05f-85c57ac22625",
   "metadata": {},
   "outputs": [],
   "source": [
    "# 기간값을 가진 요소 추출\n",
    "options = driver.find_elements(By.CSS_SELECTOR, 'li.term a.txt')\n",
    "\n",
    "options[6].click()"
   ]
  },
  {
   "cell_type": "code",
   "execution_count": 8,
   "id": "d8b0fc90-c37a-401a-a721-2b98ea93b793",
   "metadata": {},
   "outputs": [
    {
     "name": "stdout",
     "output_type": "stream",
     "text": [
      "https://search.naver.com/search.naver?ssc=tab.blog.all&query=음식물%20처리기%20사용후기&sm=tab_opt&nso=so%3Ar%2Cp%3A6m\n"
     ]
    }
   ],
   "source": [
    "# 1. 네이버 블로그 URL 패턴 분석을 통해 기간설정값 찾아보기\n",
    "# 2. 검색할 키워드와 기간설정값을 변수로 만든 후 URL변수에 적용하기\n",
    "# -  ex) url = f'https://~~~/query={검색할 키워드 변수}&term={기간설정변수}'\n",
    "# 3. selenium 으로 브라우저 띄우기\n",
    "keyword = '음식물%20처리기%20사용후기'\n",
    "term = 'so%3Ar%2Cp%3A6m' # 기간패턴: 0(전체), 1(1시간), 2(1일), 3,\n",
    "url2 = f'https://search.naver.com/search.naver?ssc=tab.blog.all&query={keyword}&sm=tab_opt&nso={term}'\n",
    "\n",
    "print(url2)"
   ]
  },
  {
   "cell_type": "code",
   "execution_count": 9,
   "id": "99bf2a46-5b51-4648-8ed1-8a74d23eccd7",
   "metadata": {},
   "outputs": [],
   "source": [
    "# 3. 스크롤 내리기\n",
    "for i in range(3):\n",
    "    body = driver.find_element(By.TAG_NAME, 'body')\n",
    "    body.send_keys(Keys.END)\n",
    "    time.sleep(1)"
   ]
  },
  {
   "cell_type": "code",
   "execution_count": 10,
   "id": "eea9472f-b037-4bdf-8231-a8bb32298b2f",
   "metadata": {
    "scrolled": true
   },
   "outputs": [
    {
     "name": "stdout",
     "output_type": "stream",
     "text": [
      "https://blog.naver.com/maylily_baby/223706808349\n",
      "https://blog.naver.com/lje1049/223679643524\n",
      "https://blog.naver.com/270design/223677277206\n",
      "https://blog.naver.com/0228jay/223566428518\n",
      "https://blog.naver.com/tinker_bell4/223674096057\n",
      "https://blog.naver.com/bebeto23/223712439895\n",
      "https://blog.naver.com/besisi1004/223590373932\n",
      "https://blog.naver.com/cheawhi/223660694759\n",
      "https://blog.naver.com/7112307/223666663414\n",
      "https://blog.naver.com/re14333/223677281816\n",
      "https://blog.naver.com/sosin279/223703912417\n",
      "https://blog.naver.com/lalahonghong/223628605257\n",
      "https://blog.naver.com/kkwrkdrk2/223693660666\n",
      "https://blog.naver.com/iclimb/223648184400\n",
      "https://blog.naver.com/reinadetrain/223660684989\n",
      "https://blog.naver.com/mybombom/223708661288\n",
      "https://blog.naver.com/kut_da_92/223558532889\n",
      "https://blog.naver.com/coconeldeco/223698245564\n",
      "https://blog.naver.com/vitaminlala/223709633541\n",
      "https://blog.naver.com/kimhjz1/223702997310\n",
      "https://blog.naver.com/fevernova22/223649736167\n",
      "https://blog.naver.com/besisi1004/223694939381\n",
      "https://blog.naver.com/zooty7979/223707832732\n",
      "https://blog.naver.com/k9149/223690081831\n",
      "https://blog.naver.com/whwlsgml1/223709672220\n",
      "https://blog.naver.com/kkwrkdrk2/223679168806\n",
      "https://blog.naver.com/theo_philus/223505759629\n",
      "https://blog.naver.com/yb950619/223586098597\n",
      "https://blog.naver.com/mybombom/223625512043\n",
      "https://blog.naver.com/tinker_bell4/223657409672\n",
      "https://blog.naver.com/si_hyunni/223569061343\n",
      "https://blog.naver.com/reinadetrain/223657698285\n",
      "https://blog.naver.com/kkikill/223678777230\n",
      "https://blog.naver.com/iclimb/223706002519\n",
      "https://blog.naver.com/besisi1004/223707355031\n",
      "https://blog.naver.com/mrcoolmmg/223689490036\n",
      "https://blog.naver.com/k9149/223630808558\n",
      "https://blog.naver.com/sarosalmon/223651933760\n",
      "https://blog.naver.com/limhyunae/223651450466\n",
      "https://blog.naver.com/nocoi/223683451024\n",
      "https://blog.naver.com/rn1811/223690816558\n",
      "https://blog.naver.com/eunae7762/223695316030\n",
      "https://blog.naver.com/tinker_bell4/223697563926\n",
      "https://blog.naver.com/kuckhee/223692241109\n",
      "https://blog.naver.com/dmsdud0731/223522160443\n",
      "https://blog.naver.com/nnuuuuuna/223573191811\n",
      "https://blog.naver.com/lje1049/223555576876\n",
      "https://blog.naver.com/besisi1004/223657962233\n",
      "https://blog.naver.com/luckfellow/223646686359\n",
      "https://blog.naver.com/alice960202/223686288752\n",
      "https://blog.naver.com/k9149/223648287830\n",
      "https://blog.naver.com/tlsflfkd/223512634387\n",
      "https://blog.naver.com/gjs3052_/223588004652\n",
      "https://blog.naver.com/sangah0627/223578377471\n",
      "https://blog.naver.com/coffee1512/223627881662\n",
      "https://blog.naver.com/ddalkijy/223689814352\n",
      "https://blog.naver.com/coralpinky/223699377087\n",
      "https://blog.naver.com/bebrightyou/223626305537\n",
      "https://blog.naver.com/hbaroong/223664763358\n",
      "https://blog.naver.com/shyeo93/223593611249\n",
      "https://blog.naver.com/angela-house/223700411379\n",
      "https://blog.naver.com/weesama20/223573151302\n",
      "https://blog.naver.com/turn_left/223678312315\n",
      "https://blog.naver.com/winery2/223689194737\n",
      "https://blog.naver.com/kkwrkdrk2/223522295532\n",
      "https://blog.naver.com/mrcoolmmg/223659928219\n",
      "https://blog.naver.com/tkfkddl345/223695823070\n",
      "https://blog.naver.com/shssyi/223704028648\n",
      "https://blog.naver.com/azaz0926/223689312548\n",
      "https://blog.naver.com/man4189/223664934430\n",
      "https://blog.naver.com/twooink/223684533327\n",
      "https://blog.naver.com/peonyroy/223681881580\n",
      "https://blog.naver.com/gucci9511/223684926797\n",
      "https://blog.naver.com/smy2166/223683665452\n",
      "https://blog.naver.com/sovely_mom/223631402933\n",
      "https://blog.naver.com/vitaminlala/223704406762\n",
      "https://blog.naver.com/cksal0778/223708042341\n",
      "https://blog.naver.com/hbaroong/223628040128\n",
      "https://blog.naver.com/dreamsoone/223685989506\n",
      "https://blog.naver.com/jenuhome/223694513764\n",
      "https://blog.naver.com/sugeun7721/223657525040\n",
      "https://blog.naver.com/ahn8384/223680019448\n",
      "https://blog.naver.com/gkwlgp91/223539911545\n",
      "https://blog.naver.com/lje1049/223554546818\n",
      "https://blog.naver.com/myth731/223682434592\n",
      "https://blog.naver.com/eyeslock1/223707697949\n",
      "https://blog.naver.com/haji0127/223590521885\n",
      "https://blog.naver.com/moonbabyangel/223708785608\n",
      "https://blog.naver.com/iamlanie/223591893818\n",
      "https://blog.naver.com/ghdfla0209/223692579569\n",
      "https://blog.naver.com/rlxo0088/223556089046\n",
      "https://blog.naver.com/hatnimmmmm/223683823320\n",
      "https://blog.naver.com/besisi1004/223673187200\n",
      "https://blog.naver.com/tae80ho/223650764281\n",
      "https://blog.naver.com/thebomeye/223613583326\n",
      "https://blog.naver.com/kps7942/223647548793\n",
      "https://blog.naver.com/01198916129/223695604704\n",
      "https://blog.naver.com/klmesh312610/223704684111\n",
      "https://blog.naver.com/lemoniaa91/223604491385\n",
      "https://blog.naver.com/hy_hu/223699652089\n",
      "https://blog.naver.com/1star2/223544488724\n",
      "https://blog.naver.com/rocolife/223512039179\n",
      "https://blog.naver.com/zjalxm/223676351560\n",
      "https://blog.naver.com/sirius18/223668270315\n",
      "https://blog.naver.com/shssyi/223666471907\n",
      "https://blog.naver.com/hms080315/223635340017\n",
      "https://blog.naver.com/270design/223676114834\n",
      "https://blog.naver.com/thriple/223683608144\n",
      "https://blog.naver.com/well_being_health/223659083476\n",
      "https://blog.naver.com/yupoint/223691391406\n",
      "https://blog.naver.com/design_gaon_/223650644970\n",
      "https://blog.naver.com/kma4438/223573169661\n",
      "https://blog.naver.com/mjc2262/223640032515\n",
      "https://blog.naver.com/guard100/223618615122\n",
      "https://blog.naver.com/betty6649/223605347179\n",
      "https://blog.naver.com/lty2054/223637483438\n",
      "https://blog.naver.com/fevernova22/223572380895\n",
      "https://blog.naver.com/goldjin__/223664898550\n",
      "https://blog.naver.com/danielish/223597715270\n",
      "https://blog.naver.com/stevenlove/223614728124\n"
     ]
    },
    {
     "data": {
      "text/plain": [
       "['https://blog.naver.com/maylily_baby/223706808349',\n",
       " 'https://blog.naver.com/lje1049/223679643524',\n",
       " 'https://blog.naver.com/270design/223677277206',\n",
       " 'https://blog.naver.com/0228jay/223566428518',\n",
       " 'https://blog.naver.com/tinker_bell4/223674096057',\n",
       " 'https://blog.naver.com/bebeto23/223712439895',\n",
       " 'https://blog.naver.com/besisi1004/223590373932',\n",
       " 'https://blog.naver.com/cheawhi/223660694759',\n",
       " 'https://blog.naver.com/7112307/223666663414',\n",
       " 'https://blog.naver.com/re14333/223677281816',\n",
       " 'https://blog.naver.com/sosin279/223703912417',\n",
       " 'https://blog.naver.com/lalahonghong/223628605257',\n",
       " 'https://blog.naver.com/kkwrkdrk2/223693660666',\n",
       " 'https://blog.naver.com/iclimb/223648184400',\n",
       " 'https://blog.naver.com/reinadetrain/223660684989',\n",
       " 'https://blog.naver.com/mybombom/223708661288',\n",
       " 'https://blog.naver.com/kut_da_92/223558532889',\n",
       " 'https://blog.naver.com/coconeldeco/223698245564',\n",
       " 'https://blog.naver.com/vitaminlala/223709633541',\n",
       " 'https://blog.naver.com/kimhjz1/223702997310',\n",
       " 'https://blog.naver.com/fevernova22/223649736167',\n",
       " 'https://blog.naver.com/besisi1004/223694939381',\n",
       " 'https://blog.naver.com/zooty7979/223707832732',\n",
       " 'https://blog.naver.com/k9149/223690081831',\n",
       " 'https://blog.naver.com/whwlsgml1/223709672220',\n",
       " 'https://blog.naver.com/kkwrkdrk2/223679168806',\n",
       " 'https://blog.naver.com/theo_philus/223505759629',\n",
       " 'https://blog.naver.com/yb950619/223586098597',\n",
       " 'https://blog.naver.com/mybombom/223625512043',\n",
       " 'https://blog.naver.com/tinker_bell4/223657409672',\n",
       " 'https://blog.naver.com/si_hyunni/223569061343',\n",
       " 'https://blog.naver.com/reinadetrain/223657698285',\n",
       " 'https://blog.naver.com/kkikill/223678777230',\n",
       " 'https://blog.naver.com/iclimb/223706002519',\n",
       " 'https://blog.naver.com/besisi1004/223707355031',\n",
       " 'https://blog.naver.com/mrcoolmmg/223689490036',\n",
       " 'https://blog.naver.com/k9149/223630808558',\n",
       " 'https://blog.naver.com/sarosalmon/223651933760',\n",
       " 'https://blog.naver.com/limhyunae/223651450466',\n",
       " 'https://blog.naver.com/nocoi/223683451024',\n",
       " 'https://blog.naver.com/rn1811/223690816558',\n",
       " 'https://blog.naver.com/eunae7762/223695316030',\n",
       " 'https://blog.naver.com/tinker_bell4/223697563926',\n",
       " 'https://blog.naver.com/kuckhee/223692241109',\n",
       " 'https://blog.naver.com/dmsdud0731/223522160443',\n",
       " 'https://blog.naver.com/nnuuuuuna/223573191811',\n",
       " 'https://blog.naver.com/lje1049/223555576876',\n",
       " 'https://blog.naver.com/besisi1004/223657962233',\n",
       " 'https://blog.naver.com/luckfellow/223646686359',\n",
       " 'https://blog.naver.com/alice960202/223686288752',\n",
       " 'https://blog.naver.com/k9149/223648287830',\n",
       " 'https://blog.naver.com/tlsflfkd/223512634387',\n",
       " 'https://blog.naver.com/gjs3052_/223588004652',\n",
       " 'https://blog.naver.com/sangah0627/223578377471',\n",
       " 'https://blog.naver.com/coffee1512/223627881662',\n",
       " 'https://blog.naver.com/ddalkijy/223689814352',\n",
       " 'https://blog.naver.com/coralpinky/223699377087',\n",
       " 'https://blog.naver.com/bebrightyou/223626305537',\n",
       " 'https://blog.naver.com/hbaroong/223664763358',\n",
       " 'https://blog.naver.com/shyeo93/223593611249',\n",
       " 'https://blog.naver.com/angela-house/223700411379',\n",
       " 'https://blog.naver.com/weesama20/223573151302',\n",
       " 'https://blog.naver.com/turn_left/223678312315',\n",
       " 'https://blog.naver.com/winery2/223689194737',\n",
       " 'https://blog.naver.com/kkwrkdrk2/223522295532',\n",
       " 'https://blog.naver.com/mrcoolmmg/223659928219',\n",
       " 'https://blog.naver.com/tkfkddl345/223695823070',\n",
       " 'https://blog.naver.com/shssyi/223704028648',\n",
       " 'https://blog.naver.com/azaz0926/223689312548',\n",
       " 'https://blog.naver.com/man4189/223664934430',\n",
       " 'https://blog.naver.com/twooink/223684533327',\n",
       " 'https://blog.naver.com/peonyroy/223681881580',\n",
       " 'https://blog.naver.com/gucci9511/223684926797',\n",
       " 'https://blog.naver.com/smy2166/223683665452',\n",
       " 'https://blog.naver.com/sovely_mom/223631402933',\n",
       " 'https://blog.naver.com/vitaminlala/223704406762',\n",
       " 'https://blog.naver.com/cksal0778/223708042341',\n",
       " 'https://blog.naver.com/hbaroong/223628040128',\n",
       " 'https://blog.naver.com/dreamsoone/223685989506',\n",
       " 'https://blog.naver.com/jenuhome/223694513764',\n",
       " 'https://blog.naver.com/sugeun7721/223657525040',\n",
       " 'https://blog.naver.com/ahn8384/223680019448',\n",
       " 'https://blog.naver.com/gkwlgp91/223539911545',\n",
       " 'https://blog.naver.com/lje1049/223554546818',\n",
       " 'https://blog.naver.com/myth731/223682434592',\n",
       " 'https://blog.naver.com/eyeslock1/223707697949',\n",
       " 'https://blog.naver.com/haji0127/223590521885',\n",
       " 'https://blog.naver.com/moonbabyangel/223708785608',\n",
       " 'https://blog.naver.com/iamlanie/223591893818',\n",
       " 'https://blog.naver.com/ghdfla0209/223692579569',\n",
       " 'https://blog.naver.com/rlxo0088/223556089046',\n",
       " 'https://blog.naver.com/hatnimmmmm/223683823320',\n",
       " 'https://blog.naver.com/besisi1004/223673187200',\n",
       " 'https://blog.naver.com/tae80ho/223650764281',\n",
       " 'https://blog.naver.com/thebomeye/223613583326',\n",
       " 'https://blog.naver.com/kps7942/223647548793',\n",
       " 'https://blog.naver.com/01198916129/223695604704',\n",
       " 'https://blog.naver.com/klmesh312610/223704684111',\n",
       " 'https://blog.naver.com/lemoniaa91/223604491385',\n",
       " 'https://blog.naver.com/hy_hu/223699652089',\n",
       " 'https://blog.naver.com/1star2/223544488724',\n",
       " 'https://blog.naver.com/rocolife/223512039179',\n",
       " 'https://blog.naver.com/zjalxm/223676351560',\n",
       " 'https://blog.naver.com/sirius18/223668270315',\n",
       " 'https://blog.naver.com/shssyi/223666471907',\n",
       " 'https://blog.naver.com/hms080315/223635340017',\n",
       " 'https://blog.naver.com/270design/223676114834',\n",
       " 'https://blog.naver.com/thriple/223683608144',\n",
       " 'https://blog.naver.com/well_being_health/223659083476',\n",
       " 'https://blog.naver.com/yupoint/223691391406',\n",
       " 'https://blog.naver.com/design_gaon_/223650644970',\n",
       " 'https://blog.naver.com/kma4438/223573169661',\n",
       " 'https://blog.naver.com/mjc2262/223640032515',\n",
       " 'https://blog.naver.com/guard100/223618615122',\n",
       " 'https://blog.naver.com/betty6649/223605347179',\n",
       " 'https://blog.naver.com/lty2054/223637483438',\n",
       " 'https://blog.naver.com/fevernova22/223572380895',\n",
       " 'https://blog.naver.com/goldjin__/223664898550',\n",
       " 'https://blog.naver.com/danielish/223597715270',\n",
       " 'https://blog.naver.com/stevenlove/223614728124']"
      ]
     },
     "execution_count": 10,
     "metadata": {},
     "output_type": "execute_result"
    }
   ],
   "source": [
    "# 5. 조회된 블로그 게시글 URL 수집하여 리스트에 저장\n",
    "aTags = driver.find_elements(By.CSS_SELECTOR, 'a.title_link')\n",
    "len(aTags)\n",
    "\n",
    "href_list = []\n",
    "\n",
    "for a in aTags:\n",
    "    href = a.get_attribute('href')\n",
    "\n",
    "    # tistory, 이외 url 주소가 저장되지 않도록 조건 설정\n",
    "    if 'blog' in href:\n",
    "        print(href)\n",
    "        href_list.append(href)\n",
    "    \n",
    "\n",
    "href_list"
   ]
  },
  {
   "cell_type": "code",
   "execution_count": 11,
   "id": "19302424-9a86-4a37-bde6-77a6b8280d1c",
   "metadata": {},
   "outputs": [
    {
     "data": {
      "text/plain": [
       "120"
      ]
     },
     "execution_count": 11,
     "metadata": {},
     "output_type": "execute_result"
    }
   ],
   "source": [
    "len(href_list)"
   ]
  },
  {
   "cell_type": "markdown",
   "id": "270736ac-c370-4719-8c1f-52fd7b858b5a",
   "metadata": {},
   "source": [
    "### 코드 통합"
   ]
  },
  {
   "cell_type": "code",
   "execution_count": 15,
   "id": "4becb416-1afb-40f3-97ae-62ef1a5ee217",
   "metadata": {
    "scrolled": true
   },
   "outputs": [
    {
     "name": "stderr",
     "output_type": "stream",
     "text": [
      "  1%|          | 1/120 [00:00<01:53,  1.05it/s]"
     ]
    },
    {
     "name": "stdout",
     "output_type": "stream",
     "text": [
      "접속한 url: https://blog.naver.com/maylily_baby/223706808349\n"
     ]
    },
    {
     "name": "stderr",
     "output_type": "stream",
     "text": [
      "  2%|▏         | 2/120 [00:02<02:07,  1.08s/it]"
     ]
    },
    {
     "name": "stdout",
     "output_type": "stream",
     "text": [
      "접속한 url: https://blog.naver.com/lje1049/223679643524\n"
     ]
    },
    {
     "name": "stderr",
     "output_type": "stream",
     "text": [
      "  2%|▎         | 3/120 [00:02<01:51,  1.05it/s]"
     ]
    },
    {
     "name": "stdout",
     "output_type": "stream",
     "text": [
      "접속한 url: https://blog.naver.com/270design/223677277206\n",
      "접속한 url: https://blog.naver.com/0228jay/223566428518\n"
     ]
    },
    {
     "name": "stderr",
     "output_type": "stream",
     "text": [
      "  4%|▍         | 5/120 [00:04<01:43,  1.11it/s]"
     ]
    },
    {
     "name": "stdout",
     "output_type": "stream",
     "text": [
      "접속한 url: https://blog.naver.com/tinker_bell4/223674096057\n",
      "접속한 url: https://blog.naver.com/bebeto23/223712439895\n"
     ]
    },
    {
     "name": "stderr",
     "output_type": "stream",
     "text": [
      "  5%|▌         | 6/120 [00:05<01:42,  1.12it/s]"
     ]
    },
    {
     "name": "stdout",
     "output_type": "stream",
     "text": [
      "접속한 url: https://blog.naver.com/besisi1004/223590373932\n"
     ]
    },
    {
     "name": "stderr",
     "output_type": "stream",
     "text": [
      "  6%|▌         | 7/120 [00:06<01:43,  1.10it/s]"
     ]
    },
    {
     "name": "stdout",
     "output_type": "stream",
     "text": [
      "접속한 url: https://blog.naver.com/cheawhi/223660694759\n"
     ]
    },
    {
     "name": "stderr",
     "output_type": "stream",
     "text": [
      "  8%|▊         | 9/120 [00:08<01:52,  1.01s/it]"
     ]
    },
    {
     "name": "stdout",
     "output_type": "stream",
     "text": [
      "접속한 url: https://blog.naver.com/7112307/223666663414\n"
     ]
    },
    {
     "name": "stderr",
     "output_type": "stream",
     "text": [
      "  8%|▊         | 10/120 [00:09<01:46,  1.03it/s]"
     ]
    },
    {
     "name": "stdout",
     "output_type": "stream",
     "text": [
      "접속한 url: https://blog.naver.com/re14333/223677281816\n"
     ]
    },
    {
     "name": "stderr",
     "output_type": "stream",
     "text": [
      "  9%|▉         | 11/120 [00:10<01:40,  1.08it/s]"
     ]
    },
    {
     "name": "stdout",
     "output_type": "stream",
     "text": [
      "접속한 url: https://blog.naver.com/sosin279/223703912417\n",
      "접속한 url: https://blog.naver.com/lalahonghong/223628605257\n"
     ]
    },
    {
     "name": "stderr",
     "output_type": "stream",
     "text": [
      " 11%|█         | 13/120 [00:12<01:50,  1.04s/it]"
     ]
    },
    {
     "name": "stdout",
     "output_type": "stream",
     "text": [
      "접속한 url: https://blog.naver.com/kkwrkdrk2/223693660666\n"
     ]
    },
    {
     "name": "stderr",
     "output_type": "stream",
     "text": [
      " 12%|█▏        | 14/120 [00:13<01:43,  1.03it/s]"
     ]
    },
    {
     "name": "stdout",
     "output_type": "stream",
     "text": [
      "접속한 url: https://blog.naver.com/iclimb/223648184400\n",
      "접속한 url: https://blog.naver.com/reinadetrain/223660684989\n"
     ]
    },
    {
     "name": "stderr",
     "output_type": "stream",
     "text": [
      " 12%|█▎        | 15/120 [00:14<01:41,  1.04it/s]"
     ]
    },
    {
     "name": "stdout",
     "output_type": "stream",
     "text": [
      "접속한 url: https://blog.naver.com/mybombom/223708661288\n"
     ]
    },
    {
     "name": "stderr",
     "output_type": "stream",
     "text": [
      " 14%|█▍        | 17/120 [00:16<01:34,  1.09it/s]"
     ]
    },
    {
     "name": "stdout",
     "output_type": "stream",
     "text": [
      "접속한 url: https://blog.naver.com/kut_da_92/223558532889\n"
     ]
    },
    {
     "name": "stderr",
     "output_type": "stream",
     "text": [
      " 15%|█▌        | 18/120 [00:16<01:26,  1.18it/s]"
     ]
    },
    {
     "name": "stdout",
     "output_type": "stream",
     "text": [
      "접속한 url: https://blog.naver.com/coconeldeco/223698245564\n"
     ]
    },
    {
     "name": "stderr",
     "output_type": "stream",
     "text": [
      " 16%|█▌        | 19/120 [00:17<01:28,  1.14it/s]"
     ]
    },
    {
     "name": "stdout",
     "output_type": "stream",
     "text": [
      "접속한 url: https://blog.naver.com/vitaminlala/223709633541\n",
      "접속한 url: https://blog.naver.com/kimhjz1/223702997310\n"
     ]
    },
    {
     "name": "stderr",
     "output_type": "stream",
     "text": [
      " 17%|█▋        | 20/120 [00:19<01:36,  1.04it/s]"
     ]
    },
    {
     "name": "stdout",
     "output_type": "stream",
     "text": [
      "접속한 url: https://blog.naver.com/fevernova22/223649736167\n"
     ]
    },
    {
     "name": "stderr",
     "output_type": "stream",
     "text": [
      " 18%|█▊        | 21/120 [00:20<01:36,  1.02it/s]"
     ]
    },
    {
     "name": "stdout",
     "output_type": "stream",
     "text": [
      "접속한 url: https://blog.naver.com/besisi1004/223694939381\n"
     ]
    },
    {
     "name": "stderr",
     "output_type": "stream",
     "text": [
      " 19%|█▉        | 23/120 [00:22<01:42,  1.06s/it]"
     ]
    },
    {
     "name": "stdout",
     "output_type": "stream",
     "text": [
      "접속한 url: https://blog.naver.com/zooty7979/223707832732\n"
     ]
    },
    {
     "name": "stderr",
     "output_type": "stream",
     "text": [
      " 20%|██        | 24/120 [00:23<01:34,  1.02it/s]"
     ]
    },
    {
     "name": "stdout",
     "output_type": "stream",
     "text": [
      "접속한 url: https://blog.naver.com/k9149/223690081831\n"
     ]
    },
    {
     "name": "stderr",
     "output_type": "stream",
     "text": [
      " 21%|██        | 25/120 [00:23<01:29,  1.07it/s]"
     ]
    },
    {
     "name": "stdout",
     "output_type": "stream",
     "text": [
      "접속한 url: https://blog.naver.com/whwlsgml1/223709672220\n",
      "접속한 url: https://blog.naver.com/kkwrkdrk2/223679168806\n"
     ]
    },
    {
     "name": "stderr",
     "output_type": "stream",
     "text": [
      " 22%|██▏       | 26/120 [00:25<01:42,  1.09s/it]"
     ]
    },
    {
     "name": "stdout",
     "output_type": "stream",
     "text": [
      "접속한 url: https://blog.naver.com/theo_philus/223505759629\n"
     ]
    },
    {
     "name": "stderr",
     "output_type": "stream",
     "text": [
      " 23%|██▎       | 28/120 [00:27<01:33,  1.01s/it]"
     ]
    },
    {
     "name": "stdout",
     "output_type": "stream",
     "text": [
      "접속한 url: https://blog.naver.com/yb950619/223586098597\n"
     ]
    },
    {
     "name": "stderr",
     "output_type": "stream",
     "text": [
      " 24%|██▍       | 29/120 [00:27<01:19,  1.14it/s]"
     ]
    },
    {
     "name": "stdout",
     "output_type": "stream",
     "text": [
      "접속한 url: https://blog.naver.com/mybombom/223625512043\n"
     ]
    },
    {
     "name": "stderr",
     "output_type": "stream",
     "text": [
      " 25%|██▌       | 30/120 [00:28<01:19,  1.13it/s]"
     ]
    },
    {
     "name": "stdout",
     "output_type": "stream",
     "text": [
      "접속한 url: https://blog.naver.com/tinker_bell4/223657409672\n",
      "접속한 url: https://blog.naver.com/si_hyunni/223569061343\n"
     ]
    },
    {
     "name": "stderr",
     "output_type": "stream",
     "text": [
      " 26%|██▌       | 31/120 [00:29<01:24,  1.05it/s]"
     ]
    },
    {
     "name": "stdout",
     "output_type": "stream",
     "text": [
      "접속한 url: https://blog.naver.com/reinadetrain/223657698285\n"
     ]
    },
    {
     "name": "stderr",
     "output_type": "stream",
     "text": [
      " 28%|██▊       | 33/120 [00:31<01:22,  1.05it/s]"
     ]
    },
    {
     "name": "stdout",
     "output_type": "stream",
     "text": [
      "접속한 url: https://blog.naver.com/kkikill/223678777230\n",
      "접속한 url: https://blog.naver.com/iclimb/223706002519\n"
     ]
    },
    {
     "name": "stderr",
     "output_type": "stream",
     "text": [
      " 28%|██▊       | 34/120 [00:32<01:21,  1.06it/s]"
     ]
    },
    {
     "name": "stdout",
     "output_type": "stream",
     "text": [
      "접속한 url: https://blog.naver.com/besisi1004/223707355031\n"
     ]
    },
    {
     "name": "stderr",
     "output_type": "stream",
     "text": [
      " 30%|███       | 36/120 [00:34<01:16,  1.10it/s]"
     ]
    },
    {
     "name": "stdout",
     "output_type": "stream",
     "text": [
      "접속한 url: https://blog.naver.com/mrcoolmmg/223689490036\n",
      "접속한 url: https://blog.naver.com/k9149/223630808558\n"
     ]
    },
    {
     "name": "stderr",
     "output_type": "stream",
     "text": [
      " 32%|███▏      | 38/120 [00:36<01:10,  1.17it/s]"
     ]
    },
    {
     "name": "stdout",
     "output_type": "stream",
     "text": [
      "접속한 url: https://blog.naver.com/sarosalmon/223651933760\n",
      "접속한 url: https://blog.naver.com/limhyunae/223651450466\n"
     ]
    },
    {
     "name": "stderr",
     "output_type": "stream",
     "text": [
      " 32%|███▎      | 39/120 [00:37<01:08,  1.18it/s]"
     ]
    },
    {
     "name": "stdout",
     "output_type": "stream",
     "text": [
      "접속한 url: https://blog.naver.com/nocoi/223683451024\n"
     ]
    },
    {
     "name": "stderr",
     "output_type": "stream",
     "text": [
      " 34%|███▍      | 41/120 [00:39<01:19,  1.00s/it]"
     ]
    },
    {
     "name": "stdout",
     "output_type": "stream",
     "text": [
      "접속한 url: https://blog.naver.com/rn1811/223690816558\n"
     ]
    },
    {
     "name": "stderr",
     "output_type": "stream",
     "text": [
      " 35%|███▌      | 42/120 [00:40<01:20,  1.04s/it]"
     ]
    },
    {
     "name": "stdout",
     "output_type": "stream",
     "text": [
      "접속한 url: https://blog.naver.com/eunae7762/223695316030\n",
      "접속한 url: https://blog.naver.com/tinker_bell4/223697563926\n"
     ]
    },
    {
     "name": "stderr",
     "output_type": "stream",
     "text": [
      " 37%|███▋      | 44/120 [00:42<01:23,  1.09s/it]"
     ]
    },
    {
     "name": "stdout",
     "output_type": "stream",
     "text": [
      "접속한 url: https://blog.naver.com/kuckhee/223692241109\n"
     ]
    },
    {
     "name": "stderr",
     "output_type": "stream",
     "text": [
      " 38%|███▊      | 45/120 [00:43<01:16,  1.02s/it]"
     ]
    },
    {
     "name": "stdout",
     "output_type": "stream",
     "text": [
      "접속한 url: https://blog.naver.com/dmsdud0731/223522160443\n",
      "접속한 url: https://blog.naver.com/nnuuuuuna/223573191811\n"
     ]
    },
    {
     "name": "stderr",
     "output_type": "stream",
     "text": [
      " 38%|███▊      | 46/120 [00:45<01:23,  1.13s/it]"
     ]
    },
    {
     "name": "stdout",
     "output_type": "stream",
     "text": [
      "접속한 url: https://blog.naver.com/lje1049/223555576876\n"
     ]
    },
    {
     "name": "stderr",
     "output_type": "stream",
     "text": [
      " 39%|███▉      | 47/120 [00:46<01:23,  1.14s/it]"
     ]
    },
    {
     "name": "stdout",
     "output_type": "stream",
     "text": [
      "접속한 url: https://blog.naver.com/besisi1004/223657962233\n"
     ]
    },
    {
     "name": "stderr",
     "output_type": "stream",
     "text": [
      " 40%|████      | 48/120 [00:46<01:12,  1.01s/it]"
     ]
    },
    {
     "name": "stdout",
     "output_type": "stream",
     "text": [
      "접속한 url: https://blog.naver.com/luckfellow/223646686359\n"
     ]
    },
    {
     "name": "stderr",
     "output_type": "stream",
     "text": [
      " 41%|████      | 49/120 [00:47<01:10,  1.00it/s]"
     ]
    },
    {
     "name": "stdout",
     "output_type": "stream",
     "text": [
      "접속한 url: https://blog.naver.com/alice960202/223686288752\n"
     ]
    },
    {
     "name": "stderr",
     "output_type": "stream",
     "text": [
      " 42%|████▏     | 50/120 [00:49<01:25,  1.22s/it]"
     ]
    },
    {
     "name": "stdout",
     "output_type": "stream",
     "text": [
      "접속한 url: https://blog.naver.com/k9149/223648287830\n"
     ]
    },
    {
     "name": "stderr",
     "output_type": "stream",
     "text": [
      " 43%|████▎     | 52/120 [00:51<01:14,  1.09s/it]"
     ]
    },
    {
     "name": "stdout",
     "output_type": "stream",
     "text": [
      "접속한 url: https://blog.naver.com/tlsflfkd/223512634387\n",
      "접속한 url: https://blog.naver.com/gjs3052_/223588004652\n"
     ]
    },
    {
     "name": "stderr",
     "output_type": "stream",
     "text": [
      " 44%|████▍     | 53/120 [00:53<01:22,  1.23s/it]"
     ]
    },
    {
     "name": "stdout",
     "output_type": "stream",
     "text": [
      "접속한 url: https://blog.naver.com/sangah0627/223578377471\n"
     ]
    },
    {
     "name": "stderr",
     "output_type": "stream",
     "text": [
      " 46%|████▌     | 55/120 [00:55<01:19,  1.22s/it]"
     ]
    },
    {
     "name": "stdout",
     "output_type": "stream",
     "text": [
      "접속한 url: https://blog.naver.com/coffee1512/223627881662\n",
      "접속한 url: https://blog.naver.com/ddalkijy/223689814352\n"
     ]
    },
    {
     "name": "stderr",
     "output_type": "stream",
     "text": [
      " 48%|████▊     | 57/120 [00:57<01:04,  1.03s/it]"
     ]
    },
    {
     "name": "stdout",
     "output_type": "stream",
     "text": [
      "접속한 url: https://blog.naver.com/coralpinky/223699377087\n",
      "접속한 url: https://blog.naver.com/bebrightyou/223626305537\n"
     ]
    },
    {
     "name": "stderr",
     "output_type": "stream",
     "text": [
      " 49%|████▉     | 59/120 [00:59<01:06,  1.09s/it]"
     ]
    },
    {
     "name": "stdout",
     "output_type": "stream",
     "text": [
      "접속한 url: https://blog.naver.com/hbaroong/223664763358\n"
     ]
    },
    {
     "name": "stderr",
     "output_type": "stream",
     "text": [
      " 50%|█████     | 60/120 [01:00<01:06,  1.11s/it]"
     ]
    },
    {
     "name": "stdout",
     "output_type": "stream",
     "text": [
      "접속한 url: https://blog.naver.com/shyeo93/223593611249\n"
     ]
    },
    {
     "name": "stderr",
     "output_type": "stream",
     "text": [
      " 51%|█████     | 61/120 [01:01<01:02,  1.06s/it]"
     ]
    },
    {
     "name": "stdout",
     "output_type": "stream",
     "text": [
      "접속한 url: https://blog.naver.com/angela-house/223700411379\n",
      "접속한 url: https://blog.naver.com/weesama20/223573151302\n"
     ]
    },
    {
     "name": "stderr",
     "output_type": "stream",
     "text": [
      " 52%|█████▏    | 62/120 [01:03<01:12,  1.26s/it]"
     ]
    },
    {
     "name": "stdout",
     "output_type": "stream",
     "text": [
      "접속한 url: https://blog.naver.com/turn_left/223678312315\n"
     ]
    },
    {
     "name": "stderr",
     "output_type": "stream",
     "text": [
      " 52%|█████▎    | 63/120 [01:04<01:10,  1.24s/it]"
     ]
    },
    {
     "name": "stdout",
     "output_type": "stream",
     "text": [
      "접속한 url: https://blog.naver.com/winery2/223689194737\n"
     ]
    },
    {
     "name": "stderr",
     "output_type": "stream",
     "text": [
      " 54%|█████▍    | 65/120 [01:06<01:00,  1.10s/it]"
     ]
    },
    {
     "name": "stdout",
     "output_type": "stream",
     "text": [
      "접속한 url: https://blog.naver.com/kkwrkdrk2/223522295532\n",
      "접속한 url: https://blog.naver.com/mrcoolmmg/223659928219\n"
     ]
    },
    {
     "name": "stderr",
     "output_type": "stream",
     "text": [
      " 56%|█████▌    | 67/120 [01:08<00:56,  1.06s/it]"
     ]
    },
    {
     "name": "stdout",
     "output_type": "stream",
     "text": [
      "접속한 url: https://blog.naver.com/tkfkddl345/223695823070\n",
      "접속한 url: https://blog.naver.com/shssyi/223704028648\n"
     ]
    },
    {
     "name": "stderr",
     "output_type": "stream",
     "text": [
      " 57%|█████▊    | 69/120 [01:10<00:48,  1.05it/s]"
     ]
    },
    {
     "name": "stdout",
     "output_type": "stream",
     "text": [
      "접속한 url: https://blog.naver.com/azaz0926/223689312548\n",
      "접속한 url: https://blog.naver.com/man4189/223664934430\n"
     ]
    },
    {
     "name": "stderr",
     "output_type": "stream",
     "text": [
      " 59%|█████▉    | 71/120 [01:12<00:51,  1.05s/it]"
     ]
    },
    {
     "name": "stdout",
     "output_type": "stream",
     "text": [
      "접속한 url: https://blog.naver.com/twooink/223684533327\n",
      "접속한 url: https://blog.naver.com/peonyroy/223681881580\n"
     ]
    },
    {
     "name": "stderr",
     "output_type": "stream",
     "text": [
      " 60%|██████    | 72/120 [01:13<00:50,  1.05s/it]"
     ]
    },
    {
     "name": "stdout",
     "output_type": "stream",
     "text": [
      "접속한 url: https://blog.naver.com/gucci9511/223684926797\n"
     ]
    },
    {
     "name": "stderr",
     "output_type": "stream",
     "text": [
      " 61%|██████    | 73/120 [01:15<00:50,  1.07s/it]"
     ]
    },
    {
     "name": "stdout",
     "output_type": "stream",
     "text": [
      "접속한 url: https://blog.naver.com/smy2166/223683665452\n"
     ]
    },
    {
     "name": "stderr",
     "output_type": "stream",
     "text": [
      " 62%|██████▏   | 74/120 [01:16<00:56,  1.22s/it]"
     ]
    },
    {
     "name": "stdout",
     "output_type": "stream",
     "text": [
      "접속한 url: https://blog.naver.com/sovely_mom/223631402933\n"
     ]
    },
    {
     "name": "stderr",
     "output_type": "stream",
     "text": [
      " 63%|██████▎   | 76/120 [01:18<00:50,  1.15s/it]"
     ]
    },
    {
     "name": "stdout",
     "output_type": "stream",
     "text": [
      "접속한 url: https://blog.naver.com/vitaminlala/223704406762\n",
      "접속한 url: https://blog.naver.com/cksal0778/223708042341\n"
     ]
    },
    {
     "name": "stderr",
     "output_type": "stream",
     "text": [
      " 64%|██████▍   | 77/120 [01:19<00:49,  1.15s/it]"
     ]
    },
    {
     "name": "stdout",
     "output_type": "stream",
     "text": [
      "접속한 url: https://blog.naver.com/hbaroong/223628040128\n"
     ]
    },
    {
     "name": "stderr",
     "output_type": "stream",
     "text": [
      " 65%|██████▌   | 78/120 [01:21<00:49,  1.18s/it]"
     ]
    },
    {
     "name": "stdout",
     "output_type": "stream",
     "text": [
      "접속한 url: https://blog.naver.com/dreamsoone/223685989506\n"
     ]
    },
    {
     "name": "stderr",
     "output_type": "stream",
     "text": [
      " 66%|██████▌   | 79/120 [01:22<00:51,  1.26s/it]"
     ]
    },
    {
     "name": "stdout",
     "output_type": "stream",
     "text": [
      "접속한 url: https://blog.naver.com/jenuhome/223694513764\n"
     ]
    },
    {
     "name": "stderr",
     "output_type": "stream",
     "text": [
      " 68%|██████▊   | 81/120 [01:24<00:43,  1.12s/it]"
     ]
    },
    {
     "name": "stdout",
     "output_type": "stream",
     "text": [
      "접속한 url: https://blog.naver.com/sugeun7721/223657525040\n"
     ]
    },
    {
     "name": "stderr",
     "output_type": "stream",
     "text": [
      " 68%|██████▊   | 82/120 [01:25<00:39,  1.04s/it]"
     ]
    },
    {
     "name": "stdout",
     "output_type": "stream",
     "text": [
      "접속한 url: https://blog.naver.com/ahn8384/223680019448\n"
     ]
    },
    {
     "name": "stderr",
     "output_type": "stream",
     "text": [
      " 69%|██████▉   | 83/120 [01:26<00:37,  1.01s/it]"
     ]
    },
    {
     "name": "stdout",
     "output_type": "stream",
     "text": [
      "접속한 url: https://blog.naver.com/gkwlgp91/223539911545\n",
      "접속한 url: https://blog.naver.com/lje1049/223554546818\n"
     ]
    },
    {
     "name": "stderr",
     "output_type": "stream",
     "text": [
      " 71%|███████   | 85/120 [01:28<00:30,  1.14it/s]"
     ]
    },
    {
     "name": "stdout",
     "output_type": "stream",
     "text": [
      "접속한 url: https://blog.naver.com/myth731/223682434592\n"
     ]
    },
    {
     "name": "stderr",
     "output_type": "stream",
     "text": [
      " 72%|███████▏  | 86/120 [01:28<00:28,  1.19it/s]"
     ]
    },
    {
     "name": "stdout",
     "output_type": "stream",
     "text": [
      "접속한 url: https://blog.naver.com/eyeslock1/223707697949\n"
     ]
    },
    {
     "name": "stderr",
     "output_type": "stream",
     "text": [
      " 72%|███████▎  | 87/120 [01:29<00:26,  1.23it/s]"
     ]
    },
    {
     "name": "stdout",
     "output_type": "stream",
     "text": [
      "접속한 url: https://blog.naver.com/haji0127/223590521885\n",
      "접속한 url: https://blog.naver.com/moonbabyangel/223708785608\n"
     ]
    },
    {
     "name": "stderr",
     "output_type": "stream",
     "text": [
      " 74%|███████▍  | 89/120 [01:31<00:25,  1.20it/s]"
     ]
    },
    {
     "name": "stdout",
     "output_type": "stream",
     "text": [
      "접속한 url: https://blog.naver.com/iamlanie/223591893818\n",
      "접속한 url: https://blog.naver.com/ghdfla0209/223692579569\n"
     ]
    },
    {
     "name": "stderr",
     "output_type": "stream",
     "text": [
      " 75%|███████▌  | 90/120 [01:32<00:28,  1.07it/s]"
     ]
    },
    {
     "name": "stdout",
     "output_type": "stream",
     "text": [
      "접속한 url: https://blog.naver.com/rlxo0088/223556089046\n"
     ]
    },
    {
     "name": "stderr",
     "output_type": "stream",
     "text": [
      " 76%|███████▌  | 91/120 [01:33<00:29,  1.03s/it]"
     ]
    },
    {
     "name": "stdout",
     "output_type": "stream",
     "text": [
      "접속한 url: https://blog.naver.com/hatnimmmmm/223683823320\n"
     ]
    },
    {
     "name": "stderr",
     "output_type": "stream",
     "text": [
      " 78%|███████▊  | 93/120 [01:35<00:27,  1.03s/it]"
     ]
    },
    {
     "name": "stdout",
     "output_type": "stream",
     "text": [
      "접속한 url: https://blog.naver.com/besisi1004/223673187200\n",
      "접속한 url: https://blog.naver.com/tae80ho/223650764281\n"
     ]
    },
    {
     "name": "stderr",
     "output_type": "stream",
     "text": [
      " 79%|███████▉  | 95/120 [01:37<00:25,  1.03s/it]"
     ]
    },
    {
     "name": "stdout",
     "output_type": "stream",
     "text": [
      "접속한 url: https://blog.naver.com/thebomeye/223613583326\n",
      "접속한 url: https://blog.naver.com/kps7942/223647548793\n"
     ]
    },
    {
     "name": "stderr",
     "output_type": "stream",
     "text": [
      " 81%|████████  | 97/120 [01:40<00:24,  1.07s/it]"
     ]
    },
    {
     "name": "stdout",
     "output_type": "stream",
     "text": [
      "접속한 url: https://blog.naver.com/01198916129/223695604704\n"
     ]
    },
    {
     "name": "stderr",
     "output_type": "stream",
     "text": [
      " 82%|████████▏ | 98/120 [01:41<00:23,  1.07s/it]"
     ]
    },
    {
     "name": "stdout",
     "output_type": "stream",
     "text": [
      "접속한 url: https://blog.naver.com/klmesh312610/223704684111\n",
      "접속한 url: https://blog.naver.com/lemoniaa91/223604491385\n"
     ]
    },
    {
     "name": "stderr",
     "output_type": "stream",
     "text": [
      " 83%|████████▎ | 100/120 [01:43<00:21,  1.08s/it]"
     ]
    },
    {
     "name": "stdout",
     "output_type": "stream",
     "text": [
      "접속한 url: https://blog.naver.com/hy_hu/223699652089\n",
      "접속한 url: https://blog.naver.com/1star2/223544488724\n"
     ]
    },
    {
     "name": "stderr",
     "output_type": "stream",
     "text": [
      " 85%|████████▌ | 102/120 [01:45<00:19,  1.09s/it]"
     ]
    },
    {
     "name": "stdout",
     "output_type": "stream",
     "text": [
      "접속한 url: https://blog.naver.com/rocolife/223512039179\n"
     ]
    },
    {
     "name": "stderr",
     "output_type": "stream",
     "text": [
      " 86%|████████▌ | 103/120 [01:47<00:19,  1.15s/it]"
     ]
    },
    {
     "name": "stdout",
     "output_type": "stream",
     "text": [
      "접속한 url: https://blog.naver.com/zjalxm/223676351560\n",
      "접속한 url: https://blog.naver.com/sirius18/223668270315\n"
     ]
    },
    {
     "name": "stderr",
     "output_type": "stream",
     "text": [
      " 87%|████████▋ | 104/120 [01:48<00:17,  1.09s/it]"
     ]
    },
    {
     "name": "stdout",
     "output_type": "stream",
     "text": [
      "접속한 url: https://blog.naver.com/shssyi/223666471907\n"
     ]
    },
    {
     "name": "stderr",
     "output_type": "stream",
     "text": [
      " 88%|████████▊ | 106/120 [01:49<00:13,  1.00it/s]"
     ]
    },
    {
     "name": "stdout",
     "output_type": "stream",
     "text": [
      "접속한 url: https://blog.naver.com/hms080315/223635340017\n",
      "접속한 url: https://blog.naver.com/270design/223676114834\n"
     ]
    },
    {
     "name": "stderr",
     "output_type": "stream",
     "text": [
      " 90%|█████████ | 108/120 [01:51<00:10,  1.10it/s]"
     ]
    },
    {
     "name": "stdout",
     "output_type": "stream",
     "text": [
      "접속한 url: https://blog.naver.com/thriple/223683608144\n"
     ]
    },
    {
     "name": "stderr",
     "output_type": "stream",
     "text": [
      " 91%|█████████ | 109/120 [01:52<00:09,  1.16it/s]"
     ]
    },
    {
     "name": "stdout",
     "output_type": "stream",
     "text": [
      "접속한 url: https://blog.naver.com/well_being_health/223659083476\n",
      "접속한 url: https://blog.naver.com/yupoint/223691391406\n"
     ]
    },
    {
     "name": "stderr",
     "output_type": "stream",
     "text": [
      " 92%|█████████▎| 111/120 [01:54<00:07,  1.17it/s]"
     ]
    },
    {
     "name": "stdout",
     "output_type": "stream",
     "text": [
      "접속한 url: https://blog.naver.com/design_gaon_/223650644970\n"
     ]
    },
    {
     "name": "stderr",
     "output_type": "stream",
     "text": [
      " 93%|█████████▎| 112/120 [01:54<00:06,  1.20it/s]"
     ]
    },
    {
     "name": "stdout",
     "output_type": "stream",
     "text": [
      "접속한 url: https://blog.naver.com/kma4438/223573169661\n"
     ]
    },
    {
     "name": "stderr",
     "output_type": "stream",
     "text": [
      " 94%|█████████▍| 113/120 [01:55<00:05,  1.32it/s]"
     ]
    },
    {
     "name": "stdout",
     "output_type": "stream",
     "text": [
      "접속한 url: https://blog.naver.com/mjc2262/223640032515\n"
     ]
    },
    {
     "name": "stderr",
     "output_type": "stream",
     "text": [
      " 95%|█████████▌| 114/120 [01:56<00:04,  1.28it/s]"
     ]
    },
    {
     "name": "stdout",
     "output_type": "stream",
     "text": [
      "접속한 url: https://blog.naver.com/guard100/223618615122\n",
      "접속한 url: https://blog.naver.com/betty6649/223605347179\n"
     ]
    },
    {
     "name": "stderr",
     "output_type": "stream",
     "text": [
      " 97%|█████████▋| 116/120 [01:58<00:04,  1.04s/it]"
     ]
    },
    {
     "name": "stdout",
     "output_type": "stream",
     "text": [
      "접속한 url: https://blog.naver.com/lty2054/223637483438\n",
      "접속한 url: https://blog.naver.com/fevernova22/223572380895\n"
     ]
    },
    {
     "name": "stderr",
     "output_type": "stream",
     "text": [
      " 98%|█████████▊| 117/120 [01:59<00:03,  1.03s/it]"
     ]
    },
    {
     "name": "stdout",
     "output_type": "stream",
     "text": [
      "접속한 url: https://blog.naver.com/goldjin__/223664898550\n"
     ]
    },
    {
     "name": "stderr",
     "output_type": "stream",
     "text": [
      " 98%|█████████▊| 118/120 [02:00<00:01,  1.03it/s]"
     ]
    },
    {
     "name": "stdout",
     "output_type": "stream",
     "text": [
      "접속한 url: https://blog.naver.com/danielish/223597715270\n"
     ]
    },
    {
     "name": "stderr",
     "output_type": "stream",
     "text": [
      "100%|██████████| 120/120 [02:02<00:00,  1.02s/it]"
     ]
    },
    {
     "name": "stdout",
     "output_type": "stream",
     "text": [
      "접속한 url: https://blog.naver.com/stevenlove/223614728124\n"
     ]
    },
    {
     "name": "stderr",
     "output_type": "stream",
     "text": [
      "\n"
     ]
    }
   ],
   "source": [
    "#6. 리스트&반복문을 활용하여 페이지 요청\n",
    "# -  블로그 게시글 수집(반복수행)\n",
    "# -  텍스트 파일에 저장(반복수행)\n",
    "\n",
    "f = open('네이버 블로그 게시글 데이터.txt', 'w')\n",
    "\n",
    "for i in tqdm(range(120)):\n",
    "    driver.get(href_list[i])\n",
    "\n",
    "    driver.implicitly_wait(2)\n",
    "\n",
    "    driver.switch_to.frame('mainFrame')\n",
    "\n",
    "    print('접속한 url:', href_list[i])\n",
    "\n",
    "    try:\n",
    "        blog_content = driver.find_element(By.CLASS_NAME, 'se-main-container')\n",
    "    except:\n",
    "        blog_content = driver.find_element(By.CLASS_NAME, '.se-component-wrap.sect-dsc')\n",
    "    \n",
    "    content = preprocess_sentence_kr(blog_content.text)\n",
    "    \n",
    "    f.write(content + '\\n\\n')\n",
    "f.close()"
   ]
  },
  {
   "cell_type": "code",
   "execution_count": 16,
   "id": "4d3ae94c-2a89-418b-9601-ea5945b4fba9",
   "metadata": {},
   "outputs": [],
   "source": [
    "f = open('네이버 블로그 게시글 데이터.txt','r')\n",
    "text = f.readline()\n",
    "f.close()"
   ]
  },
  {
   "cell_type": "code",
   "execution_count": 17,
   "id": "291297f9-3a32-4061-962e-ba92f32a6d2f",
   "metadata": {},
   "outputs": [],
   "source": [
    "from kiwipiepy import Kiwi\n",
    "\n",
    "kiwi = Kiwi()"
   ]
  },
  {
   "cell_type": "code",
   "execution_count": 18,
   "id": "eb54f1a6-a9f6-4c89-9d52-075bff4582b8",
   "metadata": {},
   "outputs": [],
   "source": [
    "result = kiwi.tokenize(text)"
   ]
  },
  {
   "cell_type": "code",
   "execution_count": 19,
   "id": "907eb875-325e-4c6f-9c64-c22e15cd1ab3",
   "metadata": {},
   "outputs": [],
   "source": [
    "noun_list = []\n",
    "\n",
    "for token in result:\n",
    "    # 리스트 내 있는 요소와 일치한 값인지 판단\n",
    "    if token.tag in ['NNG','NNP']: \n",
    "        # print(token)\n",
    "        noun_list.append(token.form)"
   ]
  },
  {
   "cell_type": "code",
   "execution_count": 20,
   "id": "aa821ddc-26d8-431f-b731-894d3d1d7cca",
   "metadata": {},
   "outputs": [],
   "source": [
    "# 단어 빈도를 카운팅하는 작업\n",
    "from collections import Counter"
   ]
  },
  {
   "cell_type": "code",
   "execution_count": 21,
   "id": "de3421af-4da4-476b-8e0c-b48c0b533796",
   "metadata": {},
   "outputs": [],
   "source": [
    "counter = Counter(noun_list)"
   ]
  },
  {
   "cell_type": "code",
   "execution_count": 22,
   "id": "6a8d068a-4633-4808-bc9b-b846e50eb30a",
   "metadata": {},
   "outputs": [],
   "source": [
    "# 2글자 이상의 명사를 새로운 리스트에 저장\n",
    "noun_list2 = []\n",
    "\n",
    "top_100_noun_list = counter.most_common(100)\n",
    "\n",
    "for noun in top_100_noun_list:\n",
    "    # print(len(noun[0]))\n",
    "\n",
    "    if len(noun[0]) > 1:\n",
    "        noun_list2.append(noun)"
   ]
  },
  {
   "cell_type": "code",
   "execution_count": 23,
   "id": "c2d550c8-cb37-48fa-ad4a-9df57b04f248",
   "metadata": {},
   "outputs": [],
   "source": [
    "# 워드클라우드를 그리기 위한 도구\n",
    "from wordcloud import WordCloud\n",
    "import matplotlib.pyplot as plt\n",
    "\n",
    "# mask 이미지를 만들기 위한 도구\n",
    "from PIL import Image\n",
    "import numpy as np"
   ]
  },
  {
   "cell_type": "code",
   "execution_count": 24,
   "id": "2e751465-7913-4a32-9e14-354bc02b2c7f",
   "metadata": {},
   "outputs": [],
   "source": [
    "wc = WordCloud(\n",
    "    font_path='C:/Windows/Fonts/malgunbd.ttf',\n",
    "    background_color='white',\n",
    "    width=700,\n",
    "    height=700,\n",
    "    colormap='spring',\n",
    ").generate_from_frequencies(dict(noun_list2))"
   ]
  },
  {
   "cell_type": "code",
   "execution_count": 25,
   "id": "a77e971a-801e-41be-a083-18b300985419",
   "metadata": {},
   "outputs": [
    {
     "data": {
      "image/png": "[encoded data removed]",
      "text/plain": [
       "<Figure size 640x480 with 1 Axes>"
      ]
     },
     "metadata": {},
     "output_type": "display_data"
    }
   ],
   "source": [
    "plt.imshow(wc)\n",
    "plt.axis('off')\n",
    "plt.show()"
   ]
  }
 ],
 "metadata": {
  "kernelspec": {
   "display_name": "Python 3 (ipykernel)",
   "language": "python",
   "name": "python3"
  },
  "language_info": {
   "codemirror_mode": {
    "name": "ipython",
    "version": 3
   },
   "file_extension": ".py",
   "mimetype": "text/x-python",
   "name": "python",
   "nbconvert_exporter": "python",
   "pygments_lexer": "ipython3",
   "version": "3.12.3"
  }
 },
 "nbformat": 4,
 "nbformat_minor": 5
}
