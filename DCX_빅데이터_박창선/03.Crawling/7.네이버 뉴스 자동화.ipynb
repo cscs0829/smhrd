{
 "cells": [
  {
   "cell_type": "markdown",
   "id": "938ad8d6-aa5b-40cc-8a16-d247c1816275",
   "metadata": {},
   "source": [
    "# 동작 순서 \n",
    "1. 네이버 메인 페이지를 실행한 후, 검색 키워드 입력\n",
    "2. 검색된 페이지에서 \"뉴스\" 탭 클릭\n",
    "3. 조회된 페이지에서 뉴스 제목만 수집한 후 print()"
   ]
  },
  {
   "cell_type": "code",
   "execution_count": 121,
   "id": "325f5bc1-e0b0-4bf5-aa45-e3b04ec4b8c0",
   "metadata": {},
   "outputs": [],
   "source": [
    "# selenium을 사용하기 위한 3가지 라이브러리\n",
    "# 1.브라우저 실행, 및 정보를 보관하는 역할(필수)\n",
    "from selenium import webdriver as wb\n",
    "\n",
    "# 2.요소를 찾기(선택) 위한 도구를 제공하는 역할(필수) \n",
    "from selenium.webdriver.common.by import By\n",
    "\n",
    "# 3.컴퓨터 키보드의 값을 제공하는 역할(선택)\n",
    "from selenium.webdriver.common.keys import Keys"
   ]
  },
  {
   "cell_type": "code",
   "execution_count": 122,
   "id": "bf7c8bab-cd0f-4e00-8127-a4397b7c9c62",
   "metadata": {},
   "outputs": [],
   "source": [
    "# 1. 브라우저 실행\n",
    "# Chrome() 함수를 호출 시 테스트 브라우저가 실행\n",
    "# 매번 실행할 때마다 새로운 브라우저를 실행시키기 때문에\n",
    "# 1번만 실행되도록 할 것!\n",
    "driver = wb.Chrome()"
   ]
  },
  {
   "cell_type": "code",
   "execution_count": 123,
   "id": "6d84ef0b-c22c-48cf-b25b-53cc5d140cc0",
   "metadata": {},
   "outputs": [],
   "source": [
    "# 2.네이버 페이지를 요청!\n",
    "\n",
    "driver.get(\"https://www.naver.com\")"
   ]
  },
  {
   "cell_type": "code",
   "execution_count": 124,
   "id": "955493d8-52d9-4dd6-95be-9101bc1fe0ec",
   "metadata": {},
   "outputs": [],
   "source": [
    "query_input = driver.find_element(By.ID, \"query\")\n",
    "query_input.send_keys(\"런닝\\n\")"
   ]
  },
  {
   "cell_type": "code",
   "execution_count": 125,
   "id": "6a4e04c6-4f4c-41af-aca4-f787b2ab1cd7",
   "metadata": {},
   "outputs": [],
   "source": [
    "\n",
    "navs = driver.find_elements(By.CSS_SELECTOR, \"span.ico_nav\" )\n",
    "navs[1].click()"
   ]
  },
  {
   "cell_type": "code",
   "execution_count": 127,
   "id": "6c87ff4e-52b6-4cd1-9e88-81a6d8d00ef5",
   "metadata": {},
   "outputs": [],
   "source": [
    "\n",
    "tabs = driver.find_elements(By.CSS_SELECTOR, \"div > a.tab\")\n",
    "tabs[9].click()"
   ]
  },
  {
   "cell_type": "code",
   "execution_count": 128,
   "id": "37e80705-97d4-4e08-88fe-db24605655ce",
   "metadata": {},
   "outputs": [
    {
     "data": {
      "text/plain": [
       "10"
      ]
     },
     "execution_count": 128,
     "metadata": {},
     "output_type": "execute_result"
    }
   ],
   "source": [
    "news = driver.find_elements(By.CLASS_NAME,\"news_tit\")\n",
    "len(news)"
   ]
  },
  {
   "cell_type": "code",
   "execution_count": 129,
   "id": "f1bf1a85-0573-4a9c-889d-817686696e48",
   "metadata": {},
   "outputs": [
    {
     "data": {
      "text/plain": [
       "\"강훈, '런닝맨' 컴백…'썸녀' 지예은과 핑크빛 재회\""
      ]
     },
     "execution_count": 129,
     "metadata": {},
     "output_type": "execute_result"
    }
   ],
   "source": [
    "news[0].text"
   ]
  },
  {
   "cell_type": "code",
   "execution_count": 130,
   "id": "47afa1ca-b18a-47a8-9947-a6abc5b3a53d",
   "metadata": {},
   "outputs": [
    {
     "name": "stdout",
     "output_type": "stream",
     "text": [
      "강훈, '런닝맨' 컴백…'썸녀' 지예은과 핑크빛 재회\n",
      "크리스마스 선물 받은 SBS…기관의 이유있는 폭풍 순매수\n",
      "'런닝맨' 신입 멤버 지예은, 유쾌한 분위기와 활력 충전\n",
      "지예은, '런닝맨' 정식 멤버 됐다\n",
      "'런닝맨' 오늘(22일) 10분 일찍 만난다 '6시 방송'\n",
      "“런닝맨 보려고 OOO 사용했는데”…SBS, 디즈니 이어 넷플과 몸 키우자...\n",
      "내달부터 넷플서 런닝맨·그알 본다…SBS와 전략적 파트너십\n",
      "\"넷플에서 그알·런닝맨·꼬꼬무 본다\"…넷플릭스·SBS 협력\n",
      "넷플릭스 간 SBS '런닝맨', MBC서 보는 '무빙'\n",
      "지예은, 첫 1박 2일 촬영에 큐티뽀짝 잠옷패션 공개 (런닝맨)\n"
     ]
    }
   ],
   "source": [
    "for i in range(len(news)):\n",
    "    print(news[i].text)"
   ]
  }
 ],
 "metadata": {
  "kernelspec": {
   "display_name": "Python 3 (ipykernel)",
   "language": "python",
   "name": "python3"
  },
  "language_info": {
   "codemirror_mode": {
    "name": "ipython",
    "version": 3
   },
   "file_extension": ".py",
   "mimetype": "text/x-python",
   "name": "python",
   "nbconvert_exporter": "python",
   "pygments_lexer": "ipython3",
   "version": "3.12.3"
  }
 },
 "nbformat": 4,
 "nbformat_minor": 5
}
